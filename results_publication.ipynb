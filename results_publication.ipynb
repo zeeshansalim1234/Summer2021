{
  "nbformat": 4,
  "nbformat_minor": 0,
  "metadata": {
    "colab": {
      "name": "results_publication.ipynb",
      "provenance": [],
      "collapsed_sections": [
        "91KqzEZxMkjM",
        "MgiLDOr2l0js"
      ],
      "authorship_tag": "ABX9TyOwxMA3C4xP3hgRN4Bys27J",
      "include_colab_link": true
    },
    "kernelspec": {
      "name": "python3",
      "display_name": "Python 3"
    },
    "language_info": {
      "name": "python"
    }
  },
  "cells": [
    {
      "cell_type": "markdown",
      "metadata": {
        "id": "view-in-github",
        "colab_type": "text"
      },
      "source": [
        "<a href=\"https://colab.research.google.com/github/zeeshansalim1234/Summer2021/blob/main/results_publication.ipynb\" target=\"_parent\"><img src=\"https://colab.research.google.com/assets/colab-badge.svg\" alt=\"Open In Colab\"/></a>"
      ]
    },
    {
      "cell_type": "markdown",
      "metadata": {
        "id": "91KqzEZxMkjM"
      },
      "source": [
        "# Libraries"
      ]
    },
    {
      "cell_type": "code",
      "metadata": {
        "id": "cMEfSdwqzspf",
        "colab": {
          "base_uri": "https://localhost:8080/"
        },
        "outputId": "4c65e38a-4861-49f8-a1f4-301e42a76222"
      },
      "source": [
        "\n",
        "!pip install sentence-transformers\n",
        "!pip install tweepy\n",
        "!pip install bert-extractive-summarizer\n",
        "!pip install nltk\n",
        "!pip install google-cloud-vision"
      ],
      "execution_count": null,
      "outputs": [
        {
          "output_type": "stream",
          "name": "stdout",
          "text": [
            "Requirement already satisfied: sentence-transformers in /usr/local/lib/python3.7/dist-packages (2.0.0)\n",
            "Requirement already satisfied: numpy in /usr/local/lib/python3.7/dist-packages (from sentence-transformers) (1.19.5)\n",
            "Requirement already satisfied: torch>=1.6.0 in /usr/local/lib/python3.7/dist-packages (from sentence-transformers) (1.9.0+cu102)\n",
            "Requirement already satisfied: sentencepiece in /usr/local/lib/python3.7/dist-packages (from sentence-transformers) (0.1.96)\n",
            "Requirement already satisfied: huggingface-hub in /usr/local/lib/python3.7/dist-packages (from sentence-transformers) (0.0.16)\n",
            "Requirement already satisfied: scipy in /usr/local/lib/python3.7/dist-packages (from sentence-transformers) (1.4.1)\n",
            "Requirement already satisfied: tqdm in /usr/local/lib/python3.7/dist-packages (from sentence-transformers) (4.62.0)\n",
            "Requirement already satisfied: nltk in /usr/local/lib/python3.7/dist-packages (from sentence-transformers) (3.2.5)\n",
            "Requirement already satisfied: scikit-learn in /usr/local/lib/python3.7/dist-packages (from sentence-transformers) (0.22.2.post1)\n",
            "Requirement already satisfied: transformers<5.0.0,>=4.6.0 in /usr/local/lib/python3.7/dist-packages (from sentence-transformers) (4.10.0)\n",
            "Requirement already satisfied: torchvision in /usr/local/lib/python3.7/dist-packages (from sentence-transformers) (0.10.0+cu102)\n",
            "Requirement already satisfied: typing-extensions in /usr/local/lib/python3.7/dist-packages (from torch>=1.6.0->sentence-transformers) (3.7.4.3)\n",
            "Requirement already satisfied: filelock in /usr/local/lib/python3.7/dist-packages (from transformers<5.0.0,>=4.6.0->sentence-transformers) (3.0.12)\n",
            "Requirement already satisfied: tokenizers<0.11,>=0.10.1 in /usr/local/lib/python3.7/dist-packages (from transformers<5.0.0,>=4.6.0->sentence-transformers) (0.10.3)\n",
            "Requirement already satisfied: pyyaml>=5.1 in /usr/local/lib/python3.7/dist-packages (from transformers<5.0.0,>=4.6.0->sentence-transformers) (5.4.1)\n",
            "Requirement already satisfied: importlib-metadata in /usr/local/lib/python3.7/dist-packages (from transformers<5.0.0,>=4.6.0->sentence-transformers) (4.6.4)\n",
            "Requirement already satisfied: regex!=2019.12.17 in /usr/local/lib/python3.7/dist-packages (from transformers<5.0.0,>=4.6.0->sentence-transformers) (2019.12.20)\n",
            "Requirement already satisfied: sacremoses in /usr/local/lib/python3.7/dist-packages (from transformers<5.0.0,>=4.6.0->sentence-transformers) (0.0.45)\n",
            "Requirement already satisfied: packaging in /usr/local/lib/python3.7/dist-packages (from transformers<5.0.0,>=4.6.0->sentence-transformers) (21.0)\n",
            "Requirement already satisfied: requests in /usr/local/lib/python3.7/dist-packages (from transformers<5.0.0,>=4.6.0->sentence-transformers) (2.23.0)\n",
            "Requirement already satisfied: pyparsing>=2.0.2 in /usr/local/lib/python3.7/dist-packages (from packaging->transformers<5.0.0,>=4.6.0->sentence-transformers) (2.4.7)\n",
            "Requirement already satisfied: zipp>=0.5 in /usr/local/lib/python3.7/dist-packages (from importlib-metadata->transformers<5.0.0,>=4.6.0->sentence-transformers) (3.5.0)\n",
            "Requirement already satisfied: six in /usr/local/lib/python3.7/dist-packages (from nltk->sentence-transformers) (1.15.0)\n",
            "Requirement already satisfied: chardet<4,>=3.0.2 in /usr/local/lib/python3.7/dist-packages (from requests->transformers<5.0.0,>=4.6.0->sentence-transformers) (3.0.4)\n",
            "Requirement already satisfied: urllib3!=1.25.0,!=1.25.1,<1.26,>=1.21.1 in /usr/local/lib/python3.7/dist-packages (from requests->transformers<5.0.0,>=4.6.0->sentence-transformers) (1.24.3)\n",
            "Requirement already satisfied: certifi>=2017.4.17 in /usr/local/lib/python3.7/dist-packages (from requests->transformers<5.0.0,>=4.6.0->sentence-transformers) (2021.5.30)\n",
            "Requirement already satisfied: idna<3,>=2.5 in /usr/local/lib/python3.7/dist-packages (from requests->transformers<5.0.0,>=4.6.0->sentence-transformers) (2.10)\n",
            "Requirement already satisfied: click in /usr/local/lib/python3.7/dist-packages (from sacremoses->transformers<5.0.0,>=4.6.0->sentence-transformers) (7.1.2)\n",
            "Requirement already satisfied: joblib in /usr/local/lib/python3.7/dist-packages (from sacremoses->transformers<5.0.0,>=4.6.0->sentence-transformers) (1.0.1)\n",
            "Requirement already satisfied: pillow>=5.3.0 in /usr/local/lib/python3.7/dist-packages (from torchvision->sentence-transformers) (7.1.2)\n",
            "Requirement already satisfied: tweepy in /usr/local/lib/python3.7/dist-packages (3.10.0)\n",
            "Requirement already satisfied: requests[socks]>=2.11.1 in /usr/local/lib/python3.7/dist-packages (from tweepy) (2.23.0)\n",
            "Requirement already satisfied: requests-oauthlib>=0.7.0 in /usr/local/lib/python3.7/dist-packages (from tweepy) (1.3.0)\n",
            "Requirement already satisfied: six>=1.10.0 in /usr/local/lib/python3.7/dist-packages (from tweepy) (1.15.0)\n",
            "Requirement already satisfied: oauthlib>=3.0.0 in /usr/local/lib/python3.7/dist-packages (from requests-oauthlib>=0.7.0->tweepy) (3.1.1)\n",
            "Requirement already satisfied: certifi>=2017.4.17 in /usr/local/lib/python3.7/dist-packages (from requests[socks]>=2.11.1->tweepy) (2021.5.30)\n",
            "Requirement already satisfied: chardet<4,>=3.0.2 in /usr/local/lib/python3.7/dist-packages (from requests[socks]>=2.11.1->tweepy) (3.0.4)\n",
            "Requirement already satisfied: urllib3!=1.25.0,!=1.25.1,<1.26,>=1.21.1 in /usr/local/lib/python3.7/dist-packages (from requests[socks]>=2.11.1->tweepy) (1.24.3)\n",
            "Requirement already satisfied: idna<3,>=2.5 in /usr/local/lib/python3.7/dist-packages (from requests[socks]>=2.11.1->tweepy) (2.10)\n",
            "Requirement already satisfied: PySocks!=1.5.7,>=1.5.6 in /usr/local/lib/python3.7/dist-packages (from requests[socks]>=2.11.1->tweepy) (1.7.1)\n",
            "Requirement already satisfied: bert-extractive-summarizer in /usr/local/lib/python3.7/dist-packages (0.8.1)\n",
            "Requirement already satisfied: transformers in /usr/local/lib/python3.7/dist-packages (from bert-extractive-summarizer) (4.10.0)\n",
            "Requirement already satisfied: spacy in /usr/local/lib/python3.7/dist-packages (from bert-extractive-summarizer) (2.2.4)\n",
            "Requirement already satisfied: scikit-learn in /usr/local/lib/python3.7/dist-packages (from bert-extractive-summarizer) (0.22.2.post1)\n",
            "Requirement already satisfied: joblib>=0.11 in /usr/local/lib/python3.7/dist-packages (from scikit-learn->bert-extractive-summarizer) (1.0.1)\n",
            "Requirement already satisfied: numpy>=1.11.0 in /usr/local/lib/python3.7/dist-packages (from scikit-learn->bert-extractive-summarizer) (1.19.5)\n",
            "Requirement already satisfied: scipy>=0.17.0 in /usr/local/lib/python3.7/dist-packages (from scikit-learn->bert-extractive-summarizer) (1.4.1)\n",
            "Requirement already satisfied: murmurhash<1.1.0,>=0.28.0 in /usr/local/lib/python3.7/dist-packages (from spacy->bert-extractive-summarizer) (1.0.5)\n",
            "Requirement already satisfied: catalogue<1.1.0,>=0.0.7 in /usr/local/lib/python3.7/dist-packages (from spacy->bert-extractive-summarizer) (1.0.0)\n",
            "Requirement already satisfied: tqdm<5.0.0,>=4.38.0 in /usr/local/lib/python3.7/dist-packages (from spacy->bert-extractive-summarizer) (4.62.0)\n",
            "Requirement already satisfied: wasabi<1.1.0,>=0.4.0 in /usr/local/lib/python3.7/dist-packages (from spacy->bert-extractive-summarizer) (0.8.2)\n",
            "Requirement already satisfied: plac<1.2.0,>=0.9.6 in /usr/local/lib/python3.7/dist-packages (from spacy->bert-extractive-summarizer) (1.1.3)\n",
            "Requirement already satisfied: requests<3.0.0,>=2.13.0 in /usr/local/lib/python3.7/dist-packages (from spacy->bert-extractive-summarizer) (2.23.0)\n",
            "Requirement already satisfied: blis<0.5.0,>=0.4.0 in /usr/local/lib/python3.7/dist-packages (from spacy->bert-extractive-summarizer) (0.4.1)\n",
            "Requirement already satisfied: cymem<2.1.0,>=2.0.2 in /usr/local/lib/python3.7/dist-packages (from spacy->bert-extractive-summarizer) (2.0.5)\n",
            "Requirement already satisfied: setuptools in /usr/local/lib/python3.7/dist-packages (from spacy->bert-extractive-summarizer) (57.4.0)\n",
            "Requirement already satisfied: srsly<1.1.0,>=1.0.2 in /usr/local/lib/python3.7/dist-packages (from spacy->bert-extractive-summarizer) (1.0.5)\n",
            "Requirement already satisfied: preshed<3.1.0,>=3.0.2 in /usr/local/lib/python3.7/dist-packages (from spacy->bert-extractive-summarizer) (3.0.5)\n",
            "Requirement already satisfied: thinc==7.4.0 in /usr/local/lib/python3.7/dist-packages (from spacy->bert-extractive-summarizer) (7.4.0)\n",
            "Requirement already satisfied: importlib-metadata>=0.20 in /usr/local/lib/python3.7/dist-packages (from catalogue<1.1.0,>=0.0.7->spacy->bert-extractive-summarizer) (4.6.4)\n",
            "Requirement already satisfied: zipp>=0.5 in /usr/local/lib/python3.7/dist-packages (from importlib-metadata>=0.20->catalogue<1.1.0,>=0.0.7->spacy->bert-extractive-summarizer) (3.5.0)\n",
            "Requirement already satisfied: typing-extensions>=3.6.4 in /usr/local/lib/python3.7/dist-packages (from importlib-metadata>=0.20->catalogue<1.1.0,>=0.0.7->spacy->bert-extractive-summarizer) (3.7.4.3)\n",
            "Requirement already satisfied: chardet<4,>=3.0.2 in /usr/local/lib/python3.7/dist-packages (from requests<3.0.0,>=2.13.0->spacy->bert-extractive-summarizer) (3.0.4)\n",
            "Requirement already satisfied: certifi>=2017.4.17 in /usr/local/lib/python3.7/dist-packages (from requests<3.0.0,>=2.13.0->spacy->bert-extractive-summarizer) (2021.5.30)\n",
            "Requirement already satisfied: urllib3!=1.25.0,!=1.25.1,<1.26,>=1.21.1 in /usr/local/lib/python3.7/dist-packages (from requests<3.0.0,>=2.13.0->spacy->bert-extractive-summarizer) (1.24.3)\n",
            "Requirement already satisfied: idna<3,>=2.5 in /usr/local/lib/python3.7/dist-packages (from requests<3.0.0,>=2.13.0->spacy->bert-extractive-summarizer) (2.10)\n",
            "Requirement already satisfied: filelock in /usr/local/lib/python3.7/dist-packages (from transformers->bert-extractive-summarizer) (3.0.12)\n",
            "Requirement already satisfied: tokenizers<0.11,>=0.10.1 in /usr/local/lib/python3.7/dist-packages (from transformers->bert-extractive-summarizer) (0.10.3)\n",
            "Requirement already satisfied: huggingface-hub>=0.0.12 in /usr/local/lib/python3.7/dist-packages (from transformers->bert-extractive-summarizer) (0.0.16)\n",
            "Requirement already satisfied: regex!=2019.12.17 in /usr/local/lib/python3.7/dist-packages (from transformers->bert-extractive-summarizer) (2019.12.20)\n",
            "Requirement already satisfied: pyyaml>=5.1 in /usr/local/lib/python3.7/dist-packages (from transformers->bert-extractive-summarizer) (5.4.1)\n",
            "Requirement already satisfied: sacremoses in /usr/local/lib/python3.7/dist-packages (from transformers->bert-extractive-summarizer) (0.0.45)\n",
            "Requirement already satisfied: packaging in /usr/local/lib/python3.7/dist-packages (from transformers->bert-extractive-summarizer) (21.0)\n",
            "Requirement already satisfied: pyparsing>=2.0.2 in /usr/local/lib/python3.7/dist-packages (from packaging->transformers->bert-extractive-summarizer) (2.4.7)\n",
            "Requirement already satisfied: six in /usr/local/lib/python3.7/dist-packages (from sacremoses->transformers->bert-extractive-summarizer) (1.15.0)\n",
            "Requirement already satisfied: click in /usr/local/lib/python3.7/dist-packages (from sacremoses->transformers->bert-extractive-summarizer) (7.1.2)\n",
            "Requirement already satisfied: nltk in /usr/local/lib/python3.7/dist-packages (3.2.5)\n",
            "Requirement already satisfied: six in /usr/local/lib/python3.7/dist-packages (from nltk) (1.15.0)\n",
            "Requirement already satisfied: google-cloud-vision in /usr/local/lib/python3.7/dist-packages (2.4.2)\n",
            "Requirement already satisfied: packaging>=14.3 in /usr/local/lib/python3.7/dist-packages (from google-cloud-vision) (21.0)\n",
            "Requirement already satisfied: google-api-core[grpc]<3.0.0dev,>=1.26.0 in /usr/local/lib/python3.7/dist-packages (from google-cloud-vision) (1.26.3)\n",
            "Requirement already satisfied: proto-plus>=1.15.0 in /usr/local/lib/python3.7/dist-packages (from google-cloud-vision) (1.19.0)\n",
            "Requirement already satisfied: requests<3.0.0dev,>=2.18.0 in /usr/local/lib/python3.7/dist-packages (from google-api-core[grpc]<3.0.0dev,>=1.26.0->google-cloud-vision) (2.23.0)\n",
            "Requirement already satisfied: google-auth<2.0dev,>=1.21.1 in /usr/local/lib/python3.7/dist-packages (from google-api-core[grpc]<3.0.0dev,>=1.26.0->google-cloud-vision) (1.34.0)\n",
            "Requirement already satisfied: protobuf>=3.12.0 in /usr/local/lib/python3.7/dist-packages (from google-api-core[grpc]<3.0.0dev,>=1.26.0->google-cloud-vision) (3.17.3)\n",
            "Requirement already satisfied: setuptools>=40.3.0 in /usr/local/lib/python3.7/dist-packages (from google-api-core[grpc]<3.0.0dev,>=1.26.0->google-cloud-vision) (57.4.0)\n",
            "Requirement already satisfied: pytz in /usr/local/lib/python3.7/dist-packages (from google-api-core[grpc]<3.0.0dev,>=1.26.0->google-cloud-vision) (2018.9)\n",
            "Requirement already satisfied: googleapis-common-protos<2.0dev,>=1.6.0 in /usr/local/lib/python3.7/dist-packages (from google-api-core[grpc]<3.0.0dev,>=1.26.0->google-cloud-vision) (1.53.0)\n",
            "Requirement already satisfied: six>=1.13.0 in /usr/local/lib/python3.7/dist-packages (from google-api-core[grpc]<3.0.0dev,>=1.26.0->google-cloud-vision) (1.15.0)\n",
            "Requirement already satisfied: grpcio<2.0dev,>=1.29.0 in /usr/local/lib/python3.7/dist-packages (from google-api-core[grpc]<3.0.0dev,>=1.26.0->google-cloud-vision) (1.39.0)\n",
            "Requirement already satisfied: cachetools<5.0,>=2.0.0 in /usr/local/lib/python3.7/dist-packages (from google-auth<2.0dev,>=1.21.1->google-api-core[grpc]<3.0.0dev,>=1.26.0->google-cloud-vision) (4.2.2)\n",
            "Requirement already satisfied: rsa<5,>=3.1.4 in /usr/local/lib/python3.7/dist-packages (from google-auth<2.0dev,>=1.21.1->google-api-core[grpc]<3.0.0dev,>=1.26.0->google-cloud-vision) (4.7.2)\n",
            "Requirement already satisfied: pyasn1-modules>=0.2.1 in /usr/local/lib/python3.7/dist-packages (from google-auth<2.0dev,>=1.21.1->google-api-core[grpc]<3.0.0dev,>=1.26.0->google-cloud-vision) (0.2.8)\n",
            "Requirement already satisfied: pyparsing>=2.0.2 in /usr/local/lib/python3.7/dist-packages (from packaging>=14.3->google-cloud-vision) (2.4.7)\n",
            "Requirement already satisfied: pyasn1<0.5.0,>=0.4.6 in /usr/local/lib/python3.7/dist-packages (from pyasn1-modules>=0.2.1->google-auth<2.0dev,>=1.21.1->google-api-core[grpc]<3.0.0dev,>=1.26.0->google-cloud-vision) (0.4.8)\n",
            "Requirement already satisfied: chardet<4,>=3.0.2 in /usr/local/lib/python3.7/dist-packages (from requests<3.0.0dev,>=2.18.0->google-api-core[grpc]<3.0.0dev,>=1.26.0->google-cloud-vision) (3.0.4)\n",
            "Requirement already satisfied: idna<3,>=2.5 in /usr/local/lib/python3.7/dist-packages (from requests<3.0.0dev,>=2.18.0->google-api-core[grpc]<3.0.0dev,>=1.26.0->google-cloud-vision) (2.10)\n",
            "Requirement already satisfied: certifi>=2017.4.17 in /usr/local/lib/python3.7/dist-packages (from requests<3.0.0dev,>=2.18.0->google-api-core[grpc]<3.0.0dev,>=1.26.0->google-cloud-vision) (2021.5.30)\n",
            "Requirement already satisfied: urllib3!=1.25.0,!=1.25.1,<1.26,>=1.21.1 in /usr/local/lib/python3.7/dist-packages (from requests<3.0.0dev,>=2.18.0->google-api-core[grpc]<3.0.0dev,>=1.26.0->google-cloud-vision) (1.24.3)\n"
          ]
        }
      ]
    },
    {
      "cell_type": "code",
      "metadata": {
        "id": "faqwzaaTzzMB"
      },
      "source": [
        "import pandas as pd\n",
        "import json\n",
        "import os\n",
        "from sentence_transformers import SentenceTransformer, util\n",
        "from google.colab import drive\n",
        "import tweepy\n",
        "import re\n",
        "import os,io\n",
        "from google.cloud import vision\n",
        "from google.cloud.vision_v1 import types\n",
        "import pandas as pd\n",
        "import nltk\n",
        "import numpy as np\n"
      ],
      "execution_count": null,
      "outputs": []
    },
    {
      "cell_type": "markdown",
      "metadata": {
        "id": "4MMp6_9DU8h8"
      },
      "source": [
        "# Query"
      ]
    },
    {
      "cell_type": "code",
      "metadata": {
        "id": "FhDljTefU78E"
      },
      "source": [
        "sample_texts=[\"I joined Aerodesign, Dinobytes and Ignite as a freshmen at university.\",\"In my first year of engineering I enrolled at AeroDesign\",\"Ignite is a great club\",\"freshmen did not attend the orientation\"]\n",
        "#sample_texts=[\"certain diets may help reduce the risk of cancer.\",\"obesity and mental issues can be developed by excess intake of junk food\",\"ronaldo is joining manchester united\",\"michael jackson died due to cancer\"]\n",
        "#sample_texts=[\"Three years later, the coffin was still full of Jello.\",\"The fish dreamed of escaping the fishbowl and into the toilet where he saw his friends go.\",\"The person box was packed with jelly many dozens of moths later.\",\"Jello is tasty\"]\n",
        "corpus=sample_texts[1:]\n",
        "query=sample_texts[0]\n"
      ],
      "execution_count": null,
      "outputs": []
    },
    {
      "cell_type": "code",
      "metadata": {
        "colab": {
          "base_uri": "https://localhost:8080/"
        },
        "id": "CqBtfP_2VCJU",
        "outputId": "446de8b9-3a14-4dc2-d8da-289eb6b4766d"
      },
      "source": [
        "print(\"Query: \"+query+\"\\n\")\n",
        "for i in range(0,len(corpus)):\n",
        "  print(\"Corpus[\"+str(i)+\"]: \"+corpus[i])"
      ],
      "execution_count": null,
      "outputs": [
        {
          "output_type": "stream",
          "name": "stdout",
          "text": [
            "Query: I joined Aerodesign, Dinobytes and Ignite as a freshmen at university.\n",
            "\n",
            "Corpus[0]: In my first year of engineering I enrolled at AeroDesign\n",
            "Corpus[1]: Ignite is a great club\n",
            "Corpus[2]: freshmen did not attend the orientation\n"
          ]
        }
      ]
    },
    {
      "cell_type": "markdown",
      "metadata": {
        "id": "Bw1UlM0FKFeS"
      },
      "source": [
        "\n",
        "# SPECTRE (with cosine-similarity)"
      ]
    },
    {
      "cell_type": "code",
      "metadata": {
        "id": "2eTCDY7Dz4zx"
      },
      "source": [
        "model = SentenceTransformer('allenai-specter')   # loading specter model"
      ],
      "execution_count": null,
      "outputs": []
    },
    {
      "cell_type": "code",
      "metadata": {
        "id": "n2IRgfSYz-mK"
      },
      "source": [
        "corpus_embeddings=model.encode(corpus, convert_to_tensor=True)"
      ],
      "execution_count": null,
      "outputs": []
    },
    {
      "cell_type": "code",
      "metadata": {
        "id": "NBsSeab80jkK"
      },
      "source": [
        "\n",
        "query_embedding = model.encode(query, convert_to_tensor=True)"
      ],
      "execution_count": null,
      "outputs": []
    },
    {
      "cell_type": "code",
      "metadata": {
        "id": "WmKE_Sl20tmn"
      },
      "source": [
        "search_hits = util.semantic_search(query_embedding, corpus_embeddings,top_k=10)\n",
        "search_hits = search_hits[0]"
      ],
      "execution_count": null,
      "outputs": []
    },
    {
      "cell_type": "code",
      "metadata": {
        "colab": {
          "base_uri": "https://localhost:8080/"
        },
        "id": "5i5TDJiE0xNv",
        "outputId": "ad48a347-64e0-4139-f84e-68072639da01"
      },
      "source": [
        "print(str(search_hits))"
      ],
      "execution_count": null,
      "outputs": [
        {
          "output_type": "stream",
          "name": "stdout",
          "text": [
            "[{'corpus_id': 0, 'score': 0.8008255362510681}, {'corpus_id': 1, 'score': 0.7931039929389954}, {'corpus_id': 2, 'score': 0.7672163248062134}]\n"
          ]
        }
      ]
    },
    {
      "cell_type": "code",
      "metadata": {
        "colab": {
          "base_uri": "https://localhost:8080/"
        },
        "id": "6qYN8JAoVuc0",
        "outputId": "52d91498-976c-484b-b263-fcc28db0033c"
      },
      "source": [
        "print(\"Result SPECTRE:\\n\")\n",
        "count=0\n",
        "for hit in search_hits:\n",
        "  print(str(1+count)+\") \"+corpus[hit['corpus_id']]+\"(\"+str(hit['score'])+\")\\n\")\n",
        "  count+=1\n",
        "  "
      ],
      "execution_count": null,
      "outputs": [
        {
          "output_type": "stream",
          "name": "stdout",
          "text": [
            "Result SPECTRE:\n",
            "\n",
            "1) In my first year of engineering I enrolled at AeroDesign(0.8008255362510681)\n",
            "\n",
            "2) Ignite is a great club(0.7931039929389954)\n",
            "\n",
            "3) freshmen did not attend the orientation(0.7672163248062134)\n",
            "\n"
          ]
        }
      ]
    },
    {
      "cell_type": "markdown",
      "metadata": {
        "id": "QMssqDcbJ6rz"
      },
      "source": [
        "# Base-BERT (with cosine-similarity)\n"
      ]
    },
    {
      "cell_type": "code",
      "metadata": {
        "id": "KXaLCMDb4aEu"
      },
      "source": [
        "# BERT\n",
        "sentences=sample_texts\n",
        "BERT_model_name='sentence-transformers/bert-base-nli-mean-tokens'\n"
      ],
      "execution_count": null,
      "outputs": []
    },
    {
      "cell_type": "code",
      "metadata": {
        "id": "dWpwxCjWF9mt"
      },
      "source": [
        "from transformers import AutoTokenizer, AutoModel\n",
        "import torch"
      ],
      "execution_count": null,
      "outputs": []
    },
    {
      "cell_type": "code",
      "metadata": {
        "id": "3Boqdly8GFcU"
      },
      "source": [
        "tokenizer=AutoTokenizer.from_pretrained(BERT_model_name)\n",
        "BERT_model=AutoModel.from_pretrained(BERT_model_name)\n"
      ],
      "execution_count": null,
      "outputs": []
    },
    {
      "cell_type": "code",
      "metadata": {
        "id": "n4V1GHN-_aNN"
      },
      "source": [
        "tokens={'input_ids': [],'attention_mask': []}\n",
        "\n",
        "for sentence in sentences:\n",
        "  new_tokens=tokenizer.encode_plus(sentence,max_length=128,truncation=True,padding='max_length',return_tensors='pt')\n",
        "  tokens['input_ids'].append(new_tokens['input_ids'][0])\n",
        "  tokens['attention_mask'].append(new_tokens['attention_mask'][0])\n",
        "\n",
        "tokens['input_ids']=torch.stack(tokens['input_ids'])\n",
        "tokens['attention_mask']=torch.stack(tokens['attention_mask'])\n",
        "outputs=BERT_model(**tokens)\n",
        "embeddings=outputs.last_hidden_state\n",
        "attention=tokens['attention_mask']\n",
        "attention.shape\n",
        "mask=attention.unsqueeze(-1).expand(embeddings.shape).float()\n",
        "mask_embeddings=embeddings*mask\n",
        "summed=torch.sum(mask_embeddings,1)\n",
        "counts=torch.clamp(mask.sum(1),min=1e-9)\n",
        "mean_pooled=summed/counts"
      ],
      "execution_count": null,
      "outputs": []
    },
    {
      "cell_type": "code",
      "metadata": {
        "id": "EAEoTnfeJyWR"
      },
      "source": [
        "from sklearn.metrics.pairwise import cosine_similarity\n",
        "\n",
        "mean_pooled=mean_pooled.detach().numpy()\n",
        "result_bert=cosine_similarity([mean_pooled[0]],mean_pooled[1:])\n"
      ],
      "execution_count": null,
      "outputs": []
    },
    {
      "cell_type": "code",
      "metadata": {
        "colab": {
          "base_uri": "https://localhost:8080/"
        },
        "id": "wF6GBL_HRs19",
        "outputId": "34f0a62e-15e7-4a0b-fb0b-4eadbf863253"
      },
      "source": [
        "print(\"Result BERT(Cosine):\\n\")\n",
        "for i in range(0,len(result_bert[0])):\n",
        "  print(str(i+1)+\") \"+corpus[i]+\"(\"+str(result_bert[0][i])+\")\\n\")"
      ],
      "execution_count": null,
      "outputs": [
        {
          "output_type": "stream",
          "name": "stdout",
          "text": [
            "Result BERT(Cosine):\n",
            "\n",
            "1) In my first year of engineering I enrolled at AeroDesign(0.7486016)\n",
            "\n",
            "2) Ignite is a great club(0.3025604)\n",
            "\n",
            "3) freshmen did not attend the orientation(0.3498309)\n",
            "\n"
          ]
        }
      ]
    },
    {
      "cell_type": "markdown",
      "metadata": {
        "id": "arJJi8-HMjlA"
      },
      "source": [
        "# Base-BERT(with euclidean distance)"
      ]
    },
    {
      "cell_type": "code",
      "metadata": {
        "colab": {
          "base_uri": "https://localhost:8080/"
        },
        "id": "tB--z5v7M41g",
        "outputId": "85dddbfc-0084-4411-ce51-bc57179578be"
      },
      "source": [
        "from sklearn.metrics.pairwise import euclidean_distances\n",
        "\n",
        "result_bert=euclidean_distances([mean_pooled[0]],mean_pooled[1:])\n",
        "\n",
        "print(\"Result BERT(Euclidean):\\n\")\n",
        "for i in range(0,len(result_bert[0])):\n",
        "  print(str(i+1)+\") \"+corpus[i]+\"(\"+str(result_bert[0][i])+\")\\n\")"
      ],
      "execution_count": null,
      "outputs": [
        {
          "output_type": "stream",
          "name": "stdout",
          "text": [
            "Result BERT(Euclidean):\n",
            "\n",
            "1) In my first year of engineering I enrolled at AeroDesign(11.476399)\n",
            "\n",
            "2) Ignite is a great club(19.299307)\n",
            "\n",
            "3) freshmen did not attend the orientation(18.519054)\n",
            "\n"
          ]
        }
      ]
    },
    {
      "cell_type": "markdown",
      "metadata": {
        "id": "Ah0quh3gg1pr"
      },
      "source": [
        "# TinyBERT (with cosine-similarity)"
      ]
    },
    {
      "cell_type": "code",
      "metadata": {
        "id": "SaPtQDW3Y5Br"
      },
      "source": [
        "# TinyBERT\n",
        "\n",
        "sentences=sample_texts\n",
        "TinyBERT_model_name='sentence-transformers/paraphrase-TinyBERT-L6-v2'\n",
        "\n",
        "tokenizer=AutoTokenizer.from_pretrained(TinyBERT_model_name)\n",
        "TinyBERT_model=AutoModel.from_pretrained(TinyBERT_model_name)\n",
        "\n",
        "tokenizer=AutoTokenizer.from_pretrained(TinyBERT_model_name)\n",
        "TinyBERT_model=AutoModel.from_pretrained(TinyBERT_model_name)\n",
        "\n",
        "tokens={'input_ids': [],'attention_mask': []}\n",
        "\n",
        "for sentence in sentences:\n",
        "  new_tokens=tokenizer.encode_plus(sentence,max_length=128,truncation=True,padding='max_length',return_tensors='pt')\n",
        "  tokens['input_ids'].append(new_tokens['input_ids'][0])\n",
        "  tokens['attention_mask'].append(new_tokens['attention_mask'][0])\n",
        "\n",
        "tokens['input_ids']=torch.stack(tokens['input_ids'])\n",
        "tokens['attention_mask']=torch.stack(tokens['attention_mask'])\n",
        "outputs=TinyBERT_model(**tokens)\n",
        "embeddings=outputs.last_hidden_state\n",
        "attention=tokens['attention_mask']\n",
        "attention.shape\n",
        "mask=attention.unsqueeze(-1).expand(embeddings.shape).float()\n",
        "mask_embeddings=embeddings*mask\n",
        "summed=torch.sum(mask_embeddings,1)\n",
        "counts=torch.clamp(mask.sum(1),min=1e-9)\n",
        "mean_pooled=summed/counts\n",
        "\n",
        "from sklearn.metrics.pairwise import cosine_similarity\n",
        "\n",
        "\n",
        "mean_pooled=mean_pooled.detach().numpy()\n",
        "result_tinybert=cosine_similarity([mean_pooled[0]],mean_pooled[1:])"
      ],
      "execution_count": null,
      "outputs": []
    },
    {
      "cell_type": "code",
      "metadata": {
        "colab": {
          "base_uri": "https://localhost:8080/"
        },
        "id": "mX5Q2yS9r9lL",
        "outputId": "3d28e41a-9ab2-477d-8a25-edb444d2bca9"
      },
      "source": [
        "print(\"Result TinyBERT:\\n\")\n",
        "for i in range(0,len(result_tinybert[0])):\n",
        "  print(str(i+1)+\") \"+corpus[i]+\"(\"+str(result_tinybert[0][i])+\")\\n\")"
      ],
      "execution_count": null,
      "outputs": [
        {
          "output_type": "stream",
          "name": "stdout",
          "text": [
            "Result TinyBERT:\n",
            "\n",
            "1) In my first year of engineering I enrolled at AeroDesign(0.5468293)\n",
            "\n",
            "2) Ignite is a great club(0.34808004)\n",
            "\n",
            "3) freshmen did not attend the orientation(0.1719764)\n",
            "\n"
          ]
        }
      ]
    },
    {
      "cell_type": "markdown",
      "metadata": {
        "id": "CpVjTuzFRYOF"
      },
      "source": [
        "# TinyBERT(with manhattan distance)"
      ]
    },
    {
      "cell_type": "code",
      "metadata": {
        "id": "1QTMrmjZRXhj"
      },
      "source": [
        "# TinyBERT\n",
        "\n",
        "\n",
        "sentences=sample_texts\n",
        "TinyBERT_model_name='sentence-transformers/paraphrase-TinyBERT-L6-v2'\n",
        "\n",
        "tokenizer=AutoTokenizer.from_pretrained(TinyBERT_model_name)\n",
        "TinyBERT_model=AutoModel.from_pretrained(TinyBERT_model_name)\n",
        "\n",
        "tokenizer=AutoTokenizer.from_pretrained(TinyBERT_model_name)\n",
        "TinyBERT_model=AutoModel.from_pretrained(TinyBERT_model_name)\n",
        "\n",
        "tokens={'input_ids': [],'attention_mask': []}\n",
        "\n",
        "for sentence in sentences:\n",
        "  new_tokens=tokenizer.encode_plus(sentence,max_length=128,truncation=True,padding='max_length',return_tensors='pt')\n",
        "  tokens['input_ids'].append(new_tokens['input_ids'][0])\n",
        "  tokens['attention_mask'].append(new_tokens['attention_mask'][0])\n",
        "\n",
        "tokens['input_ids']=torch.stack(tokens['input_ids'])\n",
        "tokens['attention_mask']=torch.stack(tokens['attention_mask'])\n",
        "outputs=TinyBERT_model(**tokens)\n",
        "embeddings=outputs.last_hidden_state\n",
        "attention=tokens['attention_mask']\n",
        "attention.shape\n",
        "mask=attention.unsqueeze(-1).expand(embeddings.shape).float()\n",
        "mask_embeddings=embeddings*mask\n",
        "summed=torch.sum(mask_embeddings,1)\n",
        "counts=torch.clamp(mask.sum(1),min=1e-9)\n",
        "mean_pooled=summed/counts\n",
        "\n",
        "\n",
        "from sklearn.metrics.pairwise import manhattan_distances\n",
        "\n",
        "\n",
        "mean_pooled=mean_pooled.detach().numpy()\n",
        "result_tinybert=manhattan_distances([mean_pooled[0]],mean_pooled[1:])"
      ],
      "execution_count": null,
      "outputs": []
    },
    {
      "cell_type": "code",
      "metadata": {
        "colab": {
          "base_uri": "https://localhost:8080/"
        },
        "id": "ABiDH48ORhjn",
        "outputId": "9bef8884-f5c1-4337-8e11-06bec88c61ca"
      },
      "source": [
        "print(\"Result TinyBERT:\\n\")\n",
        "for i in range(0,len(result_tinybert[0])):\n",
        "  print(str(i+1)+\") \"+corpus[i]+\"(\"+str(result_tinybert[0][i])+\")\\n\")"
      ],
      "execution_count": null,
      "outputs": [
        {
          "output_type": "stream",
          "name": "stdout",
          "text": [
            "Result TinyBERT:\n",
            "\n",
            "1) In my first year of engineering I enrolled at AeroDesign(125.31879481545911)\n",
            "\n",
            "2) Ignite is a great club(147.3852545104528)\n",
            "\n",
            "3) freshmen did not attend the orientation(185.12669064272632)\n",
            "\n"
          ]
        }
      ]
    },
    {
      "cell_type": "markdown",
      "metadata": {
        "id": "mSSxJBl6uE1i"
      },
      "source": [
        "# Count-Vectorizer(with euclidean distance)\n"
      ]
    },
    {
      "cell_type": "code",
      "metadata": {
        "id": "WVocpDv_uEVP"
      },
      "source": [
        "from sklearn.feature_extraction.text import CountVectorizer\n",
        "from sklearn.metrics.pairwise import euclidean_distances\n",
        "\n",
        "vectorizer=CountVectorizer()\n",
        "features=vectorizer.fit_transform(sample_texts).todense()\n",
        "vectorizer_results=[]\n",
        "for f in features:\n",
        "  vectorizer_results.append(euclidean_distances(features[0],f)[0][0])\n"
      ],
      "execution_count": null,
      "outputs": []
    },
    {
      "cell_type": "code",
      "metadata": {
        "colab": {
          "base_uri": "https://localhost:8080/"
        },
        "id": "IAW245kiKnkp",
        "outputId": "590baa73-fc12-48ed-e2f6-30112af07ad7"
      },
      "source": [
        "print(\"Result CountVectorizer(Euclidean):\\n\")\n",
        "for i in range(1,len(vectorizer_results)):\n",
        "  print(str(i)+\") \"+sample_texts[i]+\"(\"+str(vectorizer_results[i])+\")\")"
      ],
      "execution_count": null,
      "outputs": [
        {
          "output_type": "stream",
          "name": "stdout",
          "text": [
            "Result CountVectorizer(Euclidean):\n",
            "\n",
            "1) In my first year of engineering I enrolled at AeroDesign(3.7416573867739413)\n",
            "2) Ignite is a great club(3.3166247903554)\n",
            "3) freshmen did not attend the orientation(3.605551275463989)\n"
          ]
        }
      ]
    },
    {
      "cell_type": "markdown",
      "metadata": {
        "id": "pdKb6O6uqM4a"
      },
      "source": [
        "# ROBERTA-Large(with cosine-similarity)"
      ]
    },
    {
      "cell_type": "code",
      "metadata": {
        "colab": {
          "base_uri": "https://localhost:8080/"
        },
        "id": "A86pbzMSqMVQ",
        "outputId": "9182eb9d-7c82-4c4f-c8bd-bff0020c8e89"
      },
      "source": [
        "from transformers import RobertaTokenizer, RobertaModel\n",
        "tokenizer = RobertaTokenizer.from_pretrained('roberta-large')\n",
        "BERT_model = RobertaModel.from_pretrained('roberta-large')\n"
      ],
      "execution_count": null,
      "outputs": [
        {
          "output_type": "stream",
          "name": "stderr",
          "text": [
            "Some weights of the model checkpoint at roberta-large were not used when initializing RobertaModel: ['lm_head.layer_norm.bias', 'lm_head.layer_norm.weight', 'lm_head.dense.weight', 'lm_head.bias', 'lm_head.decoder.weight', 'lm_head.dense.bias']\n",
            "- This IS expected if you are initializing RobertaModel from the checkpoint of a model trained on another task or with another architecture (e.g. initializing a BertForSequenceClassification model from a BertForPreTraining model).\n",
            "- This IS NOT expected if you are initializing RobertaModel from the checkpoint of a model that you expect to be exactly identical (initializing a BertForSequenceClassification model from a BertForSequenceClassification model).\n"
          ]
        }
      ]
    },
    {
      "cell_type": "code",
      "metadata": {
        "id": "_3KC7fpdqcuw"
      },
      "source": [
        "tokens={'input_ids': [],'attention_mask': []}\n",
        "\n",
        "for sentence in sentences:\n",
        "  new_tokens=tokenizer.encode_plus(sentence,max_length=128,truncation=True,padding='max_length',return_tensors='pt')\n",
        "  tokens['input_ids'].append(new_tokens['input_ids'][0])\n",
        "  tokens['attention_mask'].append(new_tokens['attention_mask'][0])\n",
        "\n",
        "tokens['input_ids']=torch.stack(tokens['input_ids'])\n",
        "tokens['attention_mask']=torch.stack(tokens['attention_mask'])\n",
        "outputs=BERT_model(**tokens)\n",
        "embeddings=outputs.last_hidden_state\n",
        "attention=tokens['attention_mask']\n",
        "attention.shape\n",
        "mask=attention.unsqueeze(-1).expand(embeddings.shape).float()\n",
        "mask_embeddings=embeddings*mask\n",
        "summed=torch.sum(mask_embeddings,1)\n",
        "counts=torch.clamp(mask.sum(1),min=1e-9)\n",
        "mean_pooled=summed/counts"
      ],
      "execution_count": null,
      "outputs": []
    },
    {
      "cell_type": "code",
      "metadata": {
        "id": "vMastwCyrsFe"
      },
      "source": [
        "from sklearn.metrics.pairwise import cosine_similarity\n",
        "\n",
        "mean_pooled=mean_pooled.detach().numpy()\n",
        "result_bert=cosine_similarity([mean_pooled[0]],mean_pooled[1:])\n"
      ],
      "execution_count": null,
      "outputs": []
    },
    {
      "cell_type": "code",
      "metadata": {
        "colab": {
          "base_uri": "https://localhost:8080/"
        },
        "id": "Nhs88uQWqkxT",
        "outputId": "1709309b-72e4-4f4a-e8fa-d3698127e92a"
      },
      "source": [
        "print(\"Result Roberta(Cosine):\\n\")\n",
        "for i in range(0,len(result_bert[0])):\n",
        "  print(str(i+1)+\") \"+corpus[i]+\"(\"+str(result_bert[0][i])+\")\\n\")"
      ],
      "execution_count": null,
      "outputs": [
        {
          "output_type": "stream",
          "name": "stdout",
          "text": [
            "Result Roberta(Cosine):\n",
            "\n",
            "1) In my first year of engineering I enrolled at AeroDesign(0.9964082)\n",
            "\n",
            "2) Ignite is a great club(0.996409)\n",
            "\n",
            "3) freshmen did not attend the orientation(0.9930457)\n",
            "\n"
          ]
        }
      ]
    },
    {
      "cell_type": "markdown",
      "metadata": {
        "id": "tpl87bIIMHem"
      },
      "source": [
        "# Doc2vec(with cosine-similarity)"
      ]
    },
    {
      "cell_type": "code",
      "metadata": {
        "colab": {
          "base_uri": "https://localhost:8080/"
        },
        "id": "1hUvxgZZNjpy",
        "outputId": "39842041-7622-4bdd-ec80-65f580ef7e33"
      },
      "source": [
        "import nltk\n",
        "nltk.download('punkt')"
      ],
      "execution_count": null,
      "outputs": [
        {
          "output_type": "stream",
          "name": "stdout",
          "text": [
            "[nltk_data] Downloading package punkt to /root/nltk_data...\n",
            "[nltk_data]   Package punkt is already up-to-date!\n"
          ]
        },
        {
          "output_type": "execute_result",
          "data": {
            "text/plain": [
              "True"
            ]
          },
          "metadata": {},
          "execution_count": 465
        }
      ]
    },
    {
      "cell_type": "code",
      "metadata": {
        "colab": {
          "base_uri": "https://localhost:8080/"
        },
        "id": "9wzLHczwMG3I",
        "outputId": "bd87f94c-2f6e-4389-b00d-62b8f05b7642"
      },
      "source": [
        "from gensim.models.doc2vec import Doc2Vec, TaggedDocument\n",
        "from nltk.tokenize import word_tokenize\n",
        "data =sample_texts\n",
        "corpus=sample_texts[1:]\n",
        "\n",
        "tagged_data = [TaggedDocument(words=word_tokenize(_d.lower()), tags=[str(i)]) for i, _d in enumerate(data)]\n",
        "max_epochs = 100\n",
        "vec_size = 20\n",
        "alpha = 0.025\n",
        "\n",
        "model = Doc2Vec(size=vec_size,\n",
        "                alpha=alpha, \n",
        "                min_alpha=0.00025,\n",
        "                min_count=1,\n",
        "                dm =1)\n",
        "  \n",
        "model.build_vocab(tagged_data)\n",
        "\n",
        "for epoch in range(max_epochs):\n",
        "    model.train(tagged_data,\n",
        "                total_examples=model.corpus_count,\n",
        "                epochs=model.iter)\n",
        "    # decrease the learning rate\n",
        "    model.alpha -= 0.0002\n",
        "    # fix the learning rate, no decay\n",
        "    model.min_alpha = model.alpha\n",
        "\n",
        "#to find the vector of a document which is not in training data\n",
        "test_data = word_tokenize(\"I love building chatbots\".lower())\n",
        "v1 = model.infer_vector(test_data)\n",
        "\n",
        "# to find most similar doc using tags\n",
        "similar_doc = model.docvecs.most_similar('0')\n",
        "print(similar_doc)\n"
      ],
      "execution_count": null,
      "outputs": [
        {
          "output_type": "stream",
          "name": "stderr",
          "text": [
            "/usr/local/lib/python3.7/dist-packages/gensim/models/doc2vec.py:570: UserWarning: The parameter `size` is deprecated, will be removed in 4.0.0, use `vector_size` instead.\n",
            "  warnings.warn(\"The parameter `size` is deprecated, will be removed in 4.0.0, use `vector_size` instead.\")\n",
            "/usr/local/lib/python3.7/dist-packages/ipykernel_launcher.py:22: DeprecationWarning: Call to deprecated `iter` (Attribute will be removed in 4.0.0, use self.epochs instead).\n",
            "WARNING:gensim.models.base_any2vec:under 10 jobs per worker: consider setting a smaller `batch_words' for smoother alpha decay\n",
            "WARNING:gensim.models.base_any2vec:under 10 jobs per worker: consider setting a smaller `batch_words' for smoother alpha decay\n",
            "WARNING:gensim.models.base_any2vec:under 10 jobs per worker: consider setting a smaller `batch_words' for smoother alpha decay\n",
            "WARNING:gensim.models.base_any2vec:under 10 jobs per worker: consider setting a smaller `batch_words' for smoother alpha decay\n",
            "WARNING:gensim.models.base_any2vec:under 10 jobs per worker: consider setting a smaller `batch_words' for smoother alpha decay\n",
            "WARNING:gensim.models.base_any2vec:under 10 jobs per worker: consider setting a smaller `batch_words' for smoother alpha decay\n",
            "WARNING:gensim.models.base_any2vec:under 10 jobs per worker: consider setting a smaller `batch_words' for smoother alpha decay\n",
            "WARNING:gensim.models.base_any2vec:under 10 jobs per worker: consider setting a smaller `batch_words' for smoother alpha decay\n",
            "WARNING:gensim.models.base_any2vec:under 10 jobs per worker: consider setting a smaller `batch_words' for smoother alpha decay\n",
            "WARNING:gensim.models.base_any2vec:under 10 jobs per worker: consider setting a smaller `batch_words' for smoother alpha decay\n",
            "WARNING:gensim.models.base_any2vec:under 10 jobs per worker: consider setting a smaller `batch_words' for smoother alpha decay\n",
            "WARNING:gensim.models.base_any2vec:under 10 jobs per worker: consider setting a smaller `batch_words' for smoother alpha decay\n",
            "WARNING:gensim.models.base_any2vec:under 10 jobs per worker: consider setting a smaller `batch_words' for smoother alpha decay\n",
            "WARNING:gensim.models.base_any2vec:under 10 jobs per worker: consider setting a smaller `batch_words' for smoother alpha decay\n",
            "WARNING:gensim.models.base_any2vec:under 10 jobs per worker: consider setting a smaller `batch_words' for smoother alpha decay\n",
            "WARNING:gensim.models.base_any2vec:under 10 jobs per worker: consider setting a smaller `batch_words' for smoother alpha decay\n",
            "WARNING:gensim.models.base_any2vec:under 10 jobs per worker: consider setting a smaller `batch_words' for smoother alpha decay\n",
            "WARNING:gensim.models.base_any2vec:under 10 jobs per worker: consider setting a smaller `batch_words' for smoother alpha decay\n",
            "WARNING:gensim.models.base_any2vec:under 10 jobs per worker: consider setting a smaller `batch_words' for smoother alpha decay\n",
            "WARNING:gensim.models.base_any2vec:under 10 jobs per worker: consider setting a smaller `batch_words' for smoother alpha decay\n",
            "WARNING:gensim.models.base_any2vec:under 10 jobs per worker: consider setting a smaller `batch_words' for smoother alpha decay\n",
            "WARNING:gensim.models.base_any2vec:under 10 jobs per worker: consider setting a smaller `batch_words' for smoother alpha decay\n",
            "WARNING:gensim.models.base_any2vec:under 10 jobs per worker: consider setting a smaller `batch_words' for smoother alpha decay\n",
            "WARNING:gensim.models.base_any2vec:under 10 jobs per worker: consider setting a smaller `batch_words' for smoother alpha decay\n",
            "WARNING:gensim.models.base_any2vec:under 10 jobs per worker: consider setting a smaller `batch_words' for smoother alpha decay\n",
            "WARNING:gensim.models.base_any2vec:under 10 jobs per worker: consider setting a smaller `batch_words' for smoother alpha decay\n",
            "WARNING:gensim.models.base_any2vec:under 10 jobs per worker: consider setting a smaller `batch_words' for smoother alpha decay\n",
            "WARNING:gensim.models.base_any2vec:under 10 jobs per worker: consider setting a smaller `batch_words' for smoother alpha decay\n",
            "WARNING:gensim.models.base_any2vec:under 10 jobs per worker: consider setting a smaller `batch_words' for smoother alpha decay\n",
            "WARNING:gensim.models.base_any2vec:under 10 jobs per worker: consider setting a smaller `batch_words' for smoother alpha decay\n",
            "WARNING:gensim.models.base_any2vec:under 10 jobs per worker: consider setting a smaller `batch_words' for smoother alpha decay\n",
            "WARNING:gensim.models.base_any2vec:under 10 jobs per worker: consider setting a smaller `batch_words' for smoother alpha decay\n",
            "WARNING:gensim.models.base_any2vec:under 10 jobs per worker: consider setting a smaller `batch_words' for smoother alpha decay\n",
            "WARNING:gensim.models.base_any2vec:under 10 jobs per worker: consider setting a smaller `batch_words' for smoother alpha decay\n",
            "WARNING:gensim.models.base_any2vec:under 10 jobs per worker: consider setting a smaller `batch_words' for smoother alpha decay\n",
            "WARNING:gensim.models.base_any2vec:under 10 jobs per worker: consider setting a smaller `batch_words' for smoother alpha decay\n",
            "WARNING:gensim.models.base_any2vec:under 10 jobs per worker: consider setting a smaller `batch_words' for smoother alpha decay\n",
            "WARNING:gensim.models.base_any2vec:under 10 jobs per worker: consider setting a smaller `batch_words' for smoother alpha decay\n",
            "WARNING:gensim.models.base_any2vec:under 10 jobs per worker: consider setting a smaller `batch_words' for smoother alpha decay\n",
            "WARNING:gensim.models.base_any2vec:under 10 jobs per worker: consider setting a smaller `batch_words' for smoother alpha decay\n",
            "WARNING:gensim.models.base_any2vec:under 10 jobs per worker: consider setting a smaller `batch_words' for smoother alpha decay\n",
            "WARNING:gensim.models.base_any2vec:under 10 jobs per worker: consider setting a smaller `batch_words' for smoother alpha decay\n",
            "WARNING:gensim.models.base_any2vec:under 10 jobs per worker: consider setting a smaller `batch_words' for smoother alpha decay\n",
            "WARNING:gensim.models.base_any2vec:under 10 jobs per worker: consider setting a smaller `batch_words' for smoother alpha decay\n",
            "WARNING:gensim.models.base_any2vec:under 10 jobs per worker: consider setting a smaller `batch_words' for smoother alpha decay\n",
            "WARNING:gensim.models.base_any2vec:under 10 jobs per worker: consider setting a smaller `batch_words' for smoother alpha decay\n",
            "WARNING:gensim.models.base_any2vec:under 10 jobs per worker: consider setting a smaller `batch_words' for smoother alpha decay\n",
            "WARNING:gensim.models.base_any2vec:under 10 jobs per worker: consider setting a smaller `batch_words' for smoother alpha decay\n",
            "WARNING:gensim.models.base_any2vec:under 10 jobs per worker: consider setting a smaller `batch_words' for smoother alpha decay\n",
            "WARNING:gensim.models.base_any2vec:under 10 jobs per worker: consider setting a smaller `batch_words' for smoother alpha decay\n",
            "WARNING:gensim.models.base_any2vec:under 10 jobs per worker: consider setting a smaller `batch_words' for smoother alpha decay\n",
            "WARNING:gensim.models.base_any2vec:under 10 jobs per worker: consider setting a smaller `batch_words' for smoother alpha decay\n",
            "WARNING:gensim.models.base_any2vec:under 10 jobs per worker: consider setting a smaller `batch_words' for smoother alpha decay\n",
            "WARNING:gensim.models.base_any2vec:under 10 jobs per worker: consider setting a smaller `batch_words' for smoother alpha decay\n",
            "WARNING:gensim.models.base_any2vec:under 10 jobs per worker: consider setting a smaller `batch_words' for smoother alpha decay\n",
            "WARNING:gensim.models.base_any2vec:under 10 jobs per worker: consider setting a smaller `batch_words' for smoother alpha decay\n",
            "WARNING:gensim.models.base_any2vec:under 10 jobs per worker: consider setting a smaller `batch_words' for smoother alpha decay\n",
            "WARNING:gensim.models.base_any2vec:under 10 jobs per worker: consider setting a smaller `batch_words' for smoother alpha decay\n",
            "WARNING:gensim.models.base_any2vec:under 10 jobs per worker: consider setting a smaller `batch_words' for smoother alpha decay\n",
            "WARNING:gensim.models.base_any2vec:under 10 jobs per worker: consider setting a smaller `batch_words' for smoother alpha decay\n",
            "WARNING:gensim.models.base_any2vec:under 10 jobs per worker: consider setting a smaller `batch_words' for smoother alpha decay\n",
            "WARNING:gensim.models.base_any2vec:under 10 jobs per worker: consider setting a smaller `batch_words' for smoother alpha decay\n",
            "WARNING:gensim.models.base_any2vec:under 10 jobs per worker: consider setting a smaller `batch_words' for smoother alpha decay\n",
            "WARNING:gensim.models.base_any2vec:under 10 jobs per worker: consider setting a smaller `batch_words' for smoother alpha decay\n",
            "WARNING:gensim.models.base_any2vec:under 10 jobs per worker: consider setting a smaller `batch_words' for smoother alpha decay\n",
            "WARNING:gensim.models.base_any2vec:under 10 jobs per worker: consider setting a smaller `batch_words' for smoother alpha decay\n",
            "WARNING:gensim.models.base_any2vec:under 10 jobs per worker: consider setting a smaller `batch_words' for smoother alpha decay\n",
            "WARNING:gensim.models.base_any2vec:under 10 jobs per worker: consider setting a smaller `batch_words' for smoother alpha decay\n",
            "WARNING:gensim.models.base_any2vec:under 10 jobs per worker: consider setting a smaller `batch_words' for smoother alpha decay\n",
            "WARNING:gensim.models.base_any2vec:under 10 jobs per worker: consider setting a smaller `batch_words' for smoother alpha decay\n",
            "WARNING:gensim.models.base_any2vec:under 10 jobs per worker: consider setting a smaller `batch_words' for smoother alpha decay\n",
            "WARNING:gensim.models.base_any2vec:under 10 jobs per worker: consider setting a smaller `batch_words' for smoother alpha decay\n",
            "WARNING:gensim.models.base_any2vec:under 10 jobs per worker: consider setting a smaller `batch_words' for smoother alpha decay\n",
            "WARNING:gensim.models.base_any2vec:under 10 jobs per worker: consider setting a smaller `batch_words' for smoother alpha decay\n",
            "WARNING:gensim.models.base_any2vec:under 10 jobs per worker: consider setting a smaller `batch_words' for smoother alpha decay\n",
            "WARNING:gensim.models.base_any2vec:under 10 jobs per worker: consider setting a smaller `batch_words' for smoother alpha decay\n",
            "WARNING:gensim.models.base_any2vec:under 10 jobs per worker: consider setting a smaller `batch_words' for smoother alpha decay\n",
            "WARNING:gensim.models.base_any2vec:under 10 jobs per worker: consider setting a smaller `batch_words' for smoother alpha decay\n",
            "WARNING:gensim.models.base_any2vec:under 10 jobs per worker: consider setting a smaller `batch_words' for smoother alpha decay\n",
            "WARNING:gensim.models.base_any2vec:under 10 jobs per worker: consider setting a smaller `batch_words' for smoother alpha decay\n",
            "WARNING:gensim.models.base_any2vec:under 10 jobs per worker: consider setting a smaller `batch_words' for smoother alpha decay\n",
            "WARNING:gensim.models.base_any2vec:under 10 jobs per worker: consider setting a smaller `batch_words' for smoother alpha decay\n",
            "WARNING:gensim.models.base_any2vec:under 10 jobs per worker: consider setting a smaller `batch_words' for smoother alpha decay\n",
            "WARNING:gensim.models.base_any2vec:under 10 jobs per worker: consider setting a smaller `batch_words' for smoother alpha decay\n",
            "WARNING:gensim.models.base_any2vec:under 10 jobs per worker: consider setting a smaller `batch_words' for smoother alpha decay\n",
            "WARNING:gensim.models.base_any2vec:under 10 jobs per worker: consider setting a smaller `batch_words' for smoother alpha decay\n",
            "WARNING:gensim.models.base_any2vec:under 10 jobs per worker: consider setting a smaller `batch_words' for smoother alpha decay\n",
            "WARNING:gensim.models.base_any2vec:under 10 jobs per worker: consider setting a smaller `batch_words' for smoother alpha decay\n",
            "WARNING:gensim.models.base_any2vec:under 10 jobs per worker: consider setting a smaller `batch_words' for smoother alpha decay\n",
            "WARNING:gensim.models.base_any2vec:under 10 jobs per worker: consider setting a smaller `batch_words' for smoother alpha decay\n",
            "WARNING:gensim.models.base_any2vec:under 10 jobs per worker: consider setting a smaller `batch_words' for smoother alpha decay\n",
            "WARNING:gensim.models.base_any2vec:under 10 jobs per worker: consider setting a smaller `batch_words' for smoother alpha decay\n",
            "WARNING:gensim.models.base_any2vec:under 10 jobs per worker: consider setting a smaller `batch_words' for smoother alpha decay\n",
            "WARNING:gensim.models.base_any2vec:under 10 jobs per worker: consider setting a smaller `batch_words' for smoother alpha decay\n",
            "WARNING:gensim.models.base_any2vec:under 10 jobs per worker: consider setting a smaller `batch_words' for smoother alpha decay\n",
            "WARNING:gensim.models.base_any2vec:under 10 jobs per worker: consider setting a smaller `batch_words' for smoother alpha decay\n",
            "WARNING:gensim.models.base_any2vec:under 10 jobs per worker: consider setting a smaller `batch_words' for smoother alpha decay\n",
            "WARNING:gensim.models.base_any2vec:under 10 jobs per worker: consider setting a smaller `batch_words' for smoother alpha decay\n",
            "WARNING:gensim.models.base_any2vec:under 10 jobs per worker: consider setting a smaller `batch_words' for smoother alpha decay\n",
            "WARNING:gensim.models.base_any2vec:under 10 jobs per worker: consider setting a smaller `batch_words' for smoother alpha decay\n"
          ]
        },
        {
          "output_type": "stream",
          "name": "stdout",
          "text": [
            "[('1', 0.9940474033355713), ('2', 0.9930206537246704), ('3', 0.9928597211837769)]\n"
          ]
        }
      ]
    },
    {
      "cell_type": "markdown",
      "metadata": {
        "id": "MgiLDOr2l0js"
      },
      "source": [
        "# STS"
      ]
    },
    {
      "cell_type": "code",
      "metadata": {
        "id": "QCdYMagIlxCn"
      },
      "source": [
        "#@title Load the Universal Sentence Encoder's TF Hub module\n",
        "from absl import logging\n",
        "\n",
        "import tensorflow as tf\n",
        "\n",
        "import tensorflow_hub as hub\n",
        "import matplotlib.pyplot as plt\n",
        "import numpy as np\n",
        "import os\n",
        "import pandas as pd\n",
        "import re\n",
        "import seaborn as sns\n",
        "\"\"\"\"\n",
        "module_url = \"https://tfhub.dev/google/universal-sentence-encoder/4\" #@param [\"https://tfhub.dev/google/universal-sentence-encoder/4\", \"https://tfhub.dev/google/universal-sentence-encoder-large/5\"]\n",
        "model = hub.load(module_url)\n",
        "\"\"\"\n",
        "model = SentenceTransformer('allenai-specter')   # loading specter model\"\"\"\n",
        "\n",
        "def embed(input):\n",
        "  return model(input)"
      ],
      "execution_count": null,
      "outputs": []
    },
    {
      "cell_type": "code",
      "metadata": {
        "id": "ODnS-l9qlmL7"
      },
      "source": [
        "import pandas\n",
        "import scipy\n",
        "import math\n",
        "import csv\n",
        "\n",
        "sts_dataset = tf.keras.utils.get_file(\n",
        "    fname=\"Stsbenchmark.tar.gz\",\n",
        "    origin=\"http://ixa2.si.ehu.es/stswiki/images/4/48/Stsbenchmark.tar.gz\",\n",
        "    extract=True)\n",
        "sts_dev = pandas.read_table(\n",
        "    os.path.join(os.path.dirname(sts_dataset), \"stsbenchmark\", \"sts-dev.csv\"),\n",
        "    error_bad_lines=False,\n",
        "    skip_blank_lines=True,\n",
        "    usecols=[4, 5, 6],\n",
        "    names=[\"sim\", \"sent_1\", \"sent_2\"])\n",
        "sts_test = pandas.read_table(\n",
        "    os.path.join(\n",
        "        os.path.dirname(sts_dataset), \"stsbenchmark\", \"sts-test.csv\"),\n",
        "    error_bad_lines=False,\n",
        "    quoting=csv.QUOTE_NONE,\n",
        "    skip_blank_lines=True,\n",
        "    usecols=[4, 5, 6],\n",
        "    names=[\"sim\", \"sent_1\", \"sent_2\"])\n",
        "# cleanup some NaN values in sts_dev\n",
        "sts_dev = sts_dev[[isinstance(s, str) for s in sts_dev['sent_2']]]"
      ],
      "execution_count": null,
      "outputs": []
    },
    {
      "cell_type": "code",
      "metadata": {
        "id": "8F6SvZw8l9z4",
        "colab": {
          "base_uri": "https://localhost:8080/"
        },
        "outputId": "b6010caa-a790-421f-a553-25a0d42f37c4"
      },
      "source": [
        "module_url = \"https://tfhub.dev/google/universal-sentence-encoder/4\" #@param [\"https://tfhub.dev/google/universal-sentence-encoder/4\", \"https://tfhub.dev/google/universal-sentence-encoder-large/5\"]\n",
        "model = hub.load(module_url)\n",
        "sts_data = sts_dev #@param [\"sts_dev\", \"sts_test\"] {type:\"raw\"}\n",
        "\n",
        "def run_sts_benchmark(batch):\n",
        "  sts_encode1 = tf.nn.l2_normalize(embed(tf.constant(batch['sent_1'].tolist())), axis=1)\n",
        "  sts_encode2 = tf.nn.l2_normalize(embed(tf.constant(batch['sent_2'].tolist())), axis=1)\n",
        "  cosine_similarities = tf.reduce_sum(tf.multiply(sts_encode1, sts_encode2), axis=1)\n",
        "\n",
        "  scores = 1.0 - tf.acos(cosine_similarities) / math.pi\n",
        "  print(scores)\n",
        "  \"\"\"Returns the similarity scores\"\"\"\n",
        "  return scores\n",
        "\n",
        "count=0\n",
        "dev_scores = sts_data['sim'].tolist()\n",
        "scores = []\n",
        "for batch in np.array_split(sts_data, 10):\n",
        "  scores.extend(run_sts_benchmark(batch))\n",
        "  count+=1\n",
        "print(scores)\n",
        "print(dev_scores)\n",
        "\n",
        "pearson_correlation = scipy.stats.pearsonr(scores, dev_scores)\n",
        "print('Pearson correlation coefficient = {0}\\np-value = {1}'.format(\n",
        "    pearson_correlation[0], pearson_correlation[1]))"
      ],
      "execution_count": null,
      "outputs": [
        {
          "output_type": "stream",
          "name": "stdout",
          "text": [
            "tf.Tensor(\n",
            "[0.9302299  0.91503537 0.8858436  0.81598777 0.82499564 0.7876028\n",
            " 0.842623   0.7653434  0.85355747 0.831003   0.79168063 0.69776666\n",
            " 0.84689224 0.8538161  0.84618706 0.66369575 0.82812774 0.88605976\n",
            " 0.86942405 0.68831384 0.7562237  0.69235843 0.79055065 0.6884094\n",
            " 0.68400353 0.72296345 0.7797556  0.78858244 0.63529944 0.60642076\n",
            " 0.7827172  0.82756484 0.8482493  0.8761115  0.85381556 0.80827314\n",
            " 0.8993039  0.87050664 0.85451055 0.6994206  0.78373015 0.77094877\n",
            " 0.6498592  0.80625653 0.71406555 0.62295604 0.6294185  0.5808517\n",
            " 0.79910994 0.81647944 0.62979925 0.74218786 0.7761008  0.83404756\n",
            " 0.6216673  0.6567863  0.62281734 0.6109237  0.75858635 0.5805177\n",
            " 0.7166968  0.7928418  0.62633    0.8074719  0.76240706 0.61664796\n",
            " 0.7904217  0.8163034  0.72792274 0.761857   0.7445427  0.70667005\n",
            " 0.7072114  0.6327467  0.5465035  0.78934056 0.6994473  0.7767464\n",
            " 0.62703764 0.7213806  0.7389682  0.5994146  0.5685327  0.7267419\n",
            " 0.842376   0.59308857 0.6855235  0.74041915 0.76750153 0.69425166\n",
            " 0.7311045  0.69657123 0.64072067 0.59097934 0.6183263  0.69071674\n",
            " 0.60370344 0.6051176  0.60414124 0.7142632  0.5375985  0.63000387\n",
            " 0.74074566 0.6862904  0.585317   0.7382071  0.7383567  0.7639179\n",
            " 0.6364001  0.6723501  0.61222637 0.58095014 0.54545283 0.630245\n",
            " 0.56016386 0.53548604 0.7204915  0.7089822  0.5256241  0.5797163\n",
            " 0.6164161  0.61647815 0.6393907  0.6276372  0.68911076 0.70020056\n",
            " 0.5827583  0.5733546  0.6605866  0.70066303 0.54056334 0.77515006\n",
            " 0.84541    0.8901459  0.8801192  0.8801192  0.8710833  0.81206155\n",
            " 0.74121165 0.80030555 0.6826661  0.9378644  0.84209573 0.7160958\n",
            " 0.8387605  0.7045119  0.663118  ], shape=(147,), dtype=float32)\n",
            "tf.Tensor(\n",
            "[0.6742361  0.6884094  0.6810005  0.78999233 0.7635123  0.86259186\n",
            " 0.65559655 0.6491621  0.7384449  0.6763821  0.6763821  0.77363026\n",
            " 0.6932144  0.7354921  0.6528002  0.8117787  0.715682   0.61647916\n",
            " 0.7565648  0.8007289  0.7159257  0.6239676  0.7608707  0.7160672\n",
            " 0.77445215 0.7218182  0.61346984 0.70706093 0.8454647  0.61943406\n",
            " 0.7761463  0.6311761  0.6434546  0.6291318  0.62756604 0.69215906\n",
            " 0.6338959  0.78261685 0.7924995  0.60694903 0.8308108  0.63466537\n",
            " 0.68877137 0.8073664  0.7042692  0.7701653  0.7436783  0.73082376\n",
            " 0.63002205 0.6032307  0.75060016 0.7465824  0.55660963 0.5525405\n",
            " 0.5998831  0.62529325 0.6332879  0.6514944  0.6071727  0.6381289\n",
            " 0.7061337  0.7876287  0.67584324 0.6184299  0.6540142  0.637438\n",
            " 0.5541798  0.57676816 0.56864226 0.7200633  0.59869874 0.7452746\n",
            " 0.6884382  0.764023   0.6274538  0.6645781  0.64067644 0.69710577\n",
            " 0.7303102  0.5481704  0.6935409  0.5587617  0.56779623 0.678712\n",
            " 0.5896338  0.5358856  0.70272297 0.7460544  0.6822789  0.7237442\n",
            " 0.77616745 0.8364238  0.5932393  0.5778526  0.75416994 0.5783886\n",
            " 0.63754696 0.54971707 0.51859605 0.5445749  0.69318783 0.7853374\n",
            " 0.58841383 0.778023   0.4988293  0.6355533  0.6775615  0.7544156\n",
            " 0.72248584 0.5996314  0.7241158  0.7865595  0.682952   0.5882238\n",
            " 0.6536304  0.7797395  0.64753634 0.81638217 0.7818084  0.683482\n",
            " 0.75577587 0.661076   0.7630203  0.77365017 0.74860716 0.8070051\n",
            " 0.7872994  0.71610785 0.75510854 0.53401256 0.76562285 0.7699733\n",
            " 0.6721261  0.68606305 0.8332484  0.80633235 0.7910143  0.59165007\n",
            " 0.6229497  0.6008956  0.6076056  0.5787107  0.69091797 0.8606776\n",
            " 0.51965094 0.62740713 0.6829742 ], shape=(147,), dtype=float32)\n",
            "tf.Tensor(\n",
            "[0.7805657  0.6697469  0.73214066 0.85693145 0.6033771  0.73577285\n",
            " 0.791942   0.6587832  0.8074864  0.74162227 0.8105132  0.7012738\n",
            " 0.8477686  0.80224276 0.5715561  0.71852136 0.6152115  0.7219618\n",
            " 0.6425722  0.7279067  0.6394905  0.5820339  0.72102165 0.6956299\n",
            " 0.77214074 0.6253849  0.7852201  0.72327554 0.675202   0.6680881\n",
            " 0.7708908  0.6724003  0.8093187  0.8042174  0.7161123  0.6585719\n",
            " 0.7411753  0.64570534 0.75272566 0.6595945  0.60672486 0.78435016\n",
            " 0.6756028  0.64700675 0.74918497 0.7616594  0.6413178  0.8159916\n",
            " 0.69965535 0.82877696 0.73305047 0.7227529  0.8248351  0.6694577\n",
            " 0.67288244 0.67955744 0.8173038  0.78731614 0.7772705  0.77027583\n",
            " 0.8186803  0.77826065 0.78984016 0.81503046 0.878253   0.60661817\n",
            " 0.52267903 0.8776244  0.6951852  0.6260034  0.7827651  0.8715849\n",
            " 0.6466836  0.85609496 0.8666916  0.8881664  0.6563016  0.67342097\n",
            " 0.74946034 0.7170009  0.8759206  0.8585021  0.77499557 0.788986\n",
            " 0.8702632  0.60592055 0.56868595 0.7251703  0.7394475  0.6301733\n",
            " 0.70604396 0.8282981  0.7046796  0.78390676 0.6743783  0.83462447\n",
            " 0.83125025 0.84529084 0.5968248  0.7482201  0.77380943 0.8278465\n",
            " 0.80757266 0.8593744  0.85056245 0.7694587  0.75142646 0.67208195\n",
            " 0.69248134 0.6042335  0.71772367 0.8125304  0.6015285  0.57021236\n",
            " 0.60687304 0.8207455  0.83592486 0.63886356 0.5592499  0.62716436\n",
            " 0.658514   0.8838392  0.8005793  0.7275919  0.6555779  0.7595298\n",
            " 0.65594524 0.7063422  0.59475154 0.85348964 0.80013955 0.8769215\n",
            " 0.7601626  0.84374994 0.58375156 0.79695636 0.7198523  0.8408341\n",
            " 0.5775312  0.7903029  0.8256096  0.68712    0.6511115  0.543017\n",
            " 0.6737642  0.8723697  0.7919029 ], shape=(147,), dtype=float32)\n",
            "tf.Tensor(\n",
            "[0.70787305 0.59245294 0.67393255 0.7748393  0.8890532  0.62412035\n",
            " 0.7024641  0.773657   0.6570628  0.8158267  0.6495656  0.8606012\n",
            " 0.5671747  0.7263935  0.7515691  0.6041995  0.57825583 0.7859504\n",
            " 0.6493255  0.8809683  0.75197923 0.6031949  0.658298   0.61313903\n",
            " 0.6382545  0.55780286 0.6664524  0.70142794 0.73844016 0.7135514\n",
            " 0.69904107 0.7820132  0.65540326 0.73054194 0.84477437 0.80747914\n",
            " 0.5857204  0.6669511  0.80727136 0.8498933  0.61048615 0.68152857\n",
            " 0.6171119  0.8872002  0.6310109  0.56696355 0.57103    0.6946304\n",
            " 0.65888584 0.8235791  0.5179848  0.7709531  0.6439328  0.69380105\n",
            " 0.6488927  0.7541159  0.7591328  0.7943326  0.8141229  0.55831975\n",
            " 0.67461693 0.58249354 0.6544868  0.76882875 0.64455765 0.7123318\n",
            " 0.92468417 0.66496825 0.8198714  0.6257737  0.5398763  0.8465753\n",
            " 0.90380573 0.6878885  0.765277   0.6258793  0.7678375  0.80715185\n",
            " 0.81922823 0.7752893  0.6051131  0.75117457 0.63284755 0.8184065\n",
            " 0.8484318  0.6915796  0.57132185 0.6745622  0.68760055 0.7302799\n",
            " 0.6635643  0.69817483 0.7513052  0.84871423 0.75136113 0.75242734\n",
            " 0.91051084 0.63166636 0.8124464  0.65331864 0.5916673  0.8123318\n",
            " 0.8440001  0.6380197  0.61085916 0.7779131  0.80951333 0.7908157\n",
            " 0.5265713  0.6577301  0.7249457  0.63555217 0.6751585  0.6777468\n",
            " 0.6067804  0.9047257  0.68699896 0.61828905 0.8126246  0.74703264\n",
            " 0.6409496  0.82885253 0.7684036  0.6690285  0.60921955 0.61484385\n",
            " 0.64663184 0.6630615  0.54806995 0.5483021  0.6894976  0.7168579\n",
            " 0.6528658  0.803693   0.64206135 0.8556742  0.8714997  0.5712851\n",
            " 0.70726603 0.64136136 0.7586745  0.51666677 0.812606   0.85657394\n",
            " 0.69616145 0.78427726 0.6647594 ], shape=(147,), dtype=float32)\n",
            "tf.Tensor(\n",
            "[1.         0.60629714 0.60601556 0.6398802  0.6213261  0.55653703\n",
            " 0.6634922  0.7508003  0.8331511  0.66246897 0.61755776 0.5598265\n",
            " 0.6076223  0.7016859  0.72731364 0.65763557 0.7187611  0.7803997\n",
            " 0.65801215 0.668517   0.8246568  0.8059454  0.69007516 0.8574563\n",
            " 0.63437164 0.8246021  0.7049838  0.68779004 0.776912   0.7701387\n",
            " 0.7141179  0.7405678  0.63210636 0.5957628  0.7589429  0.77547354\n",
            " 0.79234695 0.60965014 0.604238   0.5880366  0.5410793  0.570511\n",
            " 0.67305434 0.58199984 0.62140703 0.6070372  0.61963964 0.54457295\n",
            " 0.5217581  0.47136927 0.54928976 0.5931456  0.49674892 0.5449955\n",
            " 0.56315744 0.6996994  0.80450714 0.6683506  0.6836411  0.692453\n",
            " 0.6396235  0.65331334 0.55481344 0.6252446  0.62788737 0.60841036\n",
            " 0.6946995  0.7055192  0.5344057  0.5746763  0.53325546 0.6366911\n",
            " 0.7033915  0.65370476 0.76624054 0.67811835 0.62065756 0.5009306\n",
            " 0.62255454 0.51109004 0.5631882  0.6600086  0.53545463 0.65588593\n",
            " 0.55109334 0.660453   0.5635936  0.5693413  0.60038495 0.78295344\n",
            " 0.6449574  0.7060336  0.68764323 0.6723834  0.6109133  0.63197863\n",
            " 0.609141   0.5861771  0.65649176 0.6355578  0.60888207 0.55970144\n",
            " 0.7009007  0.56374437 0.60461426 0.55883753 0.64862984 0.63929\n",
            " 0.70528626 0.71635425 0.58207136 0.71959054 0.6275412  0.6887538\n",
            " 0.5664891  0.68441826 0.6148664  0.5897442  0.53821784 0.6047175\n",
            " 0.5180819  0.69152665 0.5855479  0.5890227  0.67878467 0.5460112\n",
            " 0.6244407  0.6431447  0.63665587 0.7363118  0.72786486 0.6744472\n",
            " 0.6303024  0.61574566 0.5771612  0.6734743  0.55518126 0.6956438\n",
            " 0.5264524  0.52284694 0.56288844 0.63951457 0.6507729  0.5520506\n",
            " 0.7151048  0.57769984 0.55690193], shape=(147,), dtype=float32)\n",
            "tf.Tensor(\n",
            "[0.5892725  0.63752395 0.58537906 0.62654114 0.59790784 0.5550885\n",
            " 0.54821354 0.5571705  0.5192341  0.5810293  0.605577   0.5772934\n",
            " 0.61341953 0.52435374 0.5972352  0.6457453  0.6535214  0.6891002\n",
            " 0.65521216 0.7139981  0.5611707  0.4924429  0.5700396  0.729895\n",
            " 0.7016234  0.55643904 0.62091535 0.7100442  0.6650965  0.64390147\n",
            " 0.5422088  0.67267656 0.6846298  0.68605006 0.63518864 0.6690228\n",
            " 0.49327457 0.67984563 0.5822326  0.47642237 0.56696343 0.6554231\n",
            " 0.5396738  0.59142894 0.62587416 0.6483427  0.66615975 0.7190089\n",
            " 0.63067204 0.5834581  0.7079247  0.68246216 0.6243578  0.47565782\n",
            " 0.513313   0.58772784 0.5442859  0.6507936  0.56114674 0.62968373\n",
            " 0.5625839  0.5863749  0.50299144 0.75871944 0.7290443  0.6718227\n",
            " 0.5655383  0.7230059  0.6593786  0.6452148  0.68739045 0.6442694\n",
            " 0.6078272  0.5681063  0.6142369  0.68498844 0.60071623 0.49242663\n",
            " 0.5253673  0.72299683 0.6059669  0.69585645 0.5453949  0.5915718\n",
            " 0.6522299  0.5194094  0.71093506 0.7125173  0.64077115 0.7043536\n",
            " 0.70473045 0.5860996  0.7628293  0.7583941  0.60449326 0.6441616\n",
            " 0.5250133  0.6352916  0.5139563  0.67216015 0.6584726  0.60223436\n",
            " 0.6179777  0.62078106 0.6691419  0.71950746 0.6162108  0.6456516\n",
            " 0.70249355 0.5783251  0.76725626 0.7504409  0.6567501  0.5588806\n",
            " 0.60220844 0.52610135 0.7108532  0.54428357 0.5641862  0.52436686\n",
            " 0.5382407  0.5694623  0.5168636  0.65109503 0.5516986  0.5922006\n",
            " 0.6490105  0.62877756 0.76848674 0.71347696 0.6785736  0.6177175\n",
            " 0.62755215 0.5841534  0.5664401  0.70094657 0.53595495 0.62493575\n",
            " 0.614012   0.5198684  0.5842555  0.56356895 0.50864357 0.5528229\n",
            " 0.6665457  0.7724754  0.7545178 ], shape=(147,), dtype=float32)\n",
            "tf.Tensor(\n",
            "[0.6818589  0.6491712  0.71467423 0.7152192  0.61231124 0.5421369\n",
            " 0.5303331  0.5410838  0.5791769  0.5637584  0.4993857  0.6376684\n",
            " 0.7043311  0.61759675 0.6587677  0.5251328  0.622082   0.602255\n",
            " 0.72471297 0.5241083  0.53164303 0.4990604  0.5370434  0.58728063\n",
            " 0.5506792  0.53412473 0.55387354 0.59989667 0.5157299  0.55708206\n",
            " 0.65534186 0.5938904  0.53325236 0.5689889  0.689201   0.5140257\n",
            " 0.5429311  0.50928915 0.5586555  0.6359341  0.7118994  0.60584784\n",
            " 0.70217526 0.5462562  0.54735696 0.64147925 0.6512228  0.5334528\n",
            " 0.57490176 0.6096015  0.50832975 0.5758213  0.66337895 0.55341375\n",
            " 0.5267798  0.63220406 0.5695127  0.79304284 0.6339929  0.7613723\n",
            " 0.7247138  0.5941368  0.7135521  0.71991104 0.6117977  0.5553024\n",
            " 0.6127889  0.5598887  0.64996594 0.6010705  0.6518247  0.56144404\n",
            " 0.6444392  0.5447211  0.5168311  0.6039909  0.53035533 0.68103623\n",
            " 0.57737374 0.6856642  0.53726    0.7749006  0.7204166  0.6852491\n",
            " 0.63770914 0.6801058  0.55819964 0.6564227  0.60754216 0.5414686\n",
            " 0.611518   0.6573107  0.49331808 0.5899931  0.5542296  0.553573\n",
            " 0.55535656 0.5828469  0.6271025  0.58284783 0.60256296 0.64367735\n",
            " 0.53618395 0.524801   0.5612122  0.55079746 0.59792453 0.58817357\n",
            " 0.629519   0.6190065  0.5277288  0.64239055 0.5849743  0.5169872\n",
            " 0.6157737  0.58128226 0.67988133 0.7304431  0.82877666 0.72348714\n",
            " 0.7461232  0.73851633 0.8740958  0.74995035 0.7110362  0.7440375\n",
            " 0.7210243  0.7684962  0.8640835  0.8258403  0.70214236 0.74015915\n",
            " 0.6597693  0.66971207 0.74157965 0.6886427  0.76380235 0.71981764\n",
            " 0.84699863 0.69631296 0.6939974  0.6613471  0.802409   0.761049\n",
            " 0.83266103 0.78196007 0.7481837 ], shape=(147,), dtype=float32)\n",
            "tf.Tensor(\n",
            "[0.6563116  0.6969311  0.87512547 0.79251677 0.7015817  0.82319593\n",
            " 0.76020074 0.77525705 0.87305385 0.5376959  0.7337817  0.8527021\n",
            " 0.74542403 0.8231643  0.6933043  0.81259346 0.8416844  0.6612199\n",
            " 0.7984148  0.6886616  0.83277434 0.7403712  0.7757301  0.72719985\n",
            " 0.73828954 0.73462784 0.6995963  0.82568455 0.7097241  0.7510491\n",
            " 0.7725518  0.79857314 0.83267236 0.5366365  0.5611938  0.73621356\n",
            " 0.764132   0.6504495  0.77743465 0.79068404 0.67097056 0.750291\n",
            " 0.7613071  0.8686884  0.7608943  0.64523566 0.7649294  0.70362055\n",
            " 0.71238476 0.9135141  0.5302336  0.7076175  0.7545445  0.74687225\n",
            " 0.8079847  0.72073454 0.66815627 0.7257403  0.849617   0.64311206\n",
            " 0.6531158  0.8496111  0.6812565  0.72925013 0.85450447 0.76587105\n",
            " 0.75575215 0.7668144  0.8087684  0.73827773 0.7847415  0.68730235\n",
            " 0.670655   0.69083107 0.78360367 0.7632098  0.67582166 0.7849663\n",
            " 0.76259506 0.80339015 0.8390347  0.71772164 0.6334715  0.7708667\n",
            " 0.74267256 0.7510498  0.7580247  0.76638174 0.8233094  0.6867576\n",
            " 0.72556853 0.7828139  0.7118199  0.6635455  0.7768657  0.72336125\n",
            " 0.78122467 0.7937078  0.76599824 0.7744044  0.68355846 0.7487499\n",
            " 0.76023424 0.7898106  0.51851547 0.75762945 0.73818696 0.76285774\n",
            " 0.89279383 0.7559027  0.62904334 0.8492539  0.79260284 0.7600319\n",
            " 0.76334274 0.65218854 0.7424056  0.61100686 0.7532623  0.75884986\n",
            " 0.8515885  0.71759593 0.73630065 0.8049271  0.757498   0.7796393\n",
            " 0.76636815 0.68348384 0.76514107 0.8293438  0.7974295  0.6969435\n",
            " 0.7491323  0.7880728  0.71850663 0.7368397  0.7079624  0.8475262\n",
            " 0.7540225  0.7999607  0.7039525  0.69990015 0.8196883  0.76703966\n",
            " 0.7526412  0.8347573  0.75756645], shape=(147,), dtype=float32)\n",
            "tf.Tensor(\n",
            "[0.85871667 0.7526835  0.8302746  0.7548361  0.7184447  0.71054006\n",
            " 0.7682417  0.74698913 0.8334781  0.6449436  0.81424665 0.6502923\n",
            " 0.8031914  0.86099505 0.7241425  0.6714742  0.8686972  0.60639536\n",
            " 0.7298417  0.7722318  0.68935305 0.8130299  0.72487366 0.89075005\n",
            " 0.71031034 0.673832   0.73961884 0.80005336 0.80853975 0.6582208\n",
            " 0.76901597 0.84352964 0.7001724  0.728449   0.76061165 0.80159616\n",
            " 0.7017591  0.7642938  0.81489253 0.91041505 0.7854793  0.743665\n",
            " 0.870522   0.7225121  0.8386632  0.6968744  0.6513878  0.7938213\n",
            " 0.75404024 0.6902651  0.88543403 0.7607356  0.7578082  0.7083455\n",
            " 0.61818    0.7397974  0.81967723 0.68767345 0.7906866  0.8537065\n",
            " 0.59512913 0.81827474 0.72064376 0.79990816 0.5770641  0.80785453\n",
            " 0.6079577  0.6950768  0.6550255  0.7637252  0.7120109  0.82356966\n",
            " 0.77753234 0.75744337 0.8512093  0.83334064 0.81395555 0.7699305\n",
            " 0.7062607  0.6690606  0.6505688  0.75024325 0.8375829  0.6891917\n",
            " 0.8001003  0.7091428  0.6143969  0.731605   0.5852287  0.8587763\n",
            " 0.75950277 0.79934835 0.76210517 0.79726154 0.8359708  0.76928675\n",
            " 0.7321898  0.70839083 0.80085826 0.67187333 0.8215508  0.7129443\n",
            " 0.7727035  0.7636466  0.82822806 0.9049897  0.66400254 0.6798918\n",
            " 0.671036   0.7673012  0.6809969  0.8395853  0.7858669  0.8051585\n",
            " 0.7919548  0.8574133  0.76445484 0.49774867 0.69124997 0.5183756\n",
            " 0.7804911  0.80672914 0.80023843 0.7381673  0.7544417  0.8867126\n",
            " 0.7150856  0.8739308  0.71716046 0.859377   0.6693223  0.7686587\n",
            " 0.85985196 0.75875777 0.6248176  0.77203697 0.67668545 0.7120323\n",
            " 0.8156403  0.79143757 0.62400055 0.7725217  0.7252683  0.60926783\n",
            " 0.7993256  0.61662495], shape=(146,), dtype=float32)\n",
            "tf.Tensor(\n",
            "[0.7730666  0.58962786 0.79705656 0.5909599  0.81314737 0.5798843\n",
            " 0.7752971  0.71969557 0.900854   0.7992946  0.64001185 0.81084406\n",
            " 0.7914037  0.8096975  0.83856636 0.8406589  0.8279774  0.67275\n",
            " 0.78791183 0.7081826  0.73209155 0.8147562  0.67696434 0.698299\n",
            " 0.8005193  0.7805282  0.70240766 0.7417543  0.75728    0.68064296\n",
            " 0.7905179  0.74371445 0.73055017 0.83752346 0.56344444 0.7906853\n",
            " 0.79873914 0.62003136 0.778103   0.80660677 0.73875654 0.82431555\n",
            " 0.70707685 0.7202282  0.63430333 0.7349976  0.7811491  0.85275\n",
            " 0.67755866 0.5751042  0.53150326 0.75431395 0.9116821  0.6198786\n",
            " 0.73048675 0.778312   0.657189   0.9011538  0.79715574 0.6664382\n",
            " 0.82154536 0.52328813 0.7308689  0.8565331  0.603685   0.71087563\n",
            " 0.7474042  0.8310521  0.7861629  0.73483294 0.7534177  0.64699864\n",
            " 0.664412   0.8216273  0.73331094 0.8777334  0.58361024 0.5629092\n",
            " 0.77972734 0.76468855 0.5748488  0.715057   0.60044944 0.6709126\n",
            " 0.65290457 0.7040179  0.5906101  0.7097166  0.71190256 0.84782904\n",
            " 0.70160294 0.64495695 0.7437515  0.8273459  0.6957299  0.5817889\n",
            " 0.5042397  0.5453183  0.5926125  0.6504071  0.58059895 0.739998\n",
            " 0.52403927 0.62831175 0.81286794 0.8191637  0.78436786 0.6697159\n",
            " 0.64949584 0.86631066 0.698956   0.74505264 0.75385386 0.660455\n",
            " 0.6278511  0.9998096  0.7493248  0.7260815  0.8545272  0.77430815\n",
            " 0.6975863  0.60317487 0.49039692 0.85162205 0.7643357  0.75002295\n",
            " 0.78809744 0.7788338  0.8026514  0.78515697 0.7824403  0.7810011\n",
            " 0.6352998  0.95771223 0.79233634 0.88877565 0.7845324  0.82666934\n",
            " 0.7777131  0.80197155 0.6618806  0.79784083 0.5755232  0.62007344\n",
            " 0.6227191  0.6669046 ], shape=(146,), dtype=float32)\n",
            "[<tf.Tensor: shape=(), dtype=float32, numpy=0.9302299>, <tf.Tensor: shape=(), dtype=float32, numpy=0.91503537>, <tf.Tensor: shape=(), dtype=float32, numpy=0.8858436>, <tf.Tensor: shape=(), dtype=float32, numpy=0.81598777>, <tf.Tensor: shape=(), dtype=float32, numpy=0.82499564>, <tf.Tensor: shape=(), dtype=float32, numpy=0.7876028>, <tf.Tensor: shape=(), dtype=float32, numpy=0.842623>, <tf.Tensor: shape=(), dtype=float32, numpy=0.7653434>, <tf.Tensor: shape=(), dtype=float32, numpy=0.85355747>, <tf.Tensor: shape=(), dtype=float32, numpy=0.831003>, <tf.Tensor: shape=(), dtype=float32, numpy=0.79168063>, <tf.Tensor: shape=(), dtype=float32, numpy=0.69776666>, <tf.Tensor: shape=(), dtype=float32, numpy=0.84689224>, <tf.Tensor: shape=(), dtype=float32, numpy=0.8538161>, <tf.Tensor: shape=(), dtype=float32, numpy=0.84618706>, <tf.Tensor: shape=(), dtype=float32, numpy=0.66369575>, <tf.Tensor: shape=(), dtype=float32, numpy=0.82812774>, <tf.Tensor: shape=(), dtype=float32, numpy=0.88605976>, <tf.Tensor: shape=(), dtype=float32, numpy=0.86942405>, <tf.Tensor: shape=(), dtype=float32, numpy=0.68831384>, <tf.Tensor: shape=(), dtype=float32, numpy=0.7562237>, <tf.Tensor: shape=(), dtype=float32, numpy=0.69235843>, <tf.Tensor: shape=(), dtype=float32, numpy=0.79055065>, <tf.Tensor: shape=(), dtype=float32, numpy=0.6884094>, <tf.Tensor: shape=(), dtype=float32, numpy=0.68400353>, <tf.Tensor: shape=(), dtype=float32, numpy=0.72296345>, <tf.Tensor: shape=(), dtype=float32, numpy=0.7797556>, <tf.Tensor: shape=(), dtype=float32, numpy=0.78858244>, <tf.Tensor: shape=(), dtype=float32, numpy=0.63529944>, <tf.Tensor: shape=(), dtype=float32, numpy=0.60642076>, <tf.Tensor: shape=(), dtype=float32, numpy=0.7827172>, <tf.Tensor: shape=(), dtype=float32, numpy=0.82756484>, <tf.Tensor: shape=(), dtype=float32, numpy=0.8482493>, <tf.Tensor: shape=(), dtype=float32, numpy=0.8761115>, <tf.Tensor: shape=(), dtype=float32, numpy=0.85381556>, <tf.Tensor: shape=(), dtype=float32, numpy=0.80827314>, <tf.Tensor: shape=(), dtype=float32, numpy=0.8993039>, <tf.Tensor: shape=(), dtype=float32, numpy=0.87050664>, <tf.Tensor: shape=(), dtype=float32, numpy=0.85451055>, <tf.Tensor: shape=(), dtype=float32, numpy=0.6994206>, <tf.Tensor: shape=(), dtype=float32, numpy=0.78373015>, <tf.Tensor: shape=(), dtype=float32, numpy=0.77094877>, <tf.Tensor: shape=(), dtype=float32, numpy=0.6498592>, <tf.Tensor: shape=(), dtype=float32, numpy=0.80625653>, <tf.Tensor: shape=(), dtype=float32, numpy=0.71406555>, <tf.Tensor: shape=(), dtype=float32, numpy=0.62295604>, <tf.Tensor: shape=(), dtype=float32, numpy=0.6294185>, <tf.Tensor: shape=(), dtype=float32, numpy=0.5808517>, <tf.Tensor: shape=(), dtype=float32, numpy=0.79910994>, <tf.Tensor: shape=(), dtype=float32, numpy=0.81647944>, <tf.Tensor: shape=(), dtype=float32, numpy=0.62979925>, <tf.Tensor: shape=(), dtype=float32, numpy=0.74218786>, <tf.Tensor: shape=(), dtype=float32, numpy=0.7761008>, <tf.Tensor: shape=(), dtype=float32, numpy=0.83404756>, <tf.Tensor: shape=(), dtype=float32, numpy=0.6216673>, <tf.Tensor: shape=(), dtype=float32, numpy=0.6567863>, <tf.Tensor: shape=(), dtype=float32, numpy=0.62281734>, <tf.Tensor: shape=(), dtype=float32, numpy=0.6109237>, <tf.Tensor: shape=(), dtype=float32, numpy=0.75858635>, <tf.Tensor: shape=(), dtype=float32, numpy=0.5805177>, <tf.Tensor: shape=(), dtype=float32, numpy=0.7166968>, <tf.Tensor: shape=(), dtype=float32, numpy=0.7928418>, <tf.Tensor: shape=(), dtype=float32, numpy=0.62633>, <tf.Tensor: shape=(), dtype=float32, numpy=0.8074719>, <tf.Tensor: shape=(), dtype=float32, numpy=0.76240706>, <tf.Tensor: shape=(), dtype=float32, numpy=0.61664796>, <tf.Tensor: shape=(), dtype=float32, numpy=0.7904217>, <tf.Tensor: shape=(), dtype=float32, numpy=0.8163034>, <tf.Tensor: shape=(), dtype=float32, numpy=0.72792274>, <tf.Tensor: shape=(), dtype=float32, numpy=0.761857>, <tf.Tensor: shape=(), dtype=float32, numpy=0.7445427>, <tf.Tensor: shape=(), dtype=float32, numpy=0.70667005>, <tf.Tensor: shape=(), dtype=float32, numpy=0.7072114>, <tf.Tensor: shape=(), dtype=float32, numpy=0.6327467>, <tf.Tensor: shape=(), dtype=float32, numpy=0.5465035>, <tf.Tensor: shape=(), dtype=float32, numpy=0.78934056>, <tf.Tensor: shape=(), dtype=float32, numpy=0.6994473>, <tf.Tensor: shape=(), dtype=float32, numpy=0.7767464>, <tf.Tensor: shape=(), dtype=float32, numpy=0.62703764>, <tf.Tensor: shape=(), dtype=float32, numpy=0.7213806>, <tf.Tensor: shape=(), dtype=float32, numpy=0.7389682>, <tf.Tensor: shape=(), dtype=float32, numpy=0.5994146>, <tf.Tensor: shape=(), dtype=float32, numpy=0.5685327>, <tf.Tensor: shape=(), dtype=float32, numpy=0.7267419>, <tf.Tensor: shape=(), dtype=float32, numpy=0.842376>, <tf.Tensor: shape=(), dtype=float32, numpy=0.59308857>, <tf.Tensor: shape=(), dtype=float32, numpy=0.6855235>, <tf.Tensor: shape=(), dtype=float32, numpy=0.74041915>, <tf.Tensor: shape=(), dtype=float32, numpy=0.76750153>, <tf.Tensor: shape=(), dtype=float32, numpy=0.69425166>, <tf.Tensor: shape=(), dtype=float32, numpy=0.7311045>, <tf.Tensor: shape=(), dtype=float32, numpy=0.69657123>, <tf.Tensor: shape=(), dtype=float32, numpy=0.64072067>, <tf.Tensor: shape=(), dtype=float32, numpy=0.59097934>, <tf.Tensor: shape=(), dtype=float32, numpy=0.6183263>, <tf.Tensor: shape=(), dtype=float32, numpy=0.69071674>, <tf.Tensor: shape=(), dtype=float32, numpy=0.60370344>, <tf.Tensor: shape=(), dtype=float32, numpy=0.6051176>, <tf.Tensor: shape=(), dtype=float32, numpy=0.60414124>, <tf.Tensor: shape=(), dtype=float32, numpy=0.7142632>, <tf.Tensor: shape=(), dtype=float32, numpy=0.5375985>, <tf.Tensor: shape=(), dtype=float32, numpy=0.63000387>, <tf.Tensor: shape=(), dtype=float32, numpy=0.74074566>, <tf.Tensor: shape=(), dtype=float32, numpy=0.6862904>, <tf.Tensor: shape=(), dtype=float32, numpy=0.585317>, <tf.Tensor: shape=(), dtype=float32, numpy=0.7382071>, <tf.Tensor: shape=(), dtype=float32, numpy=0.7383567>, <tf.Tensor: shape=(), dtype=float32, numpy=0.7639179>, <tf.Tensor: shape=(), dtype=float32, numpy=0.6364001>, <tf.Tensor: shape=(), dtype=float32, numpy=0.6723501>, <tf.Tensor: shape=(), dtype=float32, numpy=0.61222637>, <tf.Tensor: shape=(), dtype=float32, numpy=0.58095014>, <tf.Tensor: shape=(), dtype=float32, numpy=0.54545283>, <tf.Tensor: shape=(), dtype=float32, numpy=0.630245>, <tf.Tensor: shape=(), dtype=float32, numpy=0.56016386>, <tf.Tensor: shape=(), dtype=float32, numpy=0.53548604>, <tf.Tensor: shape=(), dtype=float32, numpy=0.7204915>, <tf.Tensor: shape=(), dtype=float32, numpy=0.7089822>, <tf.Tensor: shape=(), dtype=float32, numpy=0.5256241>, <tf.Tensor: shape=(), dtype=float32, numpy=0.5797163>, <tf.Tensor: shape=(), dtype=float32, numpy=0.6164161>, <tf.Tensor: shape=(), dtype=float32, numpy=0.61647815>, <tf.Tensor: shape=(), dtype=float32, numpy=0.6393907>, <tf.Tensor: shape=(), dtype=float32, numpy=0.6276372>, <tf.Tensor: shape=(), dtype=float32, numpy=0.68911076>, <tf.Tensor: shape=(), dtype=float32, numpy=0.70020056>, <tf.Tensor: shape=(), dtype=float32, numpy=0.5827583>, <tf.Tensor: shape=(), dtype=float32, numpy=0.5733546>, <tf.Tensor: shape=(), dtype=float32, numpy=0.6605866>, <tf.Tensor: shape=(), dtype=float32, numpy=0.70066303>, <tf.Tensor: shape=(), dtype=float32, numpy=0.54056334>, <tf.Tensor: shape=(), dtype=float32, numpy=0.77515006>, <tf.Tensor: shape=(), dtype=float32, numpy=0.84541>, <tf.Tensor: shape=(), dtype=float32, numpy=0.8901459>, <tf.Tensor: shape=(), dtype=float32, numpy=0.8801192>, <tf.Tensor: shape=(), dtype=float32, numpy=0.8801192>, <tf.Tensor: shape=(), dtype=float32, numpy=0.8710833>, <tf.Tensor: shape=(), dtype=float32, numpy=0.81206155>, <tf.Tensor: shape=(), dtype=float32, numpy=0.74121165>, <tf.Tensor: shape=(), dtype=float32, numpy=0.80030555>, <tf.Tensor: shape=(), dtype=float32, numpy=0.6826661>, <tf.Tensor: shape=(), dtype=float32, numpy=0.9378644>, <tf.Tensor: shape=(), dtype=float32, numpy=0.84209573>, <tf.Tensor: shape=(), dtype=float32, numpy=0.7160958>, <tf.Tensor: shape=(), dtype=float32, numpy=0.8387605>, <tf.Tensor: shape=(), dtype=float32, numpy=0.7045119>, <tf.Tensor: shape=(), dtype=float32, numpy=0.663118>, <tf.Tensor: shape=(), dtype=float32, numpy=0.6742361>, <tf.Tensor: shape=(), dtype=float32, numpy=0.6884094>, <tf.Tensor: shape=(), dtype=float32, numpy=0.6810005>, <tf.Tensor: shape=(), dtype=float32, numpy=0.78999233>, <tf.Tensor: shape=(), dtype=float32, numpy=0.7635123>, <tf.Tensor: shape=(), dtype=float32, numpy=0.86259186>, <tf.Tensor: shape=(), dtype=float32, numpy=0.65559655>, <tf.Tensor: shape=(), dtype=float32, numpy=0.6491621>, <tf.Tensor: shape=(), dtype=float32, numpy=0.7384449>, <tf.Tensor: shape=(), dtype=float32, numpy=0.6763821>, <tf.Tensor: shape=(), dtype=float32, numpy=0.6763821>, <tf.Tensor: shape=(), dtype=float32, numpy=0.77363026>, <tf.Tensor: shape=(), dtype=float32, numpy=0.6932144>, <tf.Tensor: shape=(), dtype=float32, numpy=0.7354921>, <tf.Tensor: shape=(), dtype=float32, numpy=0.6528002>, <tf.Tensor: shape=(), dtype=float32, numpy=0.8117787>, <tf.Tensor: shape=(), dtype=float32, numpy=0.715682>, <tf.Tensor: shape=(), dtype=float32, numpy=0.61647916>, <tf.Tensor: shape=(), dtype=float32, numpy=0.7565648>, <tf.Tensor: shape=(), dtype=float32, numpy=0.8007289>, <tf.Tensor: shape=(), dtype=float32, numpy=0.7159257>, <tf.Tensor: shape=(), dtype=float32, numpy=0.6239676>, <tf.Tensor: shape=(), dtype=float32, numpy=0.7608707>, <tf.Tensor: shape=(), dtype=float32, numpy=0.7160672>, <tf.Tensor: shape=(), dtype=float32, numpy=0.77445215>, <tf.Tensor: shape=(), dtype=float32, numpy=0.7218182>, <tf.Tensor: shape=(), dtype=float32, numpy=0.61346984>, <tf.Tensor: shape=(), dtype=float32, numpy=0.70706093>, <tf.Tensor: shape=(), dtype=float32, numpy=0.8454647>, <tf.Tensor: shape=(), dtype=float32, numpy=0.61943406>, <tf.Tensor: shape=(), dtype=float32, numpy=0.7761463>, <tf.Tensor: shape=(), dtype=float32, numpy=0.6311761>, <tf.Tensor: shape=(), dtype=float32, numpy=0.6434546>, <tf.Tensor: shape=(), dtype=float32, numpy=0.6291318>, <tf.Tensor: shape=(), dtype=float32, numpy=0.62756604>, <tf.Tensor: shape=(), dtype=float32, numpy=0.69215906>, <tf.Tensor: shape=(), dtype=float32, numpy=0.6338959>, <tf.Tensor: shape=(), dtype=float32, numpy=0.78261685>, <tf.Tensor: shape=(), dtype=float32, numpy=0.7924995>, <tf.Tensor: shape=(), dtype=float32, numpy=0.60694903>, <tf.Tensor: shape=(), dtype=float32, numpy=0.8308108>, <tf.Tensor: shape=(), dtype=float32, numpy=0.63466537>, <tf.Tensor: shape=(), dtype=float32, numpy=0.68877137>, <tf.Tensor: shape=(), dtype=float32, numpy=0.8073664>, <tf.Tensor: shape=(), dtype=float32, numpy=0.7042692>, <tf.Tensor: shape=(), dtype=float32, numpy=0.7701653>, <tf.Tensor: shape=(), dtype=float32, numpy=0.7436783>, <tf.Tensor: shape=(), dtype=float32, numpy=0.73082376>, <tf.Tensor: shape=(), dtype=float32, numpy=0.63002205>, <tf.Tensor: shape=(), dtype=float32, numpy=0.6032307>, <tf.Tensor: shape=(), dtype=float32, numpy=0.75060016>, <tf.Tensor: shape=(), dtype=float32, numpy=0.7465824>, <tf.Tensor: shape=(), dtype=float32, numpy=0.55660963>, <tf.Tensor: shape=(), dtype=float32, numpy=0.5525405>, <tf.Tensor: shape=(), dtype=float32, numpy=0.5998831>, <tf.Tensor: shape=(), dtype=float32, numpy=0.62529325>, <tf.Tensor: shape=(), dtype=float32, numpy=0.6332879>, <tf.Tensor: shape=(), dtype=float32, numpy=0.6514944>, <tf.Tensor: shape=(), dtype=float32, numpy=0.6071727>, <tf.Tensor: shape=(), dtype=float32, numpy=0.6381289>, <tf.Tensor: shape=(), dtype=float32, numpy=0.7061337>, <tf.Tensor: shape=(), dtype=float32, numpy=0.7876287>, <tf.Tensor: shape=(), dtype=float32, numpy=0.67584324>, <tf.Tensor: shape=(), dtype=float32, numpy=0.6184299>, <tf.Tensor: shape=(), dtype=float32, numpy=0.6540142>, <tf.Tensor: shape=(), dtype=float32, numpy=0.637438>, <tf.Tensor: shape=(), dtype=float32, numpy=0.5541798>, <tf.Tensor: shape=(), dtype=float32, numpy=0.57676816>, <tf.Tensor: shape=(), dtype=float32, numpy=0.56864226>, <tf.Tensor: shape=(), dtype=float32, numpy=0.7200633>, <tf.Tensor: shape=(), dtype=float32, numpy=0.59869874>, <tf.Tensor: shape=(), dtype=float32, numpy=0.7452746>, <tf.Tensor: shape=(), dtype=float32, numpy=0.6884382>, <tf.Tensor: shape=(), dtype=float32, numpy=0.764023>, <tf.Tensor: shape=(), dtype=float32, numpy=0.6274538>, <tf.Tensor: shape=(), dtype=float32, numpy=0.6645781>, <tf.Tensor: shape=(), dtype=float32, numpy=0.64067644>, <tf.Tensor: shape=(), dtype=float32, numpy=0.69710577>, <tf.Tensor: shape=(), dtype=float32, numpy=0.7303102>, <tf.Tensor: shape=(), dtype=float32, numpy=0.5481704>, <tf.Tensor: shape=(), dtype=float32, numpy=0.6935409>, <tf.Tensor: shape=(), dtype=float32, numpy=0.5587617>, <tf.Tensor: shape=(), dtype=float32, numpy=0.56779623>, <tf.Tensor: shape=(), dtype=float32, numpy=0.678712>, <tf.Tensor: shape=(), dtype=float32, numpy=0.5896338>, <tf.Tensor: shape=(), dtype=float32, numpy=0.5358856>, <tf.Tensor: shape=(), dtype=float32, numpy=0.70272297>, <tf.Tensor: shape=(), dtype=float32, numpy=0.7460544>, <tf.Tensor: shape=(), dtype=float32, numpy=0.6822789>, <tf.Tensor: shape=(), dtype=float32, numpy=0.7237442>, <tf.Tensor: shape=(), dtype=float32, numpy=0.77616745>, <tf.Tensor: shape=(), dtype=float32, numpy=0.8364238>, <tf.Tensor: shape=(), dtype=float32, numpy=0.5932393>, <tf.Tensor: shape=(), dtype=float32, numpy=0.5778526>, <tf.Tensor: shape=(), dtype=float32, numpy=0.75416994>, <tf.Tensor: shape=(), dtype=float32, numpy=0.5783886>, <tf.Tensor: shape=(), dtype=float32, numpy=0.63754696>, <tf.Tensor: shape=(), dtype=float32, numpy=0.54971707>, <tf.Tensor: shape=(), dtype=float32, numpy=0.51859605>, <tf.Tensor: shape=(), dtype=float32, numpy=0.5445749>, <tf.Tensor: shape=(), dtype=float32, numpy=0.69318783>, <tf.Tensor: shape=(), dtype=float32, numpy=0.7853374>, <tf.Tensor: shape=(), dtype=float32, numpy=0.58841383>, <tf.Tensor: shape=(), dtype=float32, numpy=0.778023>, <tf.Tensor: shape=(), dtype=float32, numpy=0.4988293>, <tf.Tensor: shape=(), dtype=float32, numpy=0.6355533>, <tf.Tensor: shape=(), dtype=float32, numpy=0.6775615>, <tf.Tensor: shape=(), dtype=float32, numpy=0.7544156>, <tf.Tensor: shape=(), dtype=float32, numpy=0.72248584>, <tf.Tensor: shape=(), dtype=float32, numpy=0.5996314>, <tf.Tensor: shape=(), dtype=float32, numpy=0.7241158>, <tf.Tensor: shape=(), dtype=float32, numpy=0.7865595>, <tf.Tensor: shape=(), dtype=float32, numpy=0.682952>, <tf.Tensor: shape=(), dtype=float32, numpy=0.5882238>, <tf.Tensor: shape=(), dtype=float32, numpy=0.6536304>, <tf.Tensor: shape=(), dtype=float32, numpy=0.7797395>, <tf.Tensor: shape=(), dtype=float32, numpy=0.64753634>, <tf.Tensor: shape=(), dtype=float32, numpy=0.81638217>, <tf.Tensor: shape=(), dtype=float32, numpy=0.7818084>, <tf.Tensor: shape=(), dtype=float32, numpy=0.683482>, <tf.Tensor: shape=(), dtype=float32, numpy=0.75577587>, <tf.Tensor: shape=(), dtype=float32, numpy=0.661076>, <tf.Tensor: shape=(), dtype=float32, numpy=0.7630203>, <tf.Tensor: shape=(), dtype=float32, numpy=0.77365017>, <tf.Tensor: shape=(), dtype=float32, numpy=0.74860716>, <tf.Tensor: shape=(), dtype=float32, numpy=0.8070051>, <tf.Tensor: shape=(), dtype=float32, numpy=0.7872994>, <tf.Tensor: shape=(), dtype=float32, numpy=0.71610785>, <tf.Tensor: shape=(), dtype=float32, numpy=0.75510854>, <tf.Tensor: shape=(), dtype=float32, numpy=0.53401256>, <tf.Tensor: shape=(), dtype=float32, numpy=0.76562285>, <tf.Tensor: shape=(), dtype=float32, numpy=0.7699733>, <tf.Tensor: shape=(), dtype=float32, numpy=0.6721261>, <tf.Tensor: shape=(), dtype=float32, numpy=0.68606305>, <tf.Tensor: shape=(), dtype=float32, numpy=0.8332484>, <tf.Tensor: shape=(), dtype=float32, numpy=0.80633235>, <tf.Tensor: shape=(), dtype=float32, numpy=0.7910143>, <tf.Tensor: shape=(), dtype=float32, numpy=0.59165007>, <tf.Tensor: shape=(), dtype=float32, numpy=0.6229497>, <tf.Tensor: shape=(), dtype=float32, numpy=0.6008956>, <tf.Tensor: shape=(), dtype=float32, numpy=0.6076056>, <tf.Tensor: shape=(), dtype=float32, numpy=0.5787107>, <tf.Tensor: shape=(), dtype=float32, numpy=0.69091797>, <tf.Tensor: shape=(), dtype=float32, numpy=0.8606776>, <tf.Tensor: shape=(), dtype=float32, numpy=0.51965094>, <tf.Tensor: shape=(), dtype=float32, numpy=0.62740713>, <tf.Tensor: shape=(), dtype=float32, numpy=0.6829742>, <tf.Tensor: shape=(), dtype=float32, numpy=0.7805657>, <tf.Tensor: shape=(), dtype=float32, numpy=0.6697469>, <tf.Tensor: shape=(), dtype=float32, numpy=0.73214066>, <tf.Tensor: shape=(), dtype=float32, numpy=0.85693145>, <tf.Tensor: shape=(), dtype=float32, numpy=0.6033771>, <tf.Tensor: shape=(), dtype=float32, numpy=0.73577285>, <tf.Tensor: shape=(), dtype=float32, numpy=0.791942>, <tf.Tensor: shape=(), dtype=float32, numpy=0.6587832>, <tf.Tensor: shape=(), dtype=float32, numpy=0.8074864>, <tf.Tensor: shape=(), dtype=float32, numpy=0.74162227>, <tf.Tensor: shape=(), dtype=float32, numpy=0.8105132>, <tf.Tensor: shape=(), dtype=float32, numpy=0.7012738>, <tf.Tensor: shape=(), dtype=float32, numpy=0.8477686>, <tf.Tensor: shape=(), dtype=float32, numpy=0.80224276>, <tf.Tensor: shape=(), dtype=float32, numpy=0.5715561>, <tf.Tensor: shape=(), dtype=float32, numpy=0.71852136>, <tf.Tensor: shape=(), dtype=float32, numpy=0.6152115>, <tf.Tensor: shape=(), dtype=float32, numpy=0.7219618>, <tf.Tensor: shape=(), dtype=float32, numpy=0.6425722>, <tf.Tensor: shape=(), dtype=float32, numpy=0.7279067>, <tf.Tensor: shape=(), dtype=float32, numpy=0.6394905>, <tf.Tensor: shape=(), dtype=float32, numpy=0.5820339>, <tf.Tensor: shape=(), dtype=float32, numpy=0.72102165>, <tf.Tensor: shape=(), dtype=float32, numpy=0.6956299>, <tf.Tensor: shape=(), dtype=float32, numpy=0.77214074>, <tf.Tensor: shape=(), dtype=float32, numpy=0.6253849>, <tf.Tensor: shape=(), dtype=float32, numpy=0.7852201>, <tf.Tensor: shape=(), dtype=float32, numpy=0.72327554>, <tf.Tensor: shape=(), dtype=float32, numpy=0.675202>, <tf.Tensor: shape=(), dtype=float32, numpy=0.6680881>, <tf.Tensor: shape=(), dtype=float32, numpy=0.7708908>, <tf.Tensor: shape=(), dtype=float32, numpy=0.6724003>, <tf.Tensor: shape=(), dtype=float32, numpy=0.8093187>, <tf.Tensor: shape=(), dtype=float32, numpy=0.8042174>, <tf.Tensor: shape=(), dtype=float32, numpy=0.7161123>, <tf.Tensor: shape=(), dtype=float32, numpy=0.6585719>, <tf.Tensor: shape=(), dtype=float32, numpy=0.7411753>, <tf.Tensor: shape=(), dtype=float32, numpy=0.64570534>, <tf.Tensor: shape=(), dtype=float32, numpy=0.75272566>, <tf.Tensor: shape=(), dtype=float32, numpy=0.6595945>, <tf.Tensor: shape=(), dtype=float32, numpy=0.60672486>, <tf.Tensor: shape=(), dtype=float32, numpy=0.78435016>, <tf.Tensor: shape=(), dtype=float32, numpy=0.6756028>, <tf.Tensor: shape=(), dtype=float32, numpy=0.64700675>, <tf.Tensor: shape=(), dtype=float32, numpy=0.74918497>, <tf.Tensor: shape=(), dtype=float32, numpy=0.7616594>, <tf.Tensor: shape=(), dtype=float32, numpy=0.6413178>, <tf.Tensor: shape=(), dtype=float32, numpy=0.8159916>, <tf.Tensor: shape=(), dtype=float32, numpy=0.69965535>, <tf.Tensor: shape=(), dtype=float32, numpy=0.82877696>, <tf.Tensor: shape=(), dtype=float32, numpy=0.73305047>, <tf.Tensor: shape=(), dtype=float32, numpy=0.7227529>, <tf.Tensor: shape=(), dtype=float32, numpy=0.8248351>, <tf.Tensor: shape=(), dtype=float32, numpy=0.6694577>, <tf.Tensor: shape=(), dtype=float32, numpy=0.67288244>, <tf.Tensor: shape=(), dtype=float32, numpy=0.67955744>, <tf.Tensor: shape=(), dtype=float32, numpy=0.8173038>, <tf.Tensor: shape=(), dtype=float32, numpy=0.78731614>, <tf.Tensor: shape=(), dtype=float32, numpy=0.7772705>, <tf.Tensor: shape=(), dtype=float32, numpy=0.77027583>, <tf.Tensor: shape=(), dtype=float32, numpy=0.8186803>, <tf.Tensor: shape=(), dtype=float32, numpy=0.77826065>, <tf.Tensor: shape=(), dtype=float32, numpy=0.78984016>, <tf.Tensor: shape=(), dtype=float32, numpy=0.81503046>, <tf.Tensor: shape=(), dtype=float32, numpy=0.878253>, <tf.Tensor: shape=(), dtype=float32, numpy=0.60661817>, <tf.Tensor: shape=(), dtype=float32, numpy=0.52267903>, <tf.Tensor: shape=(), dtype=float32, numpy=0.8776244>, <tf.Tensor: shape=(), dtype=float32, numpy=0.6951852>, <tf.Tensor: shape=(), dtype=float32, numpy=0.6260034>, <tf.Tensor: shape=(), dtype=float32, numpy=0.7827651>, <tf.Tensor: shape=(), dtype=float32, numpy=0.8715849>, <tf.Tensor: shape=(), dtype=float32, numpy=0.6466836>, <tf.Tensor: shape=(), dtype=float32, numpy=0.85609496>, <tf.Tensor: shape=(), dtype=float32, numpy=0.8666916>, <tf.Tensor: shape=(), dtype=float32, numpy=0.8881664>, <tf.Tensor: shape=(), dtype=float32, numpy=0.6563016>, <tf.Tensor: shape=(), dtype=float32, numpy=0.67342097>, <tf.Tensor: shape=(), dtype=float32, numpy=0.74946034>, <tf.Tensor: shape=(), dtype=float32, numpy=0.7170009>, <tf.Tensor: shape=(), dtype=float32, numpy=0.8759206>, <tf.Tensor: shape=(), dtype=float32, numpy=0.8585021>, <tf.Tensor: shape=(), dtype=float32, numpy=0.77499557>, <tf.Tensor: shape=(), dtype=float32, numpy=0.788986>, <tf.Tensor: shape=(), dtype=float32, numpy=0.8702632>, <tf.Tensor: shape=(), dtype=float32, numpy=0.60592055>, <tf.Tensor: shape=(), dtype=float32, numpy=0.56868595>, <tf.Tensor: shape=(), dtype=float32, numpy=0.7251703>, <tf.Tensor: shape=(), dtype=float32, numpy=0.7394475>, <tf.Tensor: shape=(), dtype=float32, numpy=0.6301733>, <tf.Tensor: shape=(), dtype=float32, numpy=0.70604396>, <tf.Tensor: shape=(), dtype=float32, numpy=0.8282981>, <tf.Tensor: shape=(), dtype=float32, numpy=0.7046796>, <tf.Tensor: shape=(), dtype=float32, numpy=0.78390676>, <tf.Tensor: shape=(), dtype=float32, numpy=0.6743783>, <tf.Tensor: shape=(), dtype=float32, numpy=0.83462447>, <tf.Tensor: shape=(), dtype=float32, numpy=0.83125025>, <tf.Tensor: shape=(), dtype=float32, numpy=0.84529084>, <tf.Tensor: shape=(), dtype=float32, numpy=0.5968248>, <tf.Tensor: shape=(), dtype=float32, numpy=0.7482201>, <tf.Tensor: shape=(), dtype=float32, numpy=0.77380943>, <tf.Tensor: shape=(), dtype=float32, numpy=0.8278465>, <tf.Tensor: shape=(), dtype=float32, numpy=0.80757266>, <tf.Tensor: shape=(), dtype=float32, numpy=0.8593744>, <tf.Tensor: shape=(), dtype=float32, numpy=0.85056245>, <tf.Tensor: shape=(), dtype=float32, numpy=0.7694587>, <tf.Tensor: shape=(), dtype=float32, numpy=0.75142646>, <tf.Tensor: shape=(), dtype=float32, numpy=0.67208195>, <tf.Tensor: shape=(), dtype=float32, numpy=0.69248134>, <tf.Tensor: shape=(), dtype=float32, numpy=0.6042335>, <tf.Tensor: shape=(), dtype=float32, numpy=0.71772367>, <tf.Tensor: shape=(), dtype=float32, numpy=0.8125304>, <tf.Tensor: shape=(), dtype=float32, numpy=0.6015285>, <tf.Tensor: shape=(), dtype=float32, numpy=0.57021236>, <tf.Tensor: shape=(), dtype=float32, numpy=0.60687304>, <tf.Tensor: shape=(), dtype=float32, numpy=0.8207455>, <tf.Tensor: shape=(), dtype=float32, numpy=0.83592486>, <tf.Tensor: shape=(), dtype=float32, numpy=0.63886356>, <tf.Tensor: shape=(), dtype=float32, numpy=0.5592499>, <tf.Tensor: shape=(), dtype=float32, numpy=0.62716436>, <tf.Tensor: shape=(), dtype=float32, numpy=0.658514>, <tf.Tensor: shape=(), dtype=float32, numpy=0.8838392>, <tf.Tensor: shape=(), dtype=float32, numpy=0.8005793>, <tf.Tensor: shape=(), dtype=float32, numpy=0.7275919>, <tf.Tensor: shape=(), dtype=float32, numpy=0.6555779>, <tf.Tensor: shape=(), dtype=float32, numpy=0.7595298>, <tf.Tensor: shape=(), dtype=float32, numpy=0.65594524>, <tf.Tensor: shape=(), dtype=float32, numpy=0.7063422>, <tf.Tensor: shape=(), dtype=float32, numpy=0.59475154>, <tf.Tensor: shape=(), dtype=float32, numpy=0.85348964>, <tf.Tensor: shape=(), dtype=float32, numpy=0.80013955>, <tf.Tensor: shape=(), dtype=float32, numpy=0.8769215>, <tf.Tensor: shape=(), dtype=float32, numpy=0.7601626>, <tf.Tensor: shape=(), dtype=float32, numpy=0.84374994>, <tf.Tensor: shape=(), dtype=float32, numpy=0.58375156>, <tf.Tensor: shape=(), dtype=float32, numpy=0.79695636>, <tf.Tensor: shape=(), dtype=float32, numpy=0.7198523>, <tf.Tensor: shape=(), dtype=float32, numpy=0.8408341>, <tf.Tensor: shape=(), dtype=float32, numpy=0.5775312>, <tf.Tensor: shape=(), dtype=float32, numpy=0.7903029>, <tf.Tensor: shape=(), dtype=float32, numpy=0.8256096>, <tf.Tensor: shape=(), dtype=float32, numpy=0.68712>, <tf.Tensor: shape=(), dtype=float32, numpy=0.6511115>, <tf.Tensor: shape=(), dtype=float32, numpy=0.543017>, <tf.Tensor: shape=(), dtype=float32, numpy=0.6737642>, <tf.Tensor: shape=(), dtype=float32, numpy=0.8723697>, <tf.Tensor: shape=(), dtype=float32, numpy=0.7919029>, <tf.Tensor: shape=(), dtype=float32, numpy=0.70787305>, <tf.Tensor: shape=(), dtype=float32, numpy=0.59245294>, <tf.Tensor: shape=(), dtype=float32, numpy=0.67393255>, <tf.Tensor: shape=(), dtype=float32, numpy=0.7748393>, <tf.Tensor: shape=(), dtype=float32, numpy=0.8890532>, <tf.Tensor: shape=(), dtype=float32, numpy=0.62412035>, <tf.Tensor: shape=(), dtype=float32, numpy=0.7024641>, <tf.Tensor: shape=(), dtype=float32, numpy=0.773657>, <tf.Tensor: shape=(), dtype=float32, numpy=0.6570628>, <tf.Tensor: shape=(), dtype=float32, numpy=0.8158267>, <tf.Tensor: shape=(), dtype=float32, numpy=0.6495656>, <tf.Tensor: shape=(), dtype=float32, numpy=0.8606012>, <tf.Tensor: shape=(), dtype=float32, numpy=0.5671747>, <tf.Tensor: shape=(), dtype=float32, numpy=0.7263935>, <tf.Tensor: shape=(), dtype=float32, numpy=0.7515691>, <tf.Tensor: shape=(), dtype=float32, numpy=0.6041995>, <tf.Tensor: shape=(), dtype=float32, numpy=0.57825583>, <tf.Tensor: shape=(), dtype=float32, numpy=0.7859504>, <tf.Tensor: shape=(), dtype=float32, numpy=0.6493255>, <tf.Tensor: shape=(), dtype=float32, numpy=0.8809683>, <tf.Tensor: shape=(), dtype=float32, numpy=0.75197923>, <tf.Tensor: shape=(), dtype=float32, numpy=0.6031949>, <tf.Tensor: shape=(), dtype=float32, numpy=0.658298>, <tf.Tensor: shape=(), dtype=float32, numpy=0.61313903>, <tf.Tensor: shape=(), dtype=float32, numpy=0.6382545>, <tf.Tensor: shape=(), dtype=float32, numpy=0.55780286>, <tf.Tensor: shape=(), dtype=float32, numpy=0.6664524>, <tf.Tensor: shape=(), dtype=float32, numpy=0.70142794>, <tf.Tensor: shape=(), dtype=float32, numpy=0.73844016>, <tf.Tensor: shape=(), dtype=float32, numpy=0.7135514>, <tf.Tensor: shape=(), dtype=float32, numpy=0.69904107>, <tf.Tensor: shape=(), dtype=float32, numpy=0.7820132>, <tf.Tensor: shape=(), dtype=float32, numpy=0.65540326>, <tf.Tensor: shape=(), dtype=float32, numpy=0.73054194>, <tf.Tensor: shape=(), dtype=float32, numpy=0.84477437>, <tf.Tensor: shape=(), dtype=float32, numpy=0.80747914>, <tf.Tensor: shape=(), dtype=float32, numpy=0.5857204>, <tf.Tensor: shape=(), dtype=float32, numpy=0.6669511>, <tf.Tensor: shape=(), dtype=float32, numpy=0.80727136>, <tf.Tensor: shape=(), dtype=float32, numpy=0.8498933>, <tf.Tensor: shape=(), dtype=float32, numpy=0.61048615>, <tf.Tensor: shape=(), dtype=float32, numpy=0.68152857>, <tf.Tensor: shape=(), dtype=float32, numpy=0.6171119>, <tf.Tensor: shape=(), dtype=float32, numpy=0.8872002>, <tf.Tensor: shape=(), dtype=float32, numpy=0.6310109>, <tf.Tensor: shape=(), dtype=float32, numpy=0.56696355>, <tf.Tensor: shape=(), dtype=float32, numpy=0.57103>, <tf.Tensor: shape=(), dtype=float32, numpy=0.6946304>, <tf.Tensor: shape=(), dtype=float32, numpy=0.65888584>, <tf.Tensor: shape=(), dtype=float32, numpy=0.8235791>, <tf.Tensor: shape=(), dtype=float32, numpy=0.5179848>, <tf.Tensor: shape=(), dtype=float32, numpy=0.7709531>, <tf.Tensor: shape=(), dtype=float32, numpy=0.6439328>, <tf.Tensor: shape=(), dtype=float32, numpy=0.69380105>, <tf.Tensor: shape=(), dtype=float32, numpy=0.6488927>, <tf.Tensor: shape=(), dtype=float32, numpy=0.7541159>, <tf.Tensor: shape=(), dtype=float32, numpy=0.7591328>, <tf.Tensor: shape=(), dtype=float32, numpy=0.7943326>, <tf.Tensor: shape=(), dtype=float32, numpy=0.8141229>, <tf.Tensor: shape=(), dtype=float32, numpy=0.55831975>, <tf.Tensor: shape=(), dtype=float32, numpy=0.67461693>, <tf.Tensor: shape=(), dtype=float32, numpy=0.58249354>, <tf.Tensor: shape=(), dtype=float32, numpy=0.6544868>, <tf.Tensor: shape=(), dtype=float32, numpy=0.76882875>, <tf.Tensor: shape=(), dtype=float32, numpy=0.64455765>, <tf.Tensor: shape=(), dtype=float32, numpy=0.7123318>, <tf.Tensor: shape=(), dtype=float32, numpy=0.92468417>, <tf.Tensor: shape=(), dtype=float32, numpy=0.66496825>, <tf.Tensor: shape=(), dtype=float32, numpy=0.8198714>, <tf.Tensor: shape=(), dtype=float32, numpy=0.6257737>, <tf.Tensor: shape=(), dtype=float32, numpy=0.5398763>, <tf.Tensor: shape=(), dtype=float32, numpy=0.8465753>, <tf.Tensor: shape=(), dtype=float32, numpy=0.90380573>, <tf.Tensor: shape=(), dtype=float32, numpy=0.6878885>, <tf.Tensor: shape=(), dtype=float32, numpy=0.765277>, <tf.Tensor: shape=(), dtype=float32, numpy=0.6258793>, <tf.Tensor: shape=(), dtype=float32, numpy=0.7678375>, <tf.Tensor: shape=(), dtype=float32, numpy=0.80715185>, <tf.Tensor: shape=(), dtype=float32, numpy=0.81922823>, <tf.Tensor: shape=(), dtype=float32, numpy=0.7752893>, <tf.Tensor: shape=(), dtype=float32, numpy=0.6051131>, <tf.Tensor: shape=(), dtype=float32, numpy=0.75117457>, <tf.Tensor: shape=(), dtype=float32, numpy=0.63284755>, <tf.Tensor: shape=(), dtype=float32, numpy=0.8184065>, <tf.Tensor: shape=(), dtype=float32, numpy=0.8484318>, <tf.Tensor: shape=(), dtype=float32, numpy=0.6915796>, <tf.Tensor: shape=(), dtype=float32, numpy=0.57132185>, <tf.Tensor: shape=(), dtype=float32, numpy=0.6745622>, <tf.Tensor: shape=(), dtype=float32, numpy=0.68760055>, <tf.Tensor: shape=(), dtype=float32, numpy=0.7302799>, <tf.Tensor: shape=(), dtype=float32, numpy=0.6635643>, <tf.Tensor: shape=(), dtype=float32, numpy=0.69817483>, <tf.Tensor: shape=(), dtype=float32, numpy=0.7513052>, <tf.Tensor: shape=(), dtype=float32, numpy=0.84871423>, <tf.Tensor: shape=(), dtype=float32, numpy=0.75136113>, <tf.Tensor: shape=(), dtype=float32, numpy=0.75242734>, <tf.Tensor: shape=(), dtype=float32, numpy=0.91051084>, <tf.Tensor: shape=(), dtype=float32, numpy=0.63166636>, <tf.Tensor: shape=(), dtype=float32, numpy=0.8124464>, <tf.Tensor: shape=(), dtype=float32, numpy=0.65331864>, <tf.Tensor: shape=(), dtype=float32, numpy=0.5916673>, <tf.Tensor: shape=(), dtype=float32, numpy=0.8123318>, <tf.Tensor: shape=(), dtype=float32, numpy=0.8440001>, <tf.Tensor: shape=(), dtype=float32, numpy=0.6380197>, <tf.Tensor: shape=(), dtype=float32, numpy=0.61085916>, <tf.Tensor: shape=(), dtype=float32, numpy=0.7779131>, <tf.Tensor: shape=(), dtype=float32, numpy=0.80951333>, <tf.Tensor: shape=(), dtype=float32, numpy=0.7908157>, <tf.Tensor: shape=(), dtype=float32, numpy=0.5265713>, <tf.Tensor: shape=(), dtype=float32, numpy=0.6577301>, <tf.Tensor: shape=(), dtype=float32, numpy=0.7249457>, <tf.Tensor: shape=(), dtype=float32, numpy=0.63555217>, <tf.Tensor: shape=(), dtype=float32, numpy=0.6751585>, <tf.Tensor: shape=(), dtype=float32, numpy=0.6777468>, <tf.Tensor: shape=(), dtype=float32, numpy=0.6067804>, <tf.Tensor: shape=(), dtype=float32, numpy=0.9047257>, <tf.Tensor: shape=(), dtype=float32, numpy=0.68699896>, <tf.Tensor: shape=(), dtype=float32, numpy=0.61828905>, <tf.Tensor: shape=(), dtype=float32, numpy=0.8126246>, <tf.Tensor: shape=(), dtype=float32, numpy=0.74703264>, <tf.Tensor: shape=(), dtype=float32, numpy=0.6409496>, <tf.Tensor: shape=(), dtype=float32, numpy=0.82885253>, <tf.Tensor: shape=(), dtype=float32, numpy=0.7684036>, <tf.Tensor: shape=(), dtype=float32, numpy=0.6690285>, <tf.Tensor: shape=(), dtype=float32, numpy=0.60921955>, <tf.Tensor: shape=(), dtype=float32, numpy=0.61484385>, <tf.Tensor: shape=(), dtype=float32, numpy=0.64663184>, <tf.Tensor: shape=(), dtype=float32, numpy=0.6630615>, <tf.Tensor: shape=(), dtype=float32, numpy=0.54806995>, <tf.Tensor: shape=(), dtype=float32, numpy=0.5483021>, <tf.Tensor: shape=(), dtype=float32, numpy=0.6894976>, <tf.Tensor: shape=(), dtype=float32, numpy=0.7168579>, <tf.Tensor: shape=(), dtype=float32, numpy=0.6528658>, <tf.Tensor: shape=(), dtype=float32, numpy=0.803693>, <tf.Tensor: shape=(), dtype=float32, numpy=0.64206135>, <tf.Tensor: shape=(), dtype=float32, numpy=0.8556742>, <tf.Tensor: shape=(), dtype=float32, numpy=0.8714997>, <tf.Tensor: shape=(), dtype=float32, numpy=0.5712851>, <tf.Tensor: shape=(), dtype=float32, numpy=0.70726603>, <tf.Tensor: shape=(), dtype=float32, numpy=0.64136136>, <tf.Tensor: shape=(), dtype=float32, numpy=0.7586745>, <tf.Tensor: shape=(), dtype=float32, numpy=0.51666677>, <tf.Tensor: shape=(), dtype=float32, numpy=0.812606>, <tf.Tensor: shape=(), dtype=float32, numpy=0.85657394>, <tf.Tensor: shape=(), dtype=float32, numpy=0.69616145>, <tf.Tensor: shape=(), dtype=float32, numpy=0.78427726>, <tf.Tensor: shape=(), dtype=float32, numpy=0.6647594>, <tf.Tensor: shape=(), dtype=float32, numpy=1.0>, <tf.Tensor: shape=(), dtype=float32, numpy=0.60629714>, <tf.Tensor: shape=(), dtype=float32, numpy=0.60601556>, <tf.Tensor: shape=(), dtype=float32, numpy=0.6398802>, <tf.Tensor: shape=(), dtype=float32, numpy=0.6213261>, <tf.Tensor: shape=(), dtype=float32, numpy=0.55653703>, <tf.Tensor: shape=(), dtype=float32, numpy=0.6634922>, <tf.Tensor: shape=(), dtype=float32, numpy=0.7508003>, <tf.Tensor: shape=(), dtype=float32, numpy=0.8331511>, <tf.Tensor: shape=(), dtype=float32, numpy=0.66246897>, <tf.Tensor: shape=(), dtype=float32, numpy=0.61755776>, <tf.Tensor: shape=(), dtype=float32, numpy=0.5598265>, <tf.Tensor: shape=(), dtype=float32, numpy=0.6076223>, <tf.Tensor: shape=(), dtype=float32, numpy=0.7016859>, <tf.Tensor: shape=(), dtype=float32, numpy=0.72731364>, <tf.Tensor: shape=(), dtype=float32, numpy=0.65763557>, <tf.Tensor: shape=(), dtype=float32, numpy=0.7187611>, <tf.Tensor: shape=(), dtype=float32, numpy=0.7803997>, <tf.Tensor: shape=(), dtype=float32, numpy=0.65801215>, <tf.Tensor: shape=(), dtype=float32, numpy=0.668517>, <tf.Tensor: shape=(), dtype=float32, numpy=0.8246568>, <tf.Tensor: shape=(), dtype=float32, numpy=0.8059454>, <tf.Tensor: shape=(), dtype=float32, numpy=0.69007516>, <tf.Tensor: shape=(), dtype=float32, numpy=0.8574563>, <tf.Tensor: shape=(), dtype=float32, numpy=0.63437164>, <tf.Tensor: shape=(), dtype=float32, numpy=0.8246021>, <tf.Tensor: shape=(), dtype=float32, numpy=0.7049838>, <tf.Tensor: shape=(), dtype=float32, numpy=0.68779004>, <tf.Tensor: shape=(), dtype=float32, numpy=0.776912>, <tf.Tensor: shape=(), dtype=float32, numpy=0.7701387>, <tf.Tensor: shape=(), dtype=float32, numpy=0.7141179>, <tf.Tensor: shape=(), dtype=float32, numpy=0.7405678>, <tf.Tensor: shape=(), dtype=float32, numpy=0.63210636>, <tf.Tensor: shape=(), dtype=float32, numpy=0.5957628>, <tf.Tensor: shape=(), dtype=float32, numpy=0.7589429>, <tf.Tensor: shape=(), dtype=float32, numpy=0.77547354>, <tf.Tensor: shape=(), dtype=float32, numpy=0.79234695>, <tf.Tensor: shape=(), dtype=float32, numpy=0.60965014>, <tf.Tensor: shape=(), dtype=float32, numpy=0.604238>, <tf.Tensor: shape=(), dtype=float32, numpy=0.5880366>, <tf.Tensor: shape=(), dtype=float32, numpy=0.5410793>, <tf.Tensor: shape=(), dtype=float32, numpy=0.570511>, <tf.Tensor: shape=(), dtype=float32, numpy=0.67305434>, <tf.Tensor: shape=(), dtype=float32, numpy=0.58199984>, <tf.Tensor: shape=(), dtype=float32, numpy=0.62140703>, <tf.Tensor: shape=(), dtype=float32, numpy=0.6070372>, <tf.Tensor: shape=(), dtype=float32, numpy=0.61963964>, <tf.Tensor: shape=(), dtype=float32, numpy=0.54457295>, <tf.Tensor: shape=(), dtype=float32, numpy=0.5217581>, <tf.Tensor: shape=(), dtype=float32, numpy=0.47136927>, <tf.Tensor: shape=(), dtype=float32, numpy=0.54928976>, <tf.Tensor: shape=(), dtype=float32, numpy=0.5931456>, <tf.Tensor: shape=(), dtype=float32, numpy=0.49674892>, <tf.Tensor: shape=(), dtype=float32, numpy=0.5449955>, <tf.Tensor: shape=(), dtype=float32, numpy=0.56315744>, <tf.Tensor: shape=(), dtype=float32, numpy=0.6996994>, <tf.Tensor: shape=(), dtype=float32, numpy=0.80450714>, <tf.Tensor: shape=(), dtype=float32, numpy=0.6683506>, <tf.Tensor: shape=(), dtype=float32, numpy=0.6836411>, <tf.Tensor: shape=(), dtype=float32, numpy=0.692453>, <tf.Tensor: shape=(), dtype=float32, numpy=0.6396235>, <tf.Tensor: shape=(), dtype=float32, numpy=0.65331334>, <tf.Tensor: shape=(), dtype=float32, numpy=0.55481344>, <tf.Tensor: shape=(), dtype=float32, numpy=0.6252446>, <tf.Tensor: shape=(), dtype=float32, numpy=0.62788737>, <tf.Tensor: shape=(), dtype=float32, numpy=0.60841036>, <tf.Tensor: shape=(), dtype=float32, numpy=0.6946995>, <tf.Tensor: shape=(), dtype=float32, numpy=0.7055192>, <tf.Tensor: shape=(), dtype=float32, numpy=0.5344057>, <tf.Tensor: shape=(), dtype=float32, numpy=0.5746763>, <tf.Tensor: shape=(), dtype=float32, numpy=0.53325546>, <tf.Tensor: shape=(), dtype=float32, numpy=0.6366911>, <tf.Tensor: shape=(), dtype=float32, numpy=0.7033915>, <tf.Tensor: shape=(), dtype=float32, numpy=0.65370476>, <tf.Tensor: shape=(), dtype=float32, numpy=0.76624054>, <tf.Tensor: shape=(), dtype=float32, numpy=0.67811835>, <tf.Tensor: shape=(), dtype=float32, numpy=0.62065756>, <tf.Tensor: shape=(), dtype=float32, numpy=0.5009306>, <tf.Tensor: shape=(), dtype=float32, numpy=0.62255454>, <tf.Tensor: shape=(), dtype=float32, numpy=0.51109004>, <tf.Tensor: shape=(), dtype=float32, numpy=0.5631882>, <tf.Tensor: shape=(), dtype=float32, numpy=0.6600086>, <tf.Tensor: shape=(), dtype=float32, numpy=0.53545463>, <tf.Tensor: shape=(), dtype=float32, numpy=0.65588593>, <tf.Tensor: shape=(), dtype=float32, numpy=0.55109334>, <tf.Tensor: shape=(), dtype=float32, numpy=0.660453>, <tf.Tensor: shape=(), dtype=float32, numpy=0.5635936>, <tf.Tensor: shape=(), dtype=float32, numpy=0.5693413>, <tf.Tensor: shape=(), dtype=float32, numpy=0.60038495>, <tf.Tensor: shape=(), dtype=float32, numpy=0.78295344>, <tf.Tensor: shape=(), dtype=float32, numpy=0.6449574>, <tf.Tensor: shape=(), dtype=float32, numpy=0.7060336>, <tf.Tensor: shape=(), dtype=float32, numpy=0.68764323>, <tf.Tensor: shape=(), dtype=float32, numpy=0.6723834>, <tf.Tensor: shape=(), dtype=float32, numpy=0.6109133>, <tf.Tensor: shape=(), dtype=float32, numpy=0.63197863>, <tf.Tensor: shape=(), dtype=float32, numpy=0.609141>, <tf.Tensor: shape=(), dtype=float32, numpy=0.5861771>, <tf.Tensor: shape=(), dtype=float32, numpy=0.65649176>, <tf.Tensor: shape=(), dtype=float32, numpy=0.6355578>, <tf.Tensor: shape=(), dtype=float32, numpy=0.60888207>, <tf.Tensor: shape=(), dtype=float32, numpy=0.55970144>, <tf.Tensor: shape=(), dtype=float32, numpy=0.7009007>, <tf.Tensor: shape=(), dtype=float32, numpy=0.56374437>, <tf.Tensor: shape=(), dtype=float32, numpy=0.60461426>, <tf.Tensor: shape=(), dtype=float32, numpy=0.55883753>, <tf.Tensor: shape=(), dtype=float32, numpy=0.64862984>, <tf.Tensor: shape=(), dtype=float32, numpy=0.63929>, <tf.Tensor: shape=(), dtype=float32, numpy=0.70528626>, <tf.Tensor: shape=(), dtype=float32, numpy=0.71635425>, <tf.Tensor: shape=(), dtype=float32, numpy=0.58207136>, <tf.Tensor: shape=(), dtype=float32, numpy=0.71959054>, <tf.Tensor: shape=(), dtype=float32, numpy=0.6275412>, <tf.Tensor: shape=(), dtype=float32, numpy=0.6887538>, <tf.Tensor: shape=(), dtype=float32, numpy=0.5664891>, <tf.Tensor: shape=(), dtype=float32, numpy=0.68441826>, <tf.Tensor: shape=(), dtype=float32, numpy=0.6148664>, <tf.Tensor: shape=(), dtype=float32, numpy=0.5897442>, <tf.Tensor: shape=(), dtype=float32, numpy=0.53821784>, <tf.Tensor: shape=(), dtype=float32, numpy=0.6047175>, <tf.Tensor: shape=(), dtype=float32, numpy=0.5180819>, <tf.Tensor: shape=(), dtype=float32, numpy=0.69152665>, <tf.Tensor: shape=(), dtype=float32, numpy=0.5855479>, <tf.Tensor: shape=(), dtype=float32, numpy=0.5890227>, <tf.Tensor: shape=(), dtype=float32, numpy=0.67878467>, <tf.Tensor: shape=(), dtype=float32, numpy=0.5460112>, <tf.Tensor: shape=(), dtype=float32, numpy=0.6244407>, <tf.Tensor: shape=(), dtype=float32, numpy=0.6431447>, <tf.Tensor: shape=(), dtype=float32, numpy=0.63665587>, <tf.Tensor: shape=(), dtype=float32, numpy=0.7363118>, <tf.Tensor: shape=(), dtype=float32, numpy=0.72786486>, <tf.Tensor: shape=(), dtype=float32, numpy=0.6744472>, <tf.Tensor: shape=(), dtype=float32, numpy=0.6303024>, <tf.Tensor: shape=(), dtype=float32, numpy=0.61574566>, <tf.Tensor: shape=(), dtype=float32, numpy=0.5771612>, <tf.Tensor: shape=(), dtype=float32, numpy=0.6734743>, <tf.Tensor: shape=(), dtype=float32, numpy=0.55518126>, <tf.Tensor: shape=(), dtype=float32, numpy=0.6956438>, <tf.Tensor: shape=(), dtype=float32, numpy=0.5264524>, <tf.Tensor: shape=(), dtype=float32, numpy=0.52284694>, <tf.Tensor: shape=(), dtype=float32, numpy=0.56288844>, <tf.Tensor: shape=(), dtype=float32, numpy=0.63951457>, <tf.Tensor: shape=(), dtype=float32, numpy=0.6507729>, <tf.Tensor: shape=(), dtype=float32, numpy=0.5520506>, <tf.Tensor: shape=(), dtype=float32, numpy=0.7151048>, <tf.Tensor: shape=(), dtype=float32, numpy=0.57769984>, <tf.Tensor: shape=(), dtype=float32, numpy=0.55690193>, <tf.Tensor: shape=(), dtype=float32, numpy=0.5892725>, <tf.Tensor: shape=(), dtype=float32, numpy=0.63752395>, <tf.Tensor: shape=(), dtype=float32, numpy=0.58537906>, <tf.Tensor: shape=(), dtype=float32, numpy=0.62654114>, <tf.Tensor: shape=(), dtype=float32, numpy=0.59790784>, <tf.Tensor: shape=(), dtype=float32, numpy=0.5550885>, <tf.Tensor: shape=(), dtype=float32, numpy=0.54821354>, <tf.Tensor: shape=(), dtype=float32, numpy=0.5571705>, <tf.Tensor: shape=(), dtype=float32, numpy=0.5192341>, <tf.Tensor: shape=(), dtype=float32, numpy=0.5810293>, <tf.Tensor: shape=(), dtype=float32, numpy=0.605577>, <tf.Tensor: shape=(), dtype=float32, numpy=0.5772934>, <tf.Tensor: shape=(), dtype=float32, numpy=0.61341953>, <tf.Tensor: shape=(), dtype=float32, numpy=0.52435374>, <tf.Tensor: shape=(), dtype=float32, numpy=0.5972352>, <tf.Tensor: shape=(), dtype=float32, numpy=0.6457453>, <tf.Tensor: shape=(), dtype=float32, numpy=0.6535214>, <tf.Tensor: shape=(), dtype=float32, numpy=0.6891002>, <tf.Tensor: shape=(), dtype=float32, numpy=0.65521216>, <tf.Tensor: shape=(), dtype=float32, numpy=0.7139981>, <tf.Tensor: shape=(), dtype=float32, numpy=0.5611707>, <tf.Tensor: shape=(), dtype=float32, numpy=0.4924429>, <tf.Tensor: shape=(), dtype=float32, numpy=0.5700396>, <tf.Tensor: shape=(), dtype=float32, numpy=0.729895>, <tf.Tensor: shape=(), dtype=float32, numpy=0.7016234>, <tf.Tensor: shape=(), dtype=float32, numpy=0.55643904>, <tf.Tensor: shape=(), dtype=float32, numpy=0.62091535>, <tf.Tensor: shape=(), dtype=float32, numpy=0.7100442>, <tf.Tensor: shape=(), dtype=float32, numpy=0.6650965>, <tf.Tensor: shape=(), dtype=float32, numpy=0.64390147>, <tf.Tensor: shape=(), dtype=float32, numpy=0.5422088>, <tf.Tensor: shape=(), dtype=float32, numpy=0.67267656>, <tf.Tensor: shape=(), dtype=float32, numpy=0.6846298>, <tf.Tensor: shape=(), dtype=float32, numpy=0.68605006>, <tf.Tensor: shape=(), dtype=float32, numpy=0.63518864>, <tf.Tensor: shape=(), dtype=float32, numpy=0.6690228>, <tf.Tensor: shape=(), dtype=float32, numpy=0.49327457>, <tf.Tensor: shape=(), dtype=float32, numpy=0.67984563>, <tf.Tensor: shape=(), dtype=float32, numpy=0.5822326>, <tf.Tensor: shape=(), dtype=float32, numpy=0.47642237>, <tf.Tensor: shape=(), dtype=float32, numpy=0.56696343>, <tf.Tensor: shape=(), dtype=float32, numpy=0.6554231>, <tf.Tensor: shape=(), dtype=float32, numpy=0.5396738>, <tf.Tensor: shape=(), dtype=float32, numpy=0.59142894>, <tf.Tensor: shape=(), dtype=float32, numpy=0.62587416>, <tf.Tensor: shape=(), dtype=float32, numpy=0.6483427>, <tf.Tensor: shape=(), dtype=float32, numpy=0.66615975>, <tf.Tensor: shape=(), dtype=float32, numpy=0.7190089>, <tf.Tensor: shape=(), dtype=float32, numpy=0.63067204>, <tf.Tensor: shape=(), dtype=float32, numpy=0.5834581>, <tf.Tensor: shape=(), dtype=float32, numpy=0.7079247>, <tf.Tensor: shape=(), dtype=float32, numpy=0.68246216>, <tf.Tensor: shape=(), dtype=float32, numpy=0.6243578>, <tf.Tensor: shape=(), dtype=float32, numpy=0.47565782>, <tf.Tensor: shape=(), dtype=float32, numpy=0.513313>, <tf.Tensor: shape=(), dtype=float32, numpy=0.58772784>, <tf.Tensor: shape=(), dtype=float32, numpy=0.5442859>, <tf.Tensor: shape=(), dtype=float32, numpy=0.6507936>, <tf.Tensor: shape=(), dtype=float32, numpy=0.56114674>, <tf.Tensor: shape=(), dtype=float32, numpy=0.62968373>, <tf.Tensor: shape=(), dtype=float32, numpy=0.5625839>, <tf.Tensor: shape=(), dtype=float32, numpy=0.5863749>, <tf.Tensor: shape=(), dtype=float32, numpy=0.50299144>, <tf.Tensor: shape=(), dtype=float32, numpy=0.75871944>, <tf.Tensor: shape=(), dtype=float32, numpy=0.7290443>, <tf.Tensor: shape=(), dtype=float32, numpy=0.6718227>, <tf.Tensor: shape=(), dtype=float32, numpy=0.5655383>, <tf.Tensor: shape=(), dtype=float32, numpy=0.7230059>, <tf.Tensor: shape=(), dtype=float32, numpy=0.6593786>, <tf.Tensor: shape=(), dtype=float32, numpy=0.6452148>, <tf.Tensor: shape=(), dtype=float32, numpy=0.68739045>, <tf.Tensor: shape=(), dtype=float32, numpy=0.6442694>, <tf.Tensor: shape=(), dtype=float32, numpy=0.6078272>, <tf.Tensor: shape=(), dtype=float32, numpy=0.5681063>, <tf.Tensor: shape=(), dtype=float32, numpy=0.6142369>, <tf.Tensor: shape=(), dtype=float32, numpy=0.68498844>, <tf.Tensor: shape=(), dtype=float32, numpy=0.60071623>, <tf.Tensor: shape=(), dtype=float32, numpy=0.49242663>, <tf.Tensor: shape=(), dtype=float32, numpy=0.5253673>, <tf.Tensor: shape=(), dtype=float32, numpy=0.72299683>, <tf.Tensor: shape=(), dtype=float32, numpy=0.6059669>, <tf.Tensor: shape=(), dtype=float32, numpy=0.69585645>, <tf.Tensor: shape=(), dtype=float32, numpy=0.5453949>, <tf.Tensor: shape=(), dtype=float32, numpy=0.5915718>, <tf.Tensor: shape=(), dtype=float32, numpy=0.6522299>, <tf.Tensor: shape=(), dtype=float32, numpy=0.5194094>, <tf.Tensor: shape=(), dtype=float32, numpy=0.71093506>, <tf.Tensor: shape=(), dtype=float32, numpy=0.7125173>, <tf.Tensor: shape=(), dtype=float32, numpy=0.64077115>, <tf.Tensor: shape=(), dtype=float32, numpy=0.7043536>, <tf.Tensor: shape=(), dtype=float32, numpy=0.70473045>, <tf.Tensor: shape=(), dtype=float32, numpy=0.5860996>, <tf.Tensor: shape=(), dtype=float32, numpy=0.7628293>, <tf.Tensor: shape=(), dtype=float32, numpy=0.7583941>, <tf.Tensor: shape=(), dtype=float32, numpy=0.60449326>, <tf.Tensor: shape=(), dtype=float32, numpy=0.6441616>, <tf.Tensor: shape=(), dtype=float32, numpy=0.5250133>, <tf.Tensor: shape=(), dtype=float32, numpy=0.6352916>, <tf.Tensor: shape=(), dtype=float32, numpy=0.5139563>, <tf.Tensor: shape=(), dtype=float32, numpy=0.67216015>, <tf.Tensor: shape=(), dtype=float32, numpy=0.6584726>, <tf.Tensor: shape=(), dtype=float32, numpy=0.60223436>, <tf.Tensor: shape=(), dtype=float32, numpy=0.6179777>, <tf.Tensor: shape=(), dtype=float32, numpy=0.62078106>, <tf.Tensor: shape=(), dtype=float32, numpy=0.6691419>, <tf.Tensor: shape=(), dtype=float32, numpy=0.71950746>, <tf.Tensor: shape=(), dtype=float32, numpy=0.6162108>, <tf.Tensor: shape=(), dtype=float32, numpy=0.6456516>, <tf.Tensor: shape=(), dtype=float32, numpy=0.70249355>, <tf.Tensor: shape=(), dtype=float32, numpy=0.5783251>, <tf.Tensor: shape=(), dtype=float32, numpy=0.76725626>, <tf.Tensor: shape=(), dtype=float32, numpy=0.7504409>, <tf.Tensor: shape=(), dtype=float32, numpy=0.6567501>, <tf.Tensor: shape=(), dtype=float32, numpy=0.5588806>, <tf.Tensor: shape=(), dtype=float32, numpy=0.60220844>, <tf.Tensor: shape=(), dtype=float32, numpy=0.52610135>, <tf.Tensor: shape=(), dtype=float32, numpy=0.7108532>, <tf.Tensor: shape=(), dtype=float32, numpy=0.54428357>, <tf.Tensor: shape=(), dtype=float32, numpy=0.5641862>, <tf.Tensor: shape=(), dtype=float32, numpy=0.52436686>, <tf.Tensor: shape=(), dtype=float32, numpy=0.5382407>, <tf.Tensor: shape=(), dtype=float32, numpy=0.5694623>, <tf.Tensor: shape=(), dtype=float32, numpy=0.5168636>, <tf.Tensor: shape=(), dtype=float32, numpy=0.65109503>, <tf.Tensor: shape=(), dtype=float32, numpy=0.5516986>, <tf.Tensor: shape=(), dtype=float32, numpy=0.5922006>, <tf.Tensor: shape=(), dtype=float32, numpy=0.6490105>, <tf.Tensor: shape=(), dtype=float32, numpy=0.62877756>, <tf.Tensor: shape=(), dtype=float32, numpy=0.76848674>, <tf.Tensor: shape=(), dtype=float32, numpy=0.71347696>, <tf.Tensor: shape=(), dtype=float32, numpy=0.6785736>, <tf.Tensor: shape=(), dtype=float32, numpy=0.6177175>, <tf.Tensor: shape=(), dtype=float32, numpy=0.62755215>, <tf.Tensor: shape=(), dtype=float32, numpy=0.5841534>, <tf.Tensor: shape=(), dtype=float32, numpy=0.5664401>, <tf.Tensor: shape=(), dtype=float32, numpy=0.70094657>, <tf.Tensor: shape=(), dtype=float32, numpy=0.53595495>, <tf.Tensor: shape=(), dtype=float32, numpy=0.62493575>, <tf.Tensor: shape=(), dtype=float32, numpy=0.614012>, <tf.Tensor: shape=(), dtype=float32, numpy=0.5198684>, <tf.Tensor: shape=(), dtype=float32, numpy=0.5842555>, <tf.Tensor: shape=(), dtype=float32, numpy=0.56356895>, <tf.Tensor: shape=(), dtype=float32, numpy=0.50864357>, <tf.Tensor: shape=(), dtype=float32, numpy=0.5528229>, <tf.Tensor: shape=(), dtype=float32, numpy=0.6665457>, <tf.Tensor: shape=(), dtype=float32, numpy=0.7724754>, <tf.Tensor: shape=(), dtype=float32, numpy=0.7545178>, <tf.Tensor: shape=(), dtype=float32, numpy=0.6818589>, <tf.Tensor: shape=(), dtype=float32, numpy=0.6491712>, <tf.Tensor: shape=(), dtype=float32, numpy=0.71467423>, <tf.Tensor: shape=(), dtype=float32, numpy=0.7152192>, <tf.Tensor: shape=(), dtype=float32, numpy=0.61231124>, <tf.Tensor: shape=(), dtype=float32, numpy=0.5421369>, <tf.Tensor: shape=(), dtype=float32, numpy=0.5303331>, <tf.Tensor: shape=(), dtype=float32, numpy=0.5410838>, <tf.Tensor: shape=(), dtype=float32, numpy=0.5791769>, <tf.Tensor: shape=(), dtype=float32, numpy=0.5637584>, <tf.Tensor: shape=(), dtype=float32, numpy=0.4993857>, <tf.Tensor: shape=(), dtype=float32, numpy=0.6376684>, <tf.Tensor: shape=(), dtype=float32, numpy=0.7043311>, <tf.Tensor: shape=(), dtype=float32, numpy=0.61759675>, <tf.Tensor: shape=(), dtype=float32, numpy=0.6587677>, <tf.Tensor: shape=(), dtype=float32, numpy=0.5251328>, <tf.Tensor: shape=(), dtype=float32, numpy=0.622082>, <tf.Tensor: shape=(), dtype=float32, numpy=0.602255>, <tf.Tensor: shape=(), dtype=float32, numpy=0.72471297>, <tf.Tensor: shape=(), dtype=float32, numpy=0.5241083>, <tf.Tensor: shape=(), dtype=float32, numpy=0.53164303>, <tf.Tensor: shape=(), dtype=float32, numpy=0.4990604>, <tf.Tensor: shape=(), dtype=float32, numpy=0.5370434>, <tf.Tensor: shape=(), dtype=float32, numpy=0.58728063>, <tf.Tensor: shape=(), dtype=float32, numpy=0.5506792>, <tf.Tensor: shape=(), dtype=float32, numpy=0.53412473>, <tf.Tensor: shape=(), dtype=float32, numpy=0.55387354>, <tf.Tensor: shape=(), dtype=float32, numpy=0.59989667>, <tf.Tensor: shape=(), dtype=float32, numpy=0.5157299>, <tf.Tensor: shape=(), dtype=float32, numpy=0.55708206>, <tf.Tensor: shape=(), dtype=float32, numpy=0.65534186>, <tf.Tensor: shape=(), dtype=float32, numpy=0.5938904>, <tf.Tensor: shape=(), dtype=float32, numpy=0.53325236>, <tf.Tensor: shape=(), dtype=float32, numpy=0.5689889>, <tf.Tensor: shape=(), dtype=float32, numpy=0.689201>, <tf.Tensor: shape=(), dtype=float32, numpy=0.5140257>, <tf.Tensor: shape=(), dtype=float32, numpy=0.5429311>, <tf.Tensor: shape=(), dtype=float32, numpy=0.50928915>, <tf.Tensor: shape=(), dtype=float32, numpy=0.5586555>, <tf.Tensor: shape=(), dtype=float32, numpy=0.6359341>, <tf.Tensor: shape=(), dtype=float32, numpy=0.7118994>, <tf.Tensor: shape=(), dtype=float32, numpy=0.60584784>, <tf.Tensor: shape=(), dtype=float32, numpy=0.70217526>, <tf.Tensor: shape=(), dtype=float32, numpy=0.5462562>, <tf.Tensor: shape=(), dtype=float32, numpy=0.54735696>, <tf.Tensor: shape=(), dtype=float32, numpy=0.64147925>, <tf.Tensor: shape=(), dtype=float32, numpy=0.6512228>, <tf.Tensor: shape=(), dtype=float32, numpy=0.5334528>, <tf.Tensor: shape=(), dtype=float32, numpy=0.57490176>, <tf.Tensor: shape=(), dtype=float32, numpy=0.6096015>, <tf.Tensor: shape=(), dtype=float32, numpy=0.50832975>, <tf.Tensor: shape=(), dtype=float32, numpy=0.5758213>, <tf.Tensor: shape=(), dtype=float32, numpy=0.66337895>, <tf.Tensor: shape=(), dtype=float32, numpy=0.55341375>, <tf.Tensor: shape=(), dtype=float32, numpy=0.5267798>, <tf.Tensor: shape=(), dtype=float32, numpy=0.63220406>, <tf.Tensor: shape=(), dtype=float32, numpy=0.5695127>, <tf.Tensor: shape=(), dtype=float32, numpy=0.79304284>, <tf.Tensor: shape=(), dtype=float32, numpy=0.6339929>, <tf.Tensor: shape=(), dtype=float32, numpy=0.7613723>, <tf.Tensor: shape=(), dtype=float32, numpy=0.7247138>, <tf.Tensor: shape=(), dtype=float32, numpy=0.5941368>, <tf.Tensor: shape=(), dtype=float32, numpy=0.7135521>, <tf.Tensor: shape=(), dtype=float32, numpy=0.71991104>, <tf.Tensor: shape=(), dtype=float32, numpy=0.6117977>, <tf.Tensor: shape=(), dtype=float32, numpy=0.5553024>, <tf.Tensor: shape=(), dtype=float32, numpy=0.6127889>, <tf.Tensor: shape=(), dtype=float32, numpy=0.5598887>, <tf.Tensor: shape=(), dtype=float32, numpy=0.64996594>, <tf.Tensor: shape=(), dtype=float32, numpy=0.6010705>, <tf.Tensor: shape=(), dtype=float32, numpy=0.6518247>, <tf.Tensor: shape=(), dtype=float32, numpy=0.56144404>, <tf.Tensor: shape=(), dtype=float32, numpy=0.6444392>, <tf.Tensor: shape=(), dtype=float32, numpy=0.5447211>, <tf.Tensor: shape=(), dtype=float32, numpy=0.5168311>, <tf.Tensor: shape=(), dtype=float32, numpy=0.6039909>, <tf.Tensor: shape=(), dtype=float32, numpy=0.53035533>, <tf.Tensor: shape=(), dtype=float32, numpy=0.68103623>, <tf.Tensor: shape=(), dtype=float32, numpy=0.57737374>, <tf.Tensor: shape=(), dtype=float32, numpy=0.6856642>, <tf.Tensor: shape=(), dtype=float32, numpy=0.53726>, <tf.Tensor: shape=(), dtype=float32, numpy=0.7749006>, <tf.Tensor: shape=(), dtype=float32, numpy=0.7204166>, <tf.Tensor: shape=(), dtype=float32, numpy=0.6852491>, <tf.Tensor: shape=(), dtype=float32, numpy=0.63770914>, <tf.Tensor: shape=(), dtype=float32, numpy=0.6801058>, <tf.Tensor: shape=(), dtype=float32, numpy=0.55819964>, <tf.Tensor: shape=(), dtype=float32, numpy=0.6564227>, <tf.Tensor: shape=(), dtype=float32, numpy=0.60754216>, <tf.Tensor: shape=(), dtype=float32, numpy=0.5414686>, <tf.Tensor: shape=(), dtype=float32, numpy=0.611518>, <tf.Tensor: shape=(), dtype=float32, numpy=0.6573107>, <tf.Tensor: shape=(), dtype=float32, numpy=0.49331808>, <tf.Tensor: shape=(), dtype=float32, numpy=0.5899931>, <tf.Tensor: shape=(), dtype=float32, numpy=0.5542296>, <tf.Tensor: shape=(), dtype=float32, numpy=0.553573>, <tf.Tensor: shape=(), dtype=float32, numpy=0.55535656>, <tf.Tensor: shape=(), dtype=float32, numpy=0.5828469>, <tf.Tensor: shape=(), dtype=float32, numpy=0.6271025>, <tf.Tensor: shape=(), dtype=float32, numpy=0.58284783>, <tf.Tensor: shape=(), dtype=float32, numpy=0.60256296>, <tf.Tensor: shape=(), dtype=float32, numpy=0.64367735>, <tf.Tensor: shape=(), dtype=float32, numpy=0.53618395>, <tf.Tensor: shape=(), dtype=float32, numpy=0.524801>, <tf.Tensor: shape=(), dtype=float32, numpy=0.5612122>, <tf.Tensor: shape=(), dtype=float32, numpy=0.55079746>, <tf.Tensor: shape=(), dtype=float32, numpy=0.59792453>, <tf.Tensor: shape=(), dtype=float32, numpy=0.58817357>, <tf.Tensor: shape=(), dtype=float32, numpy=0.629519>, <tf.Tensor: shape=(), dtype=float32, numpy=0.6190065>, <tf.Tensor: shape=(), dtype=float32, numpy=0.5277288>, <tf.Tensor: shape=(), dtype=float32, numpy=0.64239055>, <tf.Tensor: shape=(), dtype=float32, numpy=0.5849743>, <tf.Tensor: shape=(), dtype=float32, numpy=0.5169872>, <tf.Tensor: shape=(), dtype=float32, numpy=0.6157737>, <tf.Tensor: shape=(), dtype=float32, numpy=0.58128226>, <tf.Tensor: shape=(), dtype=float32, numpy=0.67988133>, <tf.Tensor: shape=(), dtype=float32, numpy=0.7304431>, <tf.Tensor: shape=(), dtype=float32, numpy=0.82877666>, <tf.Tensor: shape=(), dtype=float32, numpy=0.72348714>, <tf.Tensor: shape=(), dtype=float32, numpy=0.7461232>, <tf.Tensor: shape=(), dtype=float32, numpy=0.73851633>, <tf.Tensor: shape=(), dtype=float32, numpy=0.8740958>, <tf.Tensor: shape=(), dtype=float32, numpy=0.74995035>, <tf.Tensor: shape=(), dtype=float32, numpy=0.7110362>, <tf.Tensor: shape=(), dtype=float32, numpy=0.7440375>, <tf.Tensor: shape=(), dtype=float32, numpy=0.7210243>, <tf.Tensor: shape=(), dtype=float32, numpy=0.7684962>, <tf.Tensor: shape=(), dtype=float32, numpy=0.8640835>, <tf.Tensor: shape=(), dtype=float32, numpy=0.8258403>, <tf.Tensor: shape=(), dtype=float32, numpy=0.70214236>, <tf.Tensor: shape=(), dtype=float32, numpy=0.74015915>, <tf.Tensor: shape=(), dtype=float32, numpy=0.6597693>, <tf.Tensor: shape=(), dtype=float32, numpy=0.66971207>, <tf.Tensor: shape=(), dtype=float32, numpy=0.74157965>, <tf.Tensor: shape=(), dtype=float32, numpy=0.6886427>, <tf.Tensor: shape=(), dtype=float32, numpy=0.76380235>, <tf.Tensor: shape=(), dtype=float32, numpy=0.71981764>, <tf.Tensor: shape=(), dtype=float32, numpy=0.84699863>, <tf.Tensor: shape=(), dtype=float32, numpy=0.69631296>, <tf.Tensor: shape=(), dtype=float32, numpy=0.6939974>, <tf.Tensor: shape=(), dtype=float32, numpy=0.6613471>, <tf.Tensor: shape=(), dtype=float32, numpy=0.802409>, <tf.Tensor: shape=(), dtype=float32, numpy=0.761049>, <tf.Tensor: shape=(), dtype=float32, numpy=0.83266103>, <tf.Tensor: shape=(), dtype=float32, numpy=0.78196007>, <tf.Tensor: shape=(), dtype=float32, numpy=0.7481837>, <tf.Tensor: shape=(), dtype=float32, numpy=0.6563116>, <tf.Tensor: shape=(), dtype=float32, numpy=0.6969311>, <tf.Tensor: shape=(), dtype=float32, numpy=0.87512547>, <tf.Tensor: shape=(), dtype=float32, numpy=0.79251677>, <tf.Tensor: shape=(), dtype=float32, numpy=0.7015817>, <tf.Tensor: shape=(), dtype=float32, numpy=0.82319593>, <tf.Tensor: shape=(), dtype=float32, numpy=0.76020074>, <tf.Tensor: shape=(), dtype=float32, numpy=0.77525705>, <tf.Tensor: shape=(), dtype=float32, numpy=0.87305385>, <tf.Tensor: shape=(), dtype=float32, numpy=0.5376959>, <tf.Tensor: shape=(), dtype=float32, numpy=0.7337817>, <tf.Tensor: shape=(), dtype=float32, numpy=0.8527021>, <tf.Tensor: shape=(), dtype=float32, numpy=0.74542403>, <tf.Tensor: shape=(), dtype=float32, numpy=0.8231643>, <tf.Tensor: shape=(), dtype=float32, numpy=0.6933043>, <tf.Tensor: shape=(), dtype=float32, numpy=0.81259346>, <tf.Tensor: shape=(), dtype=float32, numpy=0.8416844>, <tf.Tensor: shape=(), dtype=float32, numpy=0.6612199>, <tf.Tensor: shape=(), dtype=float32, numpy=0.7984148>, <tf.Tensor: shape=(), dtype=float32, numpy=0.6886616>, <tf.Tensor: shape=(), dtype=float32, numpy=0.83277434>, <tf.Tensor: shape=(), dtype=float32, numpy=0.7403712>, <tf.Tensor: shape=(), dtype=float32, numpy=0.7757301>, <tf.Tensor: shape=(), dtype=float32, numpy=0.72719985>, <tf.Tensor: shape=(), dtype=float32, numpy=0.73828954>, <tf.Tensor: shape=(), dtype=float32, numpy=0.73462784>, <tf.Tensor: shape=(), dtype=float32, numpy=0.6995963>, <tf.Tensor: shape=(), dtype=float32, numpy=0.82568455>, <tf.Tensor: shape=(), dtype=float32, numpy=0.7097241>, <tf.Tensor: shape=(), dtype=float32, numpy=0.7510491>, <tf.Tensor: shape=(), dtype=float32, numpy=0.7725518>, <tf.Tensor: shape=(), dtype=float32, numpy=0.79857314>, <tf.Tensor: shape=(), dtype=float32, numpy=0.83267236>, <tf.Tensor: shape=(), dtype=float32, numpy=0.5366365>, <tf.Tensor: shape=(), dtype=float32, numpy=0.5611938>, <tf.Tensor: shape=(), dtype=float32, numpy=0.73621356>, <tf.Tensor: shape=(), dtype=float32, numpy=0.764132>, <tf.Tensor: shape=(), dtype=float32, numpy=0.6504495>, <tf.Tensor: shape=(), dtype=float32, numpy=0.77743465>, <tf.Tensor: shape=(), dtype=float32, numpy=0.79068404>, <tf.Tensor: shape=(), dtype=float32, numpy=0.67097056>, <tf.Tensor: shape=(), dtype=float32, numpy=0.750291>, <tf.Tensor: shape=(), dtype=float32, numpy=0.7613071>, <tf.Tensor: shape=(), dtype=float32, numpy=0.8686884>, <tf.Tensor: shape=(), dtype=float32, numpy=0.7608943>, <tf.Tensor: shape=(), dtype=float32, numpy=0.64523566>, <tf.Tensor: shape=(), dtype=float32, numpy=0.7649294>, <tf.Tensor: shape=(), dtype=float32, numpy=0.70362055>, <tf.Tensor: shape=(), dtype=float32, numpy=0.71238476>, <tf.Tensor: shape=(), dtype=float32, numpy=0.9135141>, <tf.Tensor: shape=(), dtype=float32, numpy=0.5302336>, <tf.Tensor: shape=(), dtype=float32, numpy=0.7076175>, <tf.Tensor: shape=(), dtype=float32, numpy=0.7545445>, <tf.Tensor: shape=(), dtype=float32, numpy=0.74687225>, <tf.Tensor: shape=(), dtype=float32, numpy=0.8079847>, <tf.Tensor: shape=(), dtype=float32, numpy=0.72073454>, <tf.Tensor: shape=(), dtype=float32, numpy=0.66815627>, <tf.Tensor: shape=(), dtype=float32, numpy=0.7257403>, <tf.Tensor: shape=(), dtype=float32, numpy=0.849617>, <tf.Tensor: shape=(), dtype=float32, numpy=0.64311206>, <tf.Tensor: shape=(), dtype=float32, numpy=0.6531158>, <tf.Tensor: shape=(), dtype=float32, numpy=0.8496111>, <tf.Tensor: shape=(), dtype=float32, numpy=0.6812565>, <tf.Tensor: shape=(), dtype=float32, numpy=0.72925013>, <tf.Tensor: shape=(), dtype=float32, numpy=0.85450447>, <tf.Tensor: shape=(), dtype=float32, numpy=0.76587105>, <tf.Tensor: shape=(), dtype=float32, numpy=0.75575215>, <tf.Tensor: shape=(), dtype=float32, numpy=0.7668144>, <tf.Tensor: shape=(), dtype=float32, numpy=0.8087684>, <tf.Tensor: shape=(), dtype=float32, numpy=0.73827773>, <tf.Tensor: shape=(), dtype=float32, numpy=0.7847415>, <tf.Tensor: shape=(), dtype=float32, numpy=0.68730235>, <tf.Tensor: shape=(), dtype=float32, numpy=0.670655>, <tf.Tensor: shape=(), dtype=float32, numpy=0.69083107>, <tf.Tensor: shape=(), dtype=float32, numpy=0.78360367>, <tf.Tensor: shape=(), dtype=float32, numpy=0.7632098>, <tf.Tensor: shape=(), dtype=float32, numpy=0.67582166>, <tf.Tensor: shape=(), dtype=float32, numpy=0.7849663>, <tf.Tensor: shape=(), dtype=float32, numpy=0.76259506>, <tf.Tensor: shape=(), dtype=float32, numpy=0.80339015>, <tf.Tensor: shape=(), dtype=float32, numpy=0.8390347>, <tf.Tensor: shape=(), dtype=float32, numpy=0.71772164>, <tf.Tensor: shape=(), dtype=float32, numpy=0.6334715>, <tf.Tensor: shape=(), dtype=float32, numpy=0.7708667>, <tf.Tensor: shape=(), dtype=float32, numpy=0.74267256>, <tf.Tensor: shape=(), dtype=float32, numpy=0.7510498>, <tf.Tensor: shape=(), dtype=float32, numpy=0.7580247>, <tf.Tensor: shape=(), dtype=float32, numpy=0.76638174>, <tf.Tensor: shape=(), dtype=float32, numpy=0.8233094>, <tf.Tensor: shape=(), dtype=float32, numpy=0.6867576>, <tf.Tensor: shape=(), dtype=float32, numpy=0.72556853>, <tf.Tensor: shape=(), dtype=float32, numpy=0.7828139>, <tf.Tensor: shape=(), dtype=float32, numpy=0.7118199>, <tf.Tensor: shape=(), dtype=float32, numpy=0.6635455>, <tf.Tensor: shape=(), dtype=float32, numpy=0.7768657>, <tf.Tensor: shape=(), dtype=float32, numpy=0.72336125>, <tf.Tensor: shape=(), dtype=float32, numpy=0.78122467>, <tf.Tensor: shape=(), dtype=float32, numpy=0.7937078>, <tf.Tensor: shape=(), dtype=float32, numpy=0.76599824>, <tf.Tensor: shape=(), dtype=float32, numpy=0.7744044>, <tf.Tensor: shape=(), dtype=float32, numpy=0.68355846>, <tf.Tensor: shape=(), dtype=float32, numpy=0.7487499>, <tf.Tensor: shape=(), dtype=float32, numpy=0.76023424>, <tf.Tensor: shape=(), dtype=float32, numpy=0.7898106>, <tf.Tensor: shape=(), dtype=float32, numpy=0.51851547>, <tf.Tensor: shape=(), dtype=float32, numpy=0.75762945>, <tf.Tensor: shape=(), dtype=float32, numpy=0.73818696>, <tf.Tensor: shape=(), dtype=float32, numpy=0.76285774>, <tf.Tensor: shape=(), dtype=float32, numpy=0.89279383>, <tf.Tensor: shape=(), dtype=float32, numpy=0.7559027>, <tf.Tensor: shape=(), dtype=float32, numpy=0.62904334>, <tf.Tensor: shape=(), dtype=float32, numpy=0.8492539>, <tf.Tensor: shape=(), dtype=float32, numpy=0.79260284>, <tf.Tensor: shape=(), dtype=float32, numpy=0.7600319>, <tf.Tensor: shape=(), dtype=float32, numpy=0.76334274>, <tf.Tensor: shape=(), dtype=float32, numpy=0.65218854>, <tf.Tensor: shape=(), dtype=float32, numpy=0.7424056>, <tf.Tensor: shape=(), dtype=float32, numpy=0.61100686>, <tf.Tensor: shape=(), dtype=float32, numpy=0.7532623>, <tf.Tensor: shape=(), dtype=float32, numpy=0.75884986>, <tf.Tensor: shape=(), dtype=float32, numpy=0.8515885>, <tf.Tensor: shape=(), dtype=float32, numpy=0.71759593>, <tf.Tensor: shape=(), dtype=float32, numpy=0.73630065>, <tf.Tensor: shape=(), dtype=float32, numpy=0.8049271>, <tf.Tensor: shape=(), dtype=float32, numpy=0.757498>, <tf.Tensor: shape=(), dtype=float32, numpy=0.7796393>, <tf.Tensor: shape=(), dtype=float32, numpy=0.76636815>, <tf.Tensor: shape=(), dtype=float32, numpy=0.68348384>, <tf.Tensor: shape=(), dtype=float32, numpy=0.76514107>, <tf.Tensor: shape=(), dtype=float32, numpy=0.8293438>, <tf.Tensor: shape=(), dtype=float32, numpy=0.7974295>, <tf.Tensor: shape=(), dtype=float32, numpy=0.6969435>, <tf.Tensor: shape=(), dtype=float32, numpy=0.7491323>, <tf.Tensor: shape=(), dtype=float32, numpy=0.7880728>, <tf.Tensor: shape=(), dtype=float32, numpy=0.71850663>, <tf.Tensor: shape=(), dtype=float32, numpy=0.7368397>, <tf.Tensor: shape=(), dtype=float32, numpy=0.7079624>, <tf.Tensor: shape=(), dtype=float32, numpy=0.8475262>, <tf.Tensor: shape=(), dtype=float32, numpy=0.7540225>, <tf.Tensor: shape=(), dtype=float32, numpy=0.7999607>, <tf.Tensor: shape=(), dtype=float32, numpy=0.7039525>, <tf.Tensor: shape=(), dtype=float32, numpy=0.69990015>, <tf.Tensor: shape=(), dtype=float32, numpy=0.8196883>, <tf.Tensor: shape=(), dtype=float32, numpy=0.76703966>, <tf.Tensor: shape=(), dtype=float32, numpy=0.7526412>, <tf.Tensor: shape=(), dtype=float32, numpy=0.8347573>, <tf.Tensor: shape=(), dtype=float32, numpy=0.75756645>, <tf.Tensor: shape=(), dtype=float32, numpy=0.85871667>, <tf.Tensor: shape=(), dtype=float32, numpy=0.7526835>, <tf.Tensor: shape=(), dtype=float32, numpy=0.8302746>, <tf.Tensor: shape=(), dtype=float32, numpy=0.7548361>, <tf.Tensor: shape=(), dtype=float32, numpy=0.7184447>, <tf.Tensor: shape=(), dtype=float32, numpy=0.71054006>, <tf.Tensor: shape=(), dtype=float32, numpy=0.7682417>, <tf.Tensor: shape=(), dtype=float32, numpy=0.74698913>, <tf.Tensor: shape=(), dtype=float32, numpy=0.8334781>, <tf.Tensor: shape=(), dtype=float32, numpy=0.6449436>, <tf.Tensor: shape=(), dtype=float32, numpy=0.81424665>, <tf.Tensor: shape=(), dtype=float32, numpy=0.6502923>, <tf.Tensor: shape=(), dtype=float32, numpy=0.8031914>, <tf.Tensor: shape=(), dtype=float32, numpy=0.86099505>, <tf.Tensor: shape=(), dtype=float32, numpy=0.7241425>, <tf.Tensor: shape=(), dtype=float32, numpy=0.6714742>, <tf.Tensor: shape=(), dtype=float32, numpy=0.8686972>, <tf.Tensor: shape=(), dtype=float32, numpy=0.60639536>, <tf.Tensor: shape=(), dtype=float32, numpy=0.7298417>, <tf.Tensor: shape=(), dtype=float32, numpy=0.7722318>, <tf.Tensor: shape=(), dtype=float32, numpy=0.68935305>, <tf.Tensor: shape=(), dtype=float32, numpy=0.8130299>, <tf.Tensor: shape=(), dtype=float32, numpy=0.72487366>, <tf.Tensor: shape=(), dtype=float32, numpy=0.89075005>, <tf.Tensor: shape=(), dtype=float32, numpy=0.71031034>, <tf.Tensor: shape=(), dtype=float32, numpy=0.673832>, <tf.Tensor: shape=(), dtype=float32, numpy=0.73961884>, <tf.Tensor: shape=(), dtype=float32, numpy=0.80005336>, <tf.Tensor: shape=(), dtype=float32, numpy=0.80853975>, <tf.Tensor: shape=(), dtype=float32, numpy=0.6582208>, <tf.Tensor: shape=(), dtype=float32, numpy=0.76901597>, <tf.Tensor: shape=(), dtype=float32, numpy=0.84352964>, <tf.Tensor: shape=(), dtype=float32, numpy=0.7001724>, <tf.Tensor: shape=(), dtype=float32, numpy=0.728449>, <tf.Tensor: shape=(), dtype=float32, numpy=0.76061165>, <tf.Tensor: shape=(), dtype=float32, numpy=0.80159616>, <tf.Tensor: shape=(), dtype=float32, numpy=0.7017591>, <tf.Tensor: shape=(), dtype=float32, numpy=0.7642938>, <tf.Tensor: shape=(), dtype=float32, numpy=0.81489253>, <tf.Tensor: shape=(), dtype=float32, numpy=0.91041505>, <tf.Tensor: shape=(), dtype=float32, numpy=0.7854793>, <tf.Tensor: shape=(), dtype=float32, numpy=0.743665>, <tf.Tensor: shape=(), dtype=float32, numpy=0.870522>, <tf.Tensor: shape=(), dtype=float32, numpy=0.7225121>, <tf.Tensor: shape=(), dtype=float32, numpy=0.8386632>, <tf.Tensor: shape=(), dtype=float32, numpy=0.6968744>, <tf.Tensor: shape=(), dtype=float32, numpy=0.6513878>, <tf.Tensor: shape=(), dtype=float32, numpy=0.7938213>, <tf.Tensor: shape=(), dtype=float32, numpy=0.75404024>, <tf.Tensor: shape=(), dtype=float32, numpy=0.6902651>, <tf.Tensor: shape=(), dtype=float32, numpy=0.88543403>, <tf.Tensor: shape=(), dtype=float32, numpy=0.7607356>, <tf.Tensor: shape=(), dtype=float32, numpy=0.7578082>, <tf.Tensor: shape=(), dtype=float32, numpy=0.7083455>, <tf.Tensor: shape=(), dtype=float32, numpy=0.61818>, <tf.Tensor: shape=(), dtype=float32, numpy=0.7397974>, <tf.Tensor: shape=(), dtype=float32, numpy=0.81967723>, <tf.Tensor: shape=(), dtype=float32, numpy=0.68767345>, <tf.Tensor: shape=(), dtype=float32, numpy=0.7906866>, <tf.Tensor: shape=(), dtype=float32, numpy=0.8537065>, <tf.Tensor: shape=(), dtype=float32, numpy=0.59512913>, <tf.Tensor: shape=(), dtype=float32, numpy=0.81827474>, <tf.Tensor: shape=(), dtype=float32, numpy=0.72064376>, <tf.Tensor: shape=(), dtype=float32, numpy=0.79990816>, <tf.Tensor: shape=(), dtype=float32, numpy=0.5770641>, <tf.Tensor: shape=(), dtype=float32, numpy=0.80785453>, <tf.Tensor: shape=(), dtype=float32, numpy=0.6079577>, <tf.Tensor: shape=(), dtype=float32, numpy=0.6950768>, <tf.Tensor: shape=(), dtype=float32, numpy=0.6550255>, <tf.Tensor: shape=(), dtype=float32, numpy=0.7637252>, <tf.Tensor: shape=(), dtype=float32, numpy=0.7120109>, <tf.Tensor: shape=(), dtype=float32, numpy=0.82356966>, <tf.Tensor: shape=(), dtype=float32, numpy=0.77753234>, <tf.Tensor: shape=(), dtype=float32, numpy=0.75744337>, <tf.Tensor: shape=(), dtype=float32, numpy=0.8512093>, <tf.Tensor: shape=(), dtype=float32, numpy=0.83334064>, <tf.Tensor: shape=(), dtype=float32, numpy=0.81395555>, <tf.Tensor: shape=(), dtype=float32, numpy=0.7699305>, <tf.Tensor: shape=(), dtype=float32, numpy=0.7062607>, <tf.Tensor: shape=(), dtype=float32, numpy=0.6690606>, <tf.Tensor: shape=(), dtype=float32, numpy=0.6505688>, <tf.Tensor: shape=(), dtype=float32, numpy=0.75024325>, <tf.Tensor: shape=(), dtype=float32, numpy=0.8375829>, <tf.Tensor: shape=(), dtype=float32, numpy=0.6891917>, <tf.Tensor: shape=(), dtype=float32, numpy=0.8001003>, <tf.Tensor: shape=(), dtype=float32, numpy=0.7091428>, <tf.Tensor: shape=(), dtype=float32, numpy=0.6143969>, <tf.Tensor: shape=(), dtype=float32, numpy=0.731605>, <tf.Tensor: shape=(), dtype=float32, numpy=0.5852287>, <tf.Tensor: shape=(), dtype=float32, numpy=0.8587763>, <tf.Tensor: shape=(), dtype=float32, numpy=0.75950277>, <tf.Tensor: shape=(), dtype=float32, numpy=0.79934835>, <tf.Tensor: shape=(), dtype=float32, numpy=0.76210517>, <tf.Tensor: shape=(), dtype=float32, numpy=0.79726154>, <tf.Tensor: shape=(), dtype=float32, numpy=0.8359708>, <tf.Tensor: shape=(), dtype=float32, numpy=0.76928675>, <tf.Tensor: shape=(), dtype=float32, numpy=0.7321898>, <tf.Tensor: shape=(), dtype=float32, numpy=0.70839083>, <tf.Tensor: shape=(), dtype=float32, numpy=0.80085826>, <tf.Tensor: shape=(), dtype=float32, numpy=0.67187333>, <tf.Tensor: shape=(), dtype=float32, numpy=0.8215508>, <tf.Tensor: shape=(), dtype=float32, numpy=0.7129443>, <tf.Tensor: shape=(), dtype=float32, numpy=0.7727035>, <tf.Tensor: shape=(), dtype=float32, numpy=0.7636466>, <tf.Tensor: shape=(), dtype=float32, numpy=0.82822806>, <tf.Tensor: shape=(), dtype=float32, numpy=0.9049897>, <tf.Tensor: shape=(), dtype=float32, numpy=0.66400254>, <tf.Tensor: shape=(), dtype=float32, numpy=0.6798918>, <tf.Tensor: shape=(), dtype=float32, numpy=0.671036>, <tf.Tensor: shape=(), dtype=float32, numpy=0.7673012>, <tf.Tensor: shape=(), dtype=float32, numpy=0.6809969>, <tf.Tensor: shape=(), dtype=float32, numpy=0.8395853>, <tf.Tensor: shape=(), dtype=float32, numpy=0.7858669>, <tf.Tensor: shape=(), dtype=float32, numpy=0.8051585>, <tf.Tensor: shape=(), dtype=float32, numpy=0.7919548>, <tf.Tensor: shape=(), dtype=float32, numpy=0.8574133>, <tf.Tensor: shape=(), dtype=float32, numpy=0.76445484>, <tf.Tensor: shape=(), dtype=float32, numpy=0.49774867>, <tf.Tensor: shape=(), dtype=float32, numpy=0.69124997>, <tf.Tensor: shape=(), dtype=float32, numpy=0.5183756>, <tf.Tensor: shape=(), dtype=float32, numpy=0.7804911>, <tf.Tensor: shape=(), dtype=float32, numpy=0.80672914>, <tf.Tensor: shape=(), dtype=float32, numpy=0.80023843>, <tf.Tensor: shape=(), dtype=float32, numpy=0.7381673>, <tf.Tensor: shape=(), dtype=float32, numpy=0.7544417>, <tf.Tensor: shape=(), dtype=float32, numpy=0.8867126>, <tf.Tensor: shape=(), dtype=float32, numpy=0.7150856>, <tf.Tensor: shape=(), dtype=float32, numpy=0.8739308>, <tf.Tensor: shape=(), dtype=float32, numpy=0.71716046>, <tf.Tensor: shape=(), dtype=float32, numpy=0.859377>, <tf.Tensor: shape=(), dtype=float32, numpy=0.6693223>, <tf.Tensor: shape=(), dtype=float32, numpy=0.7686587>, <tf.Tensor: shape=(), dtype=float32, numpy=0.85985196>, <tf.Tensor: shape=(), dtype=float32, numpy=0.75875777>, <tf.Tensor: shape=(), dtype=float32, numpy=0.6248176>, <tf.Tensor: shape=(), dtype=float32, numpy=0.77203697>, <tf.Tensor: shape=(), dtype=float32, numpy=0.67668545>, <tf.Tensor: shape=(), dtype=float32, numpy=0.7120323>, <tf.Tensor: shape=(), dtype=float32, numpy=0.8156403>, <tf.Tensor: shape=(), dtype=float32, numpy=0.79143757>, <tf.Tensor: shape=(), dtype=float32, numpy=0.62400055>, <tf.Tensor: shape=(), dtype=float32, numpy=0.7725217>, <tf.Tensor: shape=(), dtype=float32, numpy=0.7252683>, <tf.Tensor: shape=(), dtype=float32, numpy=0.60926783>, <tf.Tensor: shape=(), dtype=float32, numpy=0.7993256>, <tf.Tensor: shape=(), dtype=float32, numpy=0.61662495>, <tf.Tensor: shape=(), dtype=float32, numpy=0.7730666>, <tf.Tensor: shape=(), dtype=float32, numpy=0.58962786>, <tf.Tensor: shape=(), dtype=float32, numpy=0.79705656>, <tf.Tensor: shape=(), dtype=float32, numpy=0.5909599>, <tf.Tensor: shape=(), dtype=float32, numpy=0.81314737>, <tf.Tensor: shape=(), dtype=float32, numpy=0.5798843>, <tf.Tensor: shape=(), dtype=float32, numpy=0.7752971>, <tf.Tensor: shape=(), dtype=float32, numpy=0.71969557>, <tf.Tensor: shape=(), dtype=float32, numpy=0.900854>, <tf.Tensor: shape=(), dtype=float32, numpy=0.7992946>, <tf.Tensor: shape=(), dtype=float32, numpy=0.64001185>, <tf.Tensor: shape=(), dtype=float32, numpy=0.81084406>, <tf.Tensor: shape=(), dtype=float32, numpy=0.7914037>, <tf.Tensor: shape=(), dtype=float32, numpy=0.8096975>, <tf.Tensor: shape=(), dtype=float32, numpy=0.83856636>, <tf.Tensor: shape=(), dtype=float32, numpy=0.8406589>, <tf.Tensor: shape=(), dtype=float32, numpy=0.8279774>, <tf.Tensor: shape=(), dtype=float32, numpy=0.67275>, <tf.Tensor: shape=(), dtype=float32, numpy=0.78791183>, <tf.Tensor: shape=(), dtype=float32, numpy=0.7081826>, <tf.Tensor: shape=(), dtype=float32, numpy=0.73209155>, <tf.Tensor: shape=(), dtype=float32, numpy=0.8147562>, <tf.Tensor: shape=(), dtype=float32, numpy=0.67696434>, <tf.Tensor: shape=(), dtype=float32, numpy=0.698299>, <tf.Tensor: shape=(), dtype=float32, numpy=0.8005193>, <tf.Tensor: shape=(), dtype=float32, numpy=0.7805282>, <tf.Tensor: shape=(), dtype=float32, numpy=0.70240766>, <tf.Tensor: shape=(), dtype=float32, numpy=0.7417543>, <tf.Tensor: shape=(), dtype=float32, numpy=0.75728>, <tf.Tensor: shape=(), dtype=float32, numpy=0.68064296>, <tf.Tensor: shape=(), dtype=float32, numpy=0.7905179>, <tf.Tensor: shape=(), dtype=float32, numpy=0.74371445>, <tf.Tensor: shape=(), dtype=float32, numpy=0.73055017>, <tf.Tensor: shape=(), dtype=float32, numpy=0.83752346>, <tf.Tensor: shape=(), dtype=float32, numpy=0.56344444>, <tf.Tensor: shape=(), dtype=float32, numpy=0.7906853>, <tf.Tensor: shape=(), dtype=float32, numpy=0.79873914>, <tf.Tensor: shape=(), dtype=float32, numpy=0.62003136>, <tf.Tensor: shape=(), dtype=float32, numpy=0.778103>, <tf.Tensor: shape=(), dtype=float32, numpy=0.80660677>, <tf.Tensor: shape=(), dtype=float32, numpy=0.73875654>, <tf.Tensor: shape=(), dtype=float32, numpy=0.82431555>, <tf.Tensor: shape=(), dtype=float32, numpy=0.70707685>, <tf.Tensor: shape=(), dtype=float32, numpy=0.7202282>, <tf.Tensor: shape=(), dtype=float32, numpy=0.63430333>, <tf.Tensor: shape=(), dtype=float32, numpy=0.7349976>, <tf.Tensor: shape=(), dtype=float32, numpy=0.7811491>, <tf.Tensor: shape=(), dtype=float32, numpy=0.85275>, <tf.Tensor: shape=(), dtype=float32, numpy=0.67755866>, <tf.Tensor: shape=(), dtype=float32, numpy=0.5751042>, <tf.Tensor: shape=(), dtype=float32, numpy=0.53150326>, <tf.Tensor: shape=(), dtype=float32, numpy=0.75431395>, <tf.Tensor: shape=(), dtype=float32, numpy=0.9116821>, <tf.Tensor: shape=(), dtype=float32, numpy=0.6198786>, <tf.Tensor: shape=(), dtype=float32, numpy=0.73048675>, <tf.Tensor: shape=(), dtype=float32, numpy=0.778312>, <tf.Tensor: shape=(), dtype=float32, numpy=0.657189>, <tf.Tensor: shape=(), dtype=float32, numpy=0.9011538>, <tf.Tensor: shape=(), dtype=float32, numpy=0.79715574>, <tf.Tensor: shape=(), dtype=float32, numpy=0.6664382>, <tf.Tensor: shape=(), dtype=float32, numpy=0.82154536>, <tf.Tensor: shape=(), dtype=float32, numpy=0.52328813>, <tf.Tensor: shape=(), dtype=float32, numpy=0.7308689>, <tf.Tensor: shape=(), dtype=float32, numpy=0.8565331>, <tf.Tensor: shape=(), dtype=float32, numpy=0.603685>, <tf.Tensor: shape=(), dtype=float32, numpy=0.71087563>, <tf.Tensor: shape=(), dtype=float32, numpy=0.7474042>, <tf.Tensor: shape=(), dtype=float32, numpy=0.8310521>, <tf.Tensor: shape=(), dtype=float32, numpy=0.7861629>, <tf.Tensor: shape=(), dtype=float32, numpy=0.73483294>, <tf.Tensor: shape=(), dtype=float32, numpy=0.7534177>, <tf.Tensor: shape=(), dtype=float32, numpy=0.64699864>, <tf.Tensor: shape=(), dtype=float32, numpy=0.664412>, <tf.Tensor: shape=(), dtype=float32, numpy=0.8216273>, <tf.Tensor: shape=(), dtype=float32, numpy=0.73331094>, <tf.Tensor: shape=(), dtype=float32, numpy=0.8777334>, <tf.Tensor: shape=(), dtype=float32, numpy=0.58361024>, <tf.Tensor: shape=(), dtype=float32, numpy=0.5629092>, <tf.Tensor: shape=(), dtype=float32, numpy=0.77972734>, <tf.Tensor: shape=(), dtype=float32, numpy=0.76468855>, <tf.Tensor: shape=(), dtype=float32, numpy=0.5748488>, <tf.Tensor: shape=(), dtype=float32, numpy=0.715057>, <tf.Tensor: shape=(), dtype=float32, numpy=0.60044944>, <tf.Tensor: shape=(), dtype=float32, numpy=0.6709126>, <tf.Tensor: shape=(), dtype=float32, numpy=0.65290457>, <tf.Tensor: shape=(), dtype=float32, numpy=0.7040179>, <tf.Tensor: shape=(), dtype=float32, numpy=0.5906101>, <tf.Tensor: shape=(), dtype=float32, numpy=0.7097166>, <tf.Tensor: shape=(), dtype=float32, numpy=0.71190256>, <tf.Tensor: shape=(), dtype=float32, numpy=0.84782904>, <tf.Tensor: shape=(), dtype=float32, numpy=0.70160294>, <tf.Tensor: shape=(), dtype=float32, numpy=0.64495695>, <tf.Tensor: shape=(), dtype=float32, numpy=0.7437515>, <tf.Tensor: shape=(), dtype=float32, numpy=0.8273459>, <tf.Tensor: shape=(), dtype=float32, numpy=0.6957299>, <tf.Tensor: shape=(), dtype=float32, numpy=0.5817889>, <tf.Tensor: shape=(), dtype=float32, numpy=0.5042397>, <tf.Tensor: shape=(), dtype=float32, numpy=0.5453183>, <tf.Tensor: shape=(), dtype=float32, numpy=0.5926125>, <tf.Tensor: shape=(), dtype=float32, numpy=0.6504071>, <tf.Tensor: shape=(), dtype=float32, numpy=0.58059895>, <tf.Tensor: shape=(), dtype=float32, numpy=0.739998>, <tf.Tensor: shape=(), dtype=float32, numpy=0.52403927>, <tf.Tensor: shape=(), dtype=float32, numpy=0.62831175>, <tf.Tensor: shape=(), dtype=float32, numpy=0.81286794>, <tf.Tensor: shape=(), dtype=float32, numpy=0.8191637>, <tf.Tensor: shape=(), dtype=float32, numpy=0.78436786>, <tf.Tensor: shape=(), dtype=float32, numpy=0.6697159>, <tf.Tensor: shape=(), dtype=float32, numpy=0.64949584>, <tf.Tensor: shape=(), dtype=float32, numpy=0.86631066>, <tf.Tensor: shape=(), dtype=float32, numpy=0.698956>, <tf.Tensor: shape=(), dtype=float32, numpy=0.74505264>, <tf.Tensor: shape=(), dtype=float32, numpy=0.75385386>, <tf.Tensor: shape=(), dtype=float32, numpy=0.660455>, <tf.Tensor: shape=(), dtype=float32, numpy=0.6278511>, <tf.Tensor: shape=(), dtype=float32, numpy=0.9998096>, <tf.Tensor: shape=(), dtype=float32, numpy=0.7493248>, <tf.Tensor: shape=(), dtype=float32, numpy=0.7260815>, <tf.Tensor: shape=(), dtype=float32, numpy=0.8545272>, <tf.Tensor: shape=(), dtype=float32, numpy=0.77430815>, <tf.Tensor: shape=(), dtype=float32, numpy=0.6975863>, <tf.Tensor: shape=(), dtype=float32, numpy=0.60317487>, <tf.Tensor: shape=(), dtype=float32, numpy=0.49039692>, <tf.Tensor: shape=(), dtype=float32, numpy=0.85162205>, <tf.Tensor: shape=(), dtype=float32, numpy=0.7643357>, <tf.Tensor: shape=(), dtype=float32, numpy=0.75002295>, <tf.Tensor: shape=(), dtype=float32, numpy=0.78809744>, <tf.Tensor: shape=(), dtype=float32, numpy=0.7788338>, <tf.Tensor: shape=(), dtype=float32, numpy=0.8026514>, <tf.Tensor: shape=(), dtype=float32, numpy=0.78515697>, <tf.Tensor: shape=(), dtype=float32, numpy=0.7824403>, <tf.Tensor: shape=(), dtype=float32, numpy=0.7810011>, <tf.Tensor: shape=(), dtype=float32, numpy=0.6352998>, <tf.Tensor: shape=(), dtype=float32, numpy=0.95771223>, <tf.Tensor: shape=(), dtype=float32, numpy=0.79233634>, <tf.Tensor: shape=(), dtype=float32, numpy=0.88877565>, <tf.Tensor: shape=(), dtype=float32, numpy=0.7845324>, <tf.Tensor: shape=(), dtype=float32, numpy=0.82666934>, <tf.Tensor: shape=(), dtype=float32, numpy=0.7777131>, <tf.Tensor: shape=(), dtype=float32, numpy=0.80197155>, <tf.Tensor: shape=(), dtype=float32, numpy=0.6618806>, <tf.Tensor: shape=(), dtype=float32, numpy=0.79784083>, <tf.Tensor: shape=(), dtype=float32, numpy=0.5755232>, <tf.Tensor: shape=(), dtype=float32, numpy=0.62007344>, <tf.Tensor: shape=(), dtype=float32, numpy=0.6227191>, <tf.Tensor: shape=(), dtype=float32, numpy=0.6669046>]\n",
            "[5.0, 4.75, 5.0, 2.4, 2.75, 2.615, 5.0, 2.333, 3.75, 5.0, 3.2, 1.5830000000000002, 5.0, 5.0, 4.909, 0.8, 2.4, 5.0, 4.0, 0.636, 3.0, 1.714, 3.2, 2.167, 1.0, 1.9169999999999998, 4.25, 3.0, 1.0, 0.6, 2.6, 5.0, 4.6, 5.0, 4.8, 3.8, 5.0, 5.0, 4.2, 1.4, 3.6, 2.8, 1.6, 3.0, 1.4, 0.25, 0.25, 0.0, 4.0, 4.5, 0.5, 3.8, 4.8, 5.0, 0.25, 1.2, 0.6, 0.8, 3.8, 0.0, 3.5, 4.5, 2.8, 3.8, 3.8, 0.0, 4.0, 4.25, 2.812, 4.25, 3.0, 1.0, 3.75, 0.0, 0.4, 4.0, 2.8, 3.75, 1.1540000000000001, 2.75, 2.8, 0.0, 0.0, 3.4, 5.0, 0.8, 2.25, 2.75, 4.5, 2.6, 3.8, 2.8, 1.6, 0.0, 1.3330000000000002, 2.6, 0.6, 0.0, 0.0, 3.0, 0.0, 0.2, 3.2, 2.0, 0.0, 3.0, 3.091, 2.75, 1.2, 0.5, 0.25, 0.0, 0.0, 0.5, 0.0, 0.6, 4.0, 3.4, 0.0, 0.0, 1.0, 0.0, 2.4, 0.4, 1.8, 2.5, 0.083, 0.0, 1.0, 4.5, 0.0, 3.6, 5.0, 5.0, 5.0, 5.0, 3.8, 5.0, 2.5, 3.824, 1.6, 5.0, 5.0, 2.375, 5.0, 1.25, 1.25, 3.0, 2.167, 1.4, 4.0, 3.6, 4.857, 0.4, 0.2, 1.3, 1.2, 1.2, 4.4, 1.8, 1.4, 0.4, 4.4, 3.25, 0.778, 2.25, 2.75, 2.0, 0.833, 3.75, 1.8, 4.333, 4.2139999999999995, 0.0, 3.4, 4.2, 0.8, 4.2, 2.75, 2.2, 1.2, 1.0, 1.5330000000000001, 0.2, 3.0, 3.8, 0.75, 3.0, 0.4, 3.4, 3.8, 1.4, 3.4, 3.2, 2.333, 0.8, 0.0, 3.0, 3.75, 0.0, 0.0, 0.0, 0.5, 0.5, 0.4, 0.75, 2.5, 1.8, 2.5, 0.5, 0.4, 1.2, 2.75, 0.4, 0.6, 0.8, 3.0, 0.4, 3.2, 1.25, 5.0, 0.2, 3.0, 1.4, 3.8, 2.75, 0.0, 2.8, 0.0, 0.0, 2.6, 0.1, 0.0, 2.0, 3.75, 3.1, 2.6919999999999997, 4.428999999999999, 5.0, 0.0, 0.8, 1.3330000000000002, 0.0, 0.6, 0.0, 0.0, 0.0, 3.4, 2.2, 0.0, 3.6, 0.0, 1.4, 2.2, 3.8, 2.6, 0.4, 4.0, 2.25, 3.2, 0.0, 0.4, 3.8, 0.8, 4.2, 3.6, 2.0, 4.2, 3.4, 3.0, 3.4, 3.6, 3.0, 2.4, 2.0, 4.0, 0.0, 4.0, 4.2, 0.8, 2.2, 3.8, 3.2, 4.4, 0.0, 1.4, 2.6, 0.4, 0.0, 3.2, 4.6, 0.0, 0.6, 1.2, 3.8, 3.2, 2.6, 5.0, 0.0, 3.2, 4.0, 1.2, 4.4, 3.4, 4.4, 0.8, 4.6, 4.2, 0.0, 3.2, 0.0, 1.4, 3.2, 1.8, 1.8, 0.0, 3.8, 3.8, 4.0, 0.0, 3.2, 1.6, 3.6, 1.0, 3.6, 2.0, 3.6, 4.0, 3.6, 3.2, 2.8, 2.4, 3.6, 1.8, 0.2, 3.4, 1.2, 1.4, 2.6, 2.4, 0.0, 4.0, 3.0, 4.0, 4.0, 2.0, 4.0, 2.2, 2.2, 3.4, 3.2, 4.0, 3.2, 3.8, 3.0, 4.0, 2.2, 3.4, 3.8, 0.0, 0.0, 4.8, 3.0, 0.8, 4.2, 4.2, 0.0, 4.2, 4.6, 5.0, 0.0, 3.2, 2.6, 2.2, 4.6, 5.0, 4.6, 4.6, 4.8, 0.6, 0.2, 2.2, 4.8, 1.2, 2.2, 4.6, 2.6, 3.6, 0.8, 2.4, 4.8, 5.0, 0.4, 3.2, 1.8, 3.2, 3.4, 4.8, 4.2, 2.6, 2.2, 1.4, 2.6, 1.2, 1.8, 4.0, 0.4, 0.0, 0.4, 3.0, 4.0, 1.4, 0.4, 2.4, 2.8, 4.6, 4.2, 3.2, 1.2, 1.8, 2.6, 1.6, 0.0, 3.8, 4.0, 4.8, 2.4, 5.0, 0.0, 3.6, 2.4, 4.2, 0.2, 4.2, 3.2, 0.6, 1.6, 0.0, 1.4, 4.8, 4.0, 3.0, 0.2, 1.6, 4.4, 4.8, 0.4, 2.4, 3.0, 2.0, 4.6, 1.0, 5.0, 1.4, 0.0, 3.0, 0.6, 0.0, 2.6, 1.2, 5.0, 3.4, 0.8, 0.8, 1.0, 0.0, 0.0, 2.0, 2.4, 2.2, 3.8, 2.2, 4.6, 2.8, 2.0, 4.2, 4.5, 0.0, 1.8, 4.2, 4.2, 1.4, 3.6, 0.6, 5.0, 0.8, 0.0, 0.0, 1.8, 0.8, 2.8, 0.0, 0.8, 1.8, 1.4, 1.8, 2.4, 1.6, 3.8, 4.8, 0.2, 1.0, 0.4, 0.4, 4.0, 3.4, 3.0, 1.8, 2.2, 3.6, 0.4, 0.2, 3.8, 4.2, 1.2, 3.4, 2.4, 3.2, 2.2, 4.4, 2.6, 0.2, 3.2, 2.2, 5.0, 5.0, 2.2, 0.4, 1.0, 2.2, 2.0, 1.2, 4.0, 1.0, 4.2, 3.4, 4.0, 4.8, 0.4, 4.4, 0.4, 0.0, 3.0, 4.6, 0.4, 1.4, 3.0, 1.6, 2.4, 0.0, 1.6, 1.6, 0.2, 2.2, 2.0, 0.4, 4.8, 2.0, 0.2, 3.8, 2.2, 2.0, 4.0, 4.6, 1.4, 0.8, 0.6, 1.2, 1.6, 0.0, 0.6, 3.0, 2.4, 0.6, 4.6, 0.6, 4.8, 5.0, 0.2, 0.6, 0.8, 3.6, 0.0, 4.4, 4.6, 2.8, 4.0, 1.0, 5.0, 0.4, 0.8, 0.4, 0.0, 1.6, 1.6, 3.6, 3.0, 2.8, 0.2, 1.0, 1.4, 2.8, 3.0, 1.6, 2.8, 4.0, 0.8, 2.0, 4.4, 4.6, 2.4, 4.4, 0.8, 3.8, 1.4, 2.8, 3.0, 1.6, 1.0, 2.6, 1.6, 0.2, 3.0, 3.0, 3.2, 3.0, 0.6, 1.0, 0.6, 0.8, 2.4, 1.0, 0.2, 0.6, 3.6, 0.2, 0.2, 0.0, 0.0, 1.2, 0.0, 0.4, 0.4, 3.0, 4.4, 3.2, 3.4, 3.4, 3.6, 0.8, 0.8, 1.0, 1.6, 1.0, 3.2, 2.0, 0.0, 0.6, 0.0, 1.4, 2.0, 2.6, 4.2, 2.8, 0.0, 0.0, 2.0, 0.0, 2.6, 2.6, 0.0, 2.6, 0.0, 1.6, 0.0, 0.6, 1.8, 3.8, 1.6, 3.2, 2.6, 3.0, 1.4, 1.6, 1.6, 1.0, 1.8, 1.8, 1.4, 2.6, 2.0, 1.0, 1.4, 0.6, 1.4, 0.4, 1.8, 4.0, 0.6, 2.8, 2.6, 2.6, 0.6, 4.4, 2.2, 1.0, 0.0, 1.6, 1.8, 3.8, 3.0, 1.4, 3.0, 0.4, 3.6, 3.4, 2.8, 4.2, 4.2, 1.8, 1.0, 2.0, 1.0, 1.6, 2.6, 3.2, 0.4, 0.0, 0.0, 2.2, 1.5, 0.6, 4.0, 1.8, 0.6, 1.6, 2.4, 1.0, 2.0, 1.6, 0.2, 0.2, 2.0, 0.0, 3.2, 1.0, 2.0, 2.4, 0.0, 1.6, 3.8, 1.2, 2.0, 1.0, 2.0, 0.6, 0.0, 0.0, 3.4, 2.6, 0.4, 2.8, 2.0, 1.6, 2.2, 0.6, 2.6, 3.0, 2.2, 1.8, 0.6, 0.0, 1.6, 0.8, 0.2, 1.0, 2.8, 0.6, 2.8, 1.6, 1.4, 1.4, 3.0, 3.2, 2.8, 3.4, 2.0, 2.8, 0.0, 0.2, 0.8, 0.0, 4.2, 0.2, 3.2, 0.0, 0.6, 0.0, 4.8, 3.8, 1.8, 0.4, 2.6, 1.6, 1.4, 2.0, 1.8, 1.2, 0.8, 2.2, 3.2, 1.4, 1.4, 0.0, 1.6, 0.8, 2.8, 1.8, 0.67, 2.6, 0.4, 2.4, 2.8, 2.0, 3.0, 2.6, 1.8, 3.8, 3.0, 1.4, 1.6, 0.0, 0.6, 0.0, 3.4, 3.6, 2.2, 3.0, 1.8, 2.4, 2.6, 1.4, 1.6, 1.6, 1.4, 2.8, 3.8, 3.4, 0.0, 2.0, 0.0, 3.8, 0.2, 0.6, 1.8, 1.8, 1.2, 0.0, 1.0, 0.4, 0.8, 3.0, 3.8, 3.2, 2.6, 3.0, 2.6, 1.8, 2.6, 0.8, 1.6, 0.6, 2.6, 1.2, 0.0, 2.4, 0.4, 0.6, 1.0, 2.6, 4.0, 3.6, 2.6, 1.6, 4.0, 3.0, 0.6, 0.0, 0.4, 0.4, 2.0, 0.6, 0.0, 3.2, 2.8, 2.6, 2.8, 0.2, 3.2, 0.6, 3.6, 0.0, 0.0, 0.0, 0.0, 2.2, 0.0, 0.4, 0.0, 2.6, 0.8, 0.4, 3.0, 2.2, 0.6, 3.4, 2.2, 1.8, 0.8, 0.0, 1.6, 2.8, 1.67, 1.8, 2.8, 0.0, 0.6, 1.8, 0.4, 0.2, 0.0, 1.4, 0.0, 0.6, 0.8, 0.2, 2.2, 1.8, 0.2, 4.0, 4.2, 4.4, 3.0, 2.6, 0.6, 3.2, 2.6, 1.2, 3.0, 0.0, 2.6, 1.2, 2.8, 0.2, 1.8, 0.0, 0.0, 3.0, 0.0, 2.4, 0.4, 2.6, 0.0, 3.6, 1.8, 1.6, 2.0, 2.0, 0.0, 2.6, 0.4, 0.0, 0.2, 1.8, 1.6, 1.0, 0.6, 1.0, 2.8, 2.6, 3.4, 1.6, 4.0, 1.8, 0.2, 0.0, 1.4, 0.0, 1.2, 3.6, 3.0, 1.2, 1.8, 0.8, 1.2, 0.0, 3.2, 0.2, 0.8, 3.6, 5.0, 1.4, 2.6, 2.0, 3.75, 4.0, 3.75, 3.2, 4.0, 2.4, 4.4, 4.2, 3.2, 3.0, 0.8, 3.2, 3.8, 3.0, 2.4, 5.0, 3.8, 3.2, 3.8, 3.75, 3.2, 3.4, 4.6, 3.333, 3.5, 1.75, 3.0, 4.4, 3.8, 3.0, 4.5, 2.2, 4.0, 4.6, 3.5, 4.4, 5.0, 5.0, 3.2, 2.2, 3.25, 3.75, 3.2, 4.4, 2.6, 3.5, 3.75, 3.5, 4.25, 2.4, 3.25, 3.8, 3.4, 3.5, 2.4, 3.8, 3.8, 4.0, 3.4, 2.8, 3.75, 4.4, 1.0, 2.8, 3.25, 1.75, 1.75, 5.0, 3.6, 3.0, 2.8, 3.6, 3.0, 1.0, 5.0, 3.5, 3.6919999999999997, 4.0, 3.5, 4.75, 3.2, 2.6, 3.0, 3.25, 2.2, 3.5, 4.75, 3.2, 3.25, 3.75, 3.0, 2.6, 3.25, 3.4, 1.3330000000000002, 5.0, 4.0, 3.6, 0.8, 3.5, 3.0, 1.6669999999999998, 3.75, 2.25, 4.2, 3.6, 3.4, 3.0, 3.25, 3.6, 3.0, 1.75, 3.25, 4.4, 2.8, 2.75, 3.0, 3.6, 3.0, 2.0, 3.0, 4.4, 2.4, 4.4, 4.4, 2.6, 3.0, 4.5, 3.0, 1.75, 3.6, 2.5, 1.5, 5.0, 3.75, 1.75, 4.4, 3.0, 3.8, 3.25, 2.75, 3.4, 3.2, 3.0, 3.25, 5.0, 3.333, 3.6, 3.8, 3.0, 4.25, 3.5, 3.2, 2.4, 4.0, 4.667, 3.333, 3.0, 3.25, 4.0, 3.5, 2.0, 3.6, 3.4, 3.5, 2.4, 3.5, 2.8, 4.8, 3.0, 3.4, 3.25, 4.75, 3.6, 4.2, 2.0, 3.8, 1.6, 3.25, 5.0, 3.417, 2.75, 4.111000000000001, 3.6, 3.6, 4.333, 3.2, 2.25, 4.5, 2.75, 4.0, 3.4, 2.2, 3.25, 3.667, 4.75, 3.5, 3.0, 3.25, 3.6, 3.8, 1.0, 3.333, 4.25, 1.75, 2.75, 3.25, 2.5, 3.091, 4.4, 4.8, 5.0, 3.0, 3.2, 4.4, 1.8, 4.0, 1.0, 0.6, 4.6, 1.8, 1.2, 4.6, 1.4, 3.2, 2.8, 0.8, 3.8, 3.8, 4.2, 1.6, 3.8, 1.4, 3.6, 1.8, 3.8, 0.2, 1.6, 0.4, 2.3333333333333304, 0.4, 3.6, 3.4, 2.6, 2.2, 2.6, 4.8, 4.8, 4.8, 2.6, 1.6, 2.2, 1.0, 1.2, 3.4, 0.6, 3.2, 3.2, 1.8, 1.2, 1.6, 4.8, 3.6, 3.8, 3.0, 3.6, 4.4, 2.0, 2.4, 3.2, 3.4, 2.8, 3.2, 1.8, 2.8, 3.4, 4.6, 3.8, 1.6, 0.8, 1.0, 2.6, 4.2, 4.4, 2.2, 2.6, 2.8, 4.0, 3.2, 0.0, 1.8, 0.0, 2.6, 2.75, 3.2, 1.8, 4.2, 4.2, 2.6, 4.2, 2.0, 5.0, 0.8, 3.8, 1.6, 3.4, 0.6, 1.4, 3.8, 1.2, 3.0, 2.2, 1.0, 2.2, 1.8, 0.0, 4.2, 0.4, 2.6, 0.6, 3.8, 0.0, 5.0, 1.0, 3.2, 2.8, 4.6, 3.4, 1.2, 4.0, 1.8, 4.0, 2.4, 1.8, 3.8, 1.4, 2.6, 1.4, 1.6, 4.8, 0.8, 3.4, 3.2, 2.2, 1.2, 3.0, 2.6, 0.4, 4.6, 4.0, 2.8, 3.8, 0.0, 3.4, 4.6, 0.8, 3.8, 2.2, 3.2, 5.0, 1.6, 2.2, 0.8, 3.6, 2.5, 3.0, 2.2, 0.0, 0.2, 3.2, 5.0, 2.2, 4.4, 3.8, 1.2, 4.6, 3.8, 1.4, 3.8, 0.0, 1.6, 5.0, 0.4, 2.4, 3.2, 3.8, 2.6, 1.0, 4.0, 2.0, 2.2, 4.6, 4.4, 1.8, 0.0, 0.0, 2.0, 3.4, 0.2, 2.4, 0.0, 0.4, 1.8, 0.8, 0.4, 2.2, 1.8, 4.6, 2.2, 1.0, 1.0, 4.2, 0.4, 0.2, 0.0, 0.0, 0.0, 0.6, 0.6, 4.0, 0.0, 0.8, 3.2, 4.8, 4.2, 2.2, 1.0, 3.6, 1.6, 3.0, 2.4, 0.4, 0.0, 5.0, 1.2, 1.4, 4.0, 4.6, 3.4, 0.4, 0.0, 4.8, 5.0, 4.0, 4.0, 3.0, 5.0, 2.0, 3.0, 3.0, 1.0, 5.0, 2.0, 2.0, 2.0, 5.0, 3.0, 3.0, 0.0, 2.0, 0.0, 2.0, 0.0, 0.0]\n",
            "Pearson correlation coefficient = 0.8036398551798067\n",
            "p-value = 0.0\n"
          ]
        }
      ]
    },
    {
      "cell_type": "code",
      "metadata": {
        "colab": {
          "base_uri": "https://localhost:8080/",
          "height": 364
        },
        "id": "B6CzTgU5Bg4E",
        "outputId": "c1a5b5b0-390a-4608-a997-67291475648a"
      },
      "source": [
        "sts_data = sts_dev #@param [\"sts_dev\", \"sts_test\"] {type:\"raw\"}\n",
        "\n",
        "def run_sts_benchmark(batch):\n",
        "  corpus_embeddings=model.encode(batch['sent_1'].tolist(), convert_to_tensor=True)\n",
        "  query_embedding=model.encode(batch['sent_2'].tolist(), convert_to_tensor=True)\n",
        "  cosine_similarities = util.cos_sim(query_embedding,corpus_embeddings)\n",
        "  cosine_similarities=cosine_similarities[0]\n",
        "  scores = cosine_similarities\n",
        "  \"\"\"Returns the similarity scores\"\"\"\n",
        "  return scores\n",
        "\n",
        "count=0\n",
        "dev_scores = sts_data['sim'].tolist()\n",
        "scores = []\n",
        "for batch in np.array_split(sts_data, 10):\n",
        "  scores.extend(run_sts_benchmark(batch))\n",
        "  count+=1\n",
        "print(scores)\n",
        "print(dev_scores)\n",
        "\n",
        "\n",
        "pearson_correlation = scipy.stats.pearsonr(scores, dev_scores)\n",
        "print('Pearson correlation coefficient = {0}\\np-value = {1}'.format(\n",
        "    pearson_correlation[0], pearson_correlation[1]))"
      ],
      "execution_count": null,
      "outputs": [
        {
          "output_type": "error",
          "ename": "AttributeError",
          "evalue": "ignored",
          "traceback": [
            "\u001b[0;31m---------------------------------------------------------------------------\u001b[0m",
            "\u001b[0;31mAttributeError\u001b[0m                            Traceback (most recent call last)",
            "\u001b[0;32m<ipython-input-470-bc9b0a2b5781>\u001b[0m in \u001b[0;36m<module>\u001b[0;34m()\u001b[0m\n\u001b[1;32m     14\u001b[0m \u001b[0mscores\u001b[0m \u001b[0;34m=\u001b[0m \u001b[0;34m[\u001b[0m\u001b[0;34m]\u001b[0m\u001b[0;34m\u001b[0m\u001b[0;34m\u001b[0m\u001b[0m\n\u001b[1;32m     15\u001b[0m \u001b[0;32mfor\u001b[0m \u001b[0mbatch\u001b[0m \u001b[0;32min\u001b[0m \u001b[0mnp\u001b[0m\u001b[0;34m.\u001b[0m\u001b[0marray_split\u001b[0m\u001b[0;34m(\u001b[0m\u001b[0msts_data\u001b[0m\u001b[0;34m,\u001b[0m \u001b[0;36m10\u001b[0m\u001b[0;34m)\u001b[0m\u001b[0;34m:\u001b[0m\u001b[0;34m\u001b[0m\u001b[0;34m\u001b[0m\u001b[0m\n\u001b[0;32m---> 16\u001b[0;31m   \u001b[0mscores\u001b[0m\u001b[0;34m.\u001b[0m\u001b[0mextend\u001b[0m\u001b[0;34m(\u001b[0m\u001b[0mrun_sts_benchmark\u001b[0m\u001b[0;34m(\u001b[0m\u001b[0mbatch\u001b[0m\u001b[0;34m)\u001b[0m\u001b[0;34m)\u001b[0m\u001b[0;34m\u001b[0m\u001b[0;34m\u001b[0m\u001b[0m\n\u001b[0m\u001b[1;32m     17\u001b[0m   \u001b[0mcount\u001b[0m\u001b[0;34m+=\u001b[0m\u001b[0;36m1\u001b[0m\u001b[0;34m\u001b[0m\u001b[0;34m\u001b[0m\u001b[0m\n\u001b[1;32m     18\u001b[0m \u001b[0mprint\u001b[0m\u001b[0;34m(\u001b[0m\u001b[0mscores\u001b[0m\u001b[0;34m)\u001b[0m\u001b[0;34m\u001b[0m\u001b[0;34m\u001b[0m\u001b[0m\n",
            "\u001b[0;32m<ipython-input-470-bc9b0a2b5781>\u001b[0m in \u001b[0;36mrun_sts_benchmark\u001b[0;34m(batch)\u001b[0m\n\u001b[1;32m      2\u001b[0m \u001b[0;34m\u001b[0m\u001b[0m\n\u001b[1;32m      3\u001b[0m \u001b[0;32mdef\u001b[0m \u001b[0mrun_sts_benchmark\u001b[0m\u001b[0;34m(\u001b[0m\u001b[0mbatch\u001b[0m\u001b[0;34m)\u001b[0m\u001b[0;34m:\u001b[0m\u001b[0;34m\u001b[0m\u001b[0;34m\u001b[0m\u001b[0m\n\u001b[0;32m----> 4\u001b[0;31m   \u001b[0mcorpus_embeddings\u001b[0m\u001b[0;34m=\u001b[0m\u001b[0mmodel\u001b[0m\u001b[0;34m.\u001b[0m\u001b[0mencode\u001b[0m\u001b[0;34m(\u001b[0m\u001b[0mbatch\u001b[0m\u001b[0;34m[\u001b[0m\u001b[0;34m'sent_1'\u001b[0m\u001b[0;34m]\u001b[0m\u001b[0;34m.\u001b[0m\u001b[0mtolist\u001b[0m\u001b[0;34m(\u001b[0m\u001b[0;34m)\u001b[0m\u001b[0;34m,\u001b[0m \u001b[0mconvert_to_tensor\u001b[0m\u001b[0;34m=\u001b[0m\u001b[0;32mTrue\u001b[0m\u001b[0;34m)\u001b[0m\u001b[0;34m\u001b[0m\u001b[0;34m\u001b[0m\u001b[0m\n\u001b[0m\u001b[1;32m      5\u001b[0m   \u001b[0mquery_embedding\u001b[0m\u001b[0;34m=\u001b[0m\u001b[0mmodel\u001b[0m\u001b[0;34m.\u001b[0m\u001b[0mencode\u001b[0m\u001b[0;34m(\u001b[0m\u001b[0mbatch\u001b[0m\u001b[0;34m[\u001b[0m\u001b[0;34m'sent_2'\u001b[0m\u001b[0;34m]\u001b[0m\u001b[0;34m.\u001b[0m\u001b[0mtolist\u001b[0m\u001b[0;34m(\u001b[0m\u001b[0;34m)\u001b[0m\u001b[0;34m,\u001b[0m \u001b[0mconvert_to_tensor\u001b[0m\u001b[0;34m=\u001b[0m\u001b[0;32mTrue\u001b[0m\u001b[0;34m)\u001b[0m\u001b[0;34m\u001b[0m\u001b[0;34m\u001b[0m\u001b[0m\n\u001b[1;32m      6\u001b[0m   \u001b[0mcosine_similarities\u001b[0m \u001b[0;34m=\u001b[0m \u001b[0mutil\u001b[0m\u001b[0;34m.\u001b[0m\u001b[0mcos_sim\u001b[0m\u001b[0;34m(\u001b[0m\u001b[0mquery_embedding\u001b[0m\u001b[0;34m,\u001b[0m\u001b[0mcorpus_embeddings\u001b[0m\u001b[0;34m)\u001b[0m\u001b[0;34m\u001b[0m\u001b[0;34m\u001b[0m\u001b[0m\n",
            "\u001b[0;31mAttributeError\u001b[0m: '_UserObject' object has no attribute 'encode'"
          ]
        }
      ]
    },
    {
      "cell_type": "code",
      "metadata": {
        "id": "YJLx6QUsCamN"
      },
      "source": [
        ""
      ],
      "execution_count": null,
      "outputs": []
    }
  ]
}